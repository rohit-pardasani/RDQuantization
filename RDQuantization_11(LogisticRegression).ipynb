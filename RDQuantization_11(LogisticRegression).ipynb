{
 "cells": [
  {
   "cell_type": "code",
   "execution_count": 1,
   "metadata": {},
   "outputs": [],
   "source": [
    "# Importing the libraries\n",
    "import numpy as np\n",
    "import matplotlib.pyplot as plt\n",
    "import pandas as pd\n",
    "import os\n",
    "from patsy import dmatrices\n",
    "import statsmodels.api as sm\n",
    "from utilities import *"
   ]
  },
  {
   "cell_type": "code",
   "execution_count": 2,
   "metadata": {},
   "outputs": [
    {
     "data": {
      "text/html": [
       "<div>\n",
       "<style scoped>\n",
       "    .dataframe tbody tr th:only-of-type {\n",
       "        vertical-align: middle;\n",
       "    }\n",
       "\n",
       "    .dataframe tbody tr th {\n",
       "        vertical-align: top;\n",
       "    }\n",
       "\n",
       "    .dataframe thead th {\n",
       "        text-align: right;\n",
       "    }\n",
       "</style>\n",
       "<table border=\"1\" class=\"dataframe\">\n",
       "  <thead>\n",
       "    <tr style=\"text-align: right;\">\n",
       "      <th></th>\n",
       "      <th>SegmentId</th>\n",
       "      <th>RecordNum</th>\n",
       "      <th>StartingTime</th>\n",
       "      <th>RRBreach</th>\n",
       "      <th>SpO2Breach</th>\n",
       "      <th>RRHighRegions</th>\n",
       "      <th>SpO2LowRegions</th>\n",
       "      <th>Stage1OccurL</th>\n",
       "      <th>Stage2OccurL</th>\n",
       "      <th>Stage3OccurL</th>\n",
       "      <th>RRUnsafeRegions</th>\n",
       "      <th>SpO2UnsafeRegions</th>\n",
       "      <th>Stage1OccurH</th>\n",
       "      <th>Stage2OccurH</th>\n",
       "      <th>Stage3OccurH</th>\n",
       "      <th>FeatureSum</th>\n",
       "      <th>Type1Pattern</th>\n",
       "    </tr>\n",
       "  </thead>\n",
       "  <tbody>\n",
       "    <tr>\n",
       "      <th>0</th>\n",
       "      <td>Seg0</td>\n",
       "      <td>3861446</td>\n",
       "      <td>30.0</td>\n",
       "      <td>0</td>\n",
       "      <td>0</td>\n",
       "      <td>0</td>\n",
       "      <td>0</td>\n",
       "      <td>2</td>\n",
       "      <td>0</td>\n",
       "      <td>1</td>\n",
       "      <td>12</td>\n",
       "      <td>7</td>\n",
       "      <td>1</td>\n",
       "      <td>0</td>\n",
       "      <td>0</td>\n",
       "      <td>23</td>\n",
       "      <td>1</td>\n",
       "    </tr>\n",
       "    <tr>\n",
       "      <th>1</th>\n",
       "      <td>Seg1</td>\n",
       "      <td>3861446</td>\n",
       "      <td>31.0</td>\n",
       "      <td>0</td>\n",
       "      <td>0</td>\n",
       "      <td>0</td>\n",
       "      <td>0</td>\n",
       "      <td>3</td>\n",
       "      <td>0</td>\n",
       "      <td>1</td>\n",
       "      <td>12</td>\n",
       "      <td>7</td>\n",
       "      <td>1</td>\n",
       "      <td>0</td>\n",
       "      <td>0</td>\n",
       "      <td>24</td>\n",
       "      <td>1</td>\n",
       "    </tr>\n",
       "    <tr>\n",
       "      <th>2</th>\n",
       "      <td>Seg2</td>\n",
       "      <td>3861446</td>\n",
       "      <td>32.0</td>\n",
       "      <td>0</td>\n",
       "      <td>0</td>\n",
       "      <td>0</td>\n",
       "      <td>0</td>\n",
       "      <td>2</td>\n",
       "      <td>0</td>\n",
       "      <td>1</td>\n",
       "      <td>12</td>\n",
       "      <td>6</td>\n",
       "      <td>1</td>\n",
       "      <td>0</td>\n",
       "      <td>0</td>\n",
       "      <td>22</td>\n",
       "      <td>1</td>\n",
       "    </tr>\n",
       "    <tr>\n",
       "      <th>3</th>\n",
       "      <td>Seg3</td>\n",
       "      <td>3861446</td>\n",
       "      <td>4.0</td>\n",
       "      <td>0</td>\n",
       "      <td>1</td>\n",
       "      <td>0</td>\n",
       "      <td>1</td>\n",
       "      <td>5</td>\n",
       "      <td>1</td>\n",
       "      <td>1</td>\n",
       "      <td>2</td>\n",
       "      <td>3</td>\n",
       "      <td>0</td>\n",
       "      <td>0</td>\n",
       "      <td>0</td>\n",
       "      <td>14</td>\n",
       "      <td>1</td>\n",
       "    </tr>\n",
       "    <tr>\n",
       "      <th>4</th>\n",
       "      <td>Seg4</td>\n",
       "      <td>3861446</td>\n",
       "      <td>8.0</td>\n",
       "      <td>0</td>\n",
       "      <td>1</td>\n",
       "      <td>0</td>\n",
       "      <td>1</td>\n",
       "      <td>4</td>\n",
       "      <td>1</td>\n",
       "      <td>1</td>\n",
       "      <td>4</td>\n",
       "      <td>4</td>\n",
       "      <td>1</td>\n",
       "      <td>0</td>\n",
       "      <td>0</td>\n",
       "      <td>17</td>\n",
       "      <td>1</td>\n",
       "    </tr>\n",
       "  </tbody>\n",
       "</table>\n",
       "</div>"
      ],
      "text/plain": [
       "  SegmentId  RecordNum  StartingTime  RRBreach  SpO2Breach  RRHighRegions  \\\n",
       "0      Seg0    3861446          30.0         0           0              0   \n",
       "1      Seg1    3861446          31.0         0           0              0   \n",
       "2      Seg2    3861446          32.0         0           0              0   \n",
       "3      Seg3    3861446           4.0         0           1              0   \n",
       "4      Seg4    3861446           8.0         0           1              0   \n",
       "\n",
       "   SpO2LowRegions  Stage1OccurL  Stage2OccurL  Stage3OccurL  RRUnsafeRegions  \\\n",
       "0               0             2             0             1               12   \n",
       "1               0             3             0             1               12   \n",
       "2               0             2             0             1               12   \n",
       "3               1             5             1             1                2   \n",
       "4               1             4             1             1                4   \n",
       "\n",
       "   SpO2UnsafeRegions  Stage1OccurH  Stage2OccurH  Stage3OccurH  FeatureSum  \\\n",
       "0                  7             1             0             0          23   \n",
       "1                  7             1             0             0          24   \n",
       "2                  6             1             0             0          22   \n",
       "3                  3             0             0             0          14   \n",
       "4                  4             1             0             0          17   \n",
       "\n",
       "   Type1Pattern  \n",
       "0             1  \n",
       "1             1  \n",
       "2             1  \n",
       "3             1  \n",
       "4             1  "
      ]
     },
     "metadata": {},
     "output_type": "display_data"
    }
   ],
   "source": [
    "# importing the feature file\n",
    "datafile_path= './'\n",
    "datafile_name= 'SegmentFeatures2.csv'\n",
    "data= pd.read_csv(datafile_path+datafile_name, delimiter=',')\n",
    "display(data.head())"
   ]
  },
  {
   "cell_type": "code",
   "execution_count": 3,
   "metadata": {},
   "outputs": [
    {
     "data": {
      "text/html": [
       "<div>\n",
       "<style scoped>\n",
       "    .dataframe tbody tr th:only-of-type {\n",
       "        vertical-align: middle;\n",
       "    }\n",
       "\n",
       "    .dataframe tbody tr th {\n",
       "        vertical-align: top;\n",
       "    }\n",
       "\n",
       "    .dataframe thead th {\n",
       "        text-align: right;\n",
       "    }\n",
       "</style>\n",
       "<table border=\"1\" class=\"dataframe\">\n",
       "  <thead>\n",
       "    <tr style=\"text-align: right;\">\n",
       "      <th></th>\n",
       "      <th>RRBreach</th>\n",
       "      <th>SpO2Breach</th>\n",
       "      <th>RRHighRegions</th>\n",
       "      <th>SpO2LowRegions</th>\n",
       "      <th>Stage1OccurL</th>\n",
       "      <th>Stage2OccurL</th>\n",
       "      <th>Stage3OccurL</th>\n",
       "      <th>RRUnsafeRegions</th>\n",
       "      <th>SpO2UnsafeRegions</th>\n",
       "      <th>Stage1OccurH</th>\n",
       "      <th>Stage2OccurH</th>\n",
       "      <th>Stage3OccurH</th>\n",
       "    </tr>\n",
       "  </thead>\n",
       "  <tbody>\n",
       "    <tr>\n",
       "      <th>0</th>\n",
       "      <td>0</td>\n",
       "      <td>0</td>\n",
       "      <td>0</td>\n",
       "      <td>0</td>\n",
       "      <td>2</td>\n",
       "      <td>0</td>\n",
       "      <td>1</td>\n",
       "      <td>12</td>\n",
       "      <td>7</td>\n",
       "      <td>1</td>\n",
       "      <td>0</td>\n",
       "      <td>0</td>\n",
       "    </tr>\n",
       "    <tr>\n",
       "      <th>1</th>\n",
       "      <td>0</td>\n",
       "      <td>0</td>\n",
       "      <td>0</td>\n",
       "      <td>0</td>\n",
       "      <td>3</td>\n",
       "      <td>0</td>\n",
       "      <td>1</td>\n",
       "      <td>12</td>\n",
       "      <td>7</td>\n",
       "      <td>1</td>\n",
       "      <td>0</td>\n",
       "      <td>0</td>\n",
       "    </tr>\n",
       "    <tr>\n",
       "      <th>2</th>\n",
       "      <td>0</td>\n",
       "      <td>0</td>\n",
       "      <td>0</td>\n",
       "      <td>0</td>\n",
       "      <td>2</td>\n",
       "      <td>0</td>\n",
       "      <td>1</td>\n",
       "      <td>12</td>\n",
       "      <td>6</td>\n",
       "      <td>1</td>\n",
       "      <td>0</td>\n",
       "      <td>0</td>\n",
       "    </tr>\n",
       "    <tr>\n",
       "      <th>3</th>\n",
       "      <td>0</td>\n",
       "      <td>1</td>\n",
       "      <td>0</td>\n",
       "      <td>1</td>\n",
       "      <td>5</td>\n",
       "      <td>1</td>\n",
       "      <td>1</td>\n",
       "      <td>2</td>\n",
       "      <td>3</td>\n",
       "      <td>0</td>\n",
       "      <td>0</td>\n",
       "      <td>0</td>\n",
       "    </tr>\n",
       "    <tr>\n",
       "      <th>4</th>\n",
       "      <td>0</td>\n",
       "      <td>1</td>\n",
       "      <td>0</td>\n",
       "      <td>1</td>\n",
       "      <td>4</td>\n",
       "      <td>1</td>\n",
       "      <td>1</td>\n",
       "      <td>4</td>\n",
       "      <td>4</td>\n",
       "      <td>1</td>\n",
       "      <td>0</td>\n",
       "      <td>0</td>\n",
       "    </tr>\n",
       "  </tbody>\n",
       "</table>\n",
       "</div>"
      ],
      "text/plain": [
       "   RRBreach  SpO2Breach  RRHighRegions  SpO2LowRegions  Stage1OccurL  \\\n",
       "0         0           0              0               0             2   \n",
       "1         0           0              0               0             3   \n",
       "2         0           0              0               0             2   \n",
       "3         0           1              0               1             5   \n",
       "4         0           1              0               1             4   \n",
       "\n",
       "   Stage2OccurL  Stage3OccurL  RRUnsafeRegions  SpO2UnsafeRegions  \\\n",
       "0             0             1               12                  7   \n",
       "1             0             1               12                  7   \n",
       "2             0             1               12                  6   \n",
       "3             1             1                2                  3   \n",
       "4             1             1                4                  4   \n",
       "\n",
       "   Stage1OccurH  Stage2OccurH  Stage3OccurH  \n",
       "0             1             0             0  \n",
       "1             1             0             0  \n",
       "2             1             0             0  \n",
       "3             0             0             0  \n",
       "4             1             0             0  "
      ]
     },
     "execution_count": 3,
     "metadata": {},
     "output_type": "execute_result"
    }
   ],
   "source": [
    "X=data[['RRBreach', 'SpO2Breach',\n",
    "       'RRHighRegions', 'SpO2LowRegions', 'Stage1OccurL', 'Stage2OccurL',\n",
    "       'Stage3OccurL', 'RRUnsafeRegions', 'SpO2UnsafeRegions', 'Stage1OccurH',\n",
    "       'Stage2OccurH', 'Stage3OccurH']]\n",
    "X.head()"
   ]
  },
  {
   "cell_type": "code",
   "execution_count": 4,
   "metadata": {},
   "outputs": [
    {
     "data": {
      "text/html": [
       "<div>\n",
       "<style scoped>\n",
       "    .dataframe tbody tr th:only-of-type {\n",
       "        vertical-align: middle;\n",
       "    }\n",
       "\n",
       "    .dataframe tbody tr th {\n",
       "        vertical-align: top;\n",
       "    }\n",
       "\n",
       "    .dataframe thead th {\n",
       "        text-align: right;\n",
       "    }\n",
       "</style>\n",
       "<table border=\"1\" class=\"dataframe\">\n",
       "  <thead>\n",
       "    <tr style=\"text-align: right;\">\n",
       "      <th></th>\n",
       "      <th>Type1Pattern</th>\n",
       "    </tr>\n",
       "  </thead>\n",
       "  <tbody>\n",
       "    <tr>\n",
       "      <th>0</th>\n",
       "      <td>1</td>\n",
       "    </tr>\n",
       "    <tr>\n",
       "      <th>1</th>\n",
       "      <td>1</td>\n",
       "    </tr>\n",
       "    <tr>\n",
       "      <th>2</th>\n",
       "      <td>1</td>\n",
       "    </tr>\n",
       "    <tr>\n",
       "      <th>3</th>\n",
       "      <td>1</td>\n",
       "    </tr>\n",
       "    <tr>\n",
       "      <th>4</th>\n",
       "      <td>1</td>\n",
       "    </tr>\n",
       "  </tbody>\n",
       "</table>\n",
       "</div>"
      ],
      "text/plain": [
       "   Type1Pattern\n",
       "0             1\n",
       "1             1\n",
       "2             1\n",
       "3             1\n",
       "4             1"
      ]
     },
     "execution_count": 4,
     "metadata": {},
     "output_type": "execute_result"
    }
   ],
   "source": [
    "Y=data[['Type1Pattern']]\n",
    "Y.head()"
   ]
  },
  {
   "cell_type": "code",
   "execution_count": 5,
   "metadata": {},
   "outputs": [
    {
     "data": {
      "text/html": [
       "<div>\n",
       "<style scoped>\n",
       "    .dataframe tbody tr th:only-of-type {\n",
       "        vertical-align: middle;\n",
       "    }\n",
       "\n",
       "    .dataframe tbody tr th {\n",
       "        vertical-align: top;\n",
       "    }\n",
       "\n",
       "    .dataframe thead th {\n",
       "        text-align: right;\n",
       "    }\n",
       "</style>\n",
       "<table border=\"1\" class=\"dataframe\">\n",
       "  <thead>\n",
       "    <tr style=\"text-align: right;\">\n",
       "      <th></th>\n",
       "      <th>RRBreach</th>\n",
       "      <th>SpO2Breach</th>\n",
       "      <th>RRHighRegions</th>\n",
       "      <th>SpO2LowRegions</th>\n",
       "      <th>Stage1OccurL</th>\n",
       "      <th>Stage2OccurL</th>\n",
       "      <th>Stage3OccurL</th>\n",
       "      <th>RRUnsafeRegions</th>\n",
       "      <th>SpO2UnsafeRegions</th>\n",
       "      <th>Stage1OccurH</th>\n",
       "      <th>Stage2OccurH</th>\n",
       "      <th>Stage3OccurH</th>\n",
       "    </tr>\n",
       "  </thead>\n",
       "  <tbody>\n",
       "    <tr>\n",
       "      <th>RRBreach</th>\n",
       "      <td>1.000000</td>\n",
       "      <td>0.246275</td>\n",
       "      <td>0.739183</td>\n",
       "      <td>0.197097</td>\n",
       "      <td>-0.303580</td>\n",
       "      <td>-0.070675</td>\n",
       "      <td>-0.070825</td>\n",
       "      <td>0.372319</td>\n",
       "      <td>0.154951</td>\n",
       "      <td>0.682676</td>\n",
       "      <td>0.377002</td>\n",
       "      <td>0.334912</td>\n",
       "    </tr>\n",
       "    <tr>\n",
       "      <th>SpO2Breach</th>\n",
       "      <td>0.246275</td>\n",
       "      <td>1.000000</td>\n",
       "      <td>0.176912</td>\n",
       "      <td>0.587659</td>\n",
       "      <td>-0.174370</td>\n",
       "      <td>0.143145</td>\n",
       "      <td>-0.021362</td>\n",
       "      <td>0.167065</td>\n",
       "      <td>0.492806</td>\n",
       "      <td>0.204049</td>\n",
       "      <td>0.459645</td>\n",
       "      <td>0.368877</td>\n",
       "    </tr>\n",
       "    <tr>\n",
       "      <th>RRHighRegions</th>\n",
       "      <td>0.739183</td>\n",
       "      <td>0.176912</td>\n",
       "      <td>1.000000</td>\n",
       "      <td>0.110094</td>\n",
       "      <td>-0.324040</td>\n",
       "      <td>-0.132607</td>\n",
       "      <td>-0.118245</td>\n",
       "      <td>0.012596</td>\n",
       "      <td>0.131423</td>\n",
       "      <td>0.588039</td>\n",
       "      <td>0.219365</td>\n",
       "      <td>0.281808</td>\n",
       "    </tr>\n",
       "    <tr>\n",
       "      <th>SpO2LowRegions</th>\n",
       "      <td>0.197097</td>\n",
       "      <td>0.587659</td>\n",
       "      <td>0.110094</td>\n",
       "      <td>1.000000</td>\n",
       "      <td>-0.197587</td>\n",
       "      <td>0.034151</td>\n",
       "      <td>-0.041974</td>\n",
       "      <td>0.137198</td>\n",
       "      <td>0.290464</td>\n",
       "      <td>0.132018</td>\n",
       "      <td>0.305015</td>\n",
       "      <td>0.402689</td>\n",
       "    </tr>\n",
       "    <tr>\n",
       "      <th>Stage1OccurL</th>\n",
       "      <td>-0.303580</td>\n",
       "      <td>-0.174370</td>\n",
       "      <td>-0.324040</td>\n",
       "      <td>-0.197587</td>\n",
       "      <td>1.000000</td>\n",
       "      <td>0.048722</td>\n",
       "      <td>0.150371</td>\n",
       "      <td>-0.304940</td>\n",
       "      <td>-0.241225</td>\n",
       "      <td>-0.274229</td>\n",
       "      <td>-0.124073</td>\n",
       "      <td>-0.171272</td>\n",
       "    </tr>\n",
       "    <tr>\n",
       "      <th>Stage2OccurL</th>\n",
       "      <td>-0.070675</td>\n",
       "      <td>0.143145</td>\n",
       "      <td>-0.132607</td>\n",
       "      <td>0.034151</td>\n",
       "      <td>0.048722</td>\n",
       "      <td>1.000000</td>\n",
       "      <td>0.043365</td>\n",
       "      <td>-0.064037</td>\n",
       "      <td>0.027976</td>\n",
       "      <td>-0.040064</td>\n",
       "      <td>0.112561</td>\n",
       "      <td>0.059158</td>\n",
       "    </tr>\n",
       "    <tr>\n",
       "      <th>Stage3OccurL</th>\n",
       "      <td>-0.070825</td>\n",
       "      <td>-0.021362</td>\n",
       "      <td>-0.118245</td>\n",
       "      <td>-0.041974</td>\n",
       "      <td>0.150371</td>\n",
       "      <td>0.043365</td>\n",
       "      <td>1.000000</td>\n",
       "      <td>-0.067263</td>\n",
       "      <td>-0.052458</td>\n",
       "      <td>-0.093636</td>\n",
       "      <td>0.023341</td>\n",
       "      <td>0.016374</td>\n",
       "    </tr>\n",
       "    <tr>\n",
       "      <th>RRUnsafeRegions</th>\n",
       "      <td>0.372319</td>\n",
       "      <td>0.167065</td>\n",
       "      <td>0.012596</td>\n",
       "      <td>0.137198</td>\n",
       "      <td>-0.304940</td>\n",
       "      <td>-0.064037</td>\n",
       "      <td>-0.067263</td>\n",
       "      <td>1.000000</td>\n",
       "      <td>0.088887</td>\n",
       "      <td>0.370212</td>\n",
       "      <td>0.184638</td>\n",
       "      <td>0.143829</td>\n",
       "    </tr>\n",
       "    <tr>\n",
       "      <th>SpO2UnsafeRegions</th>\n",
       "      <td>0.154951</td>\n",
       "      <td>0.492806</td>\n",
       "      <td>0.131423</td>\n",
       "      <td>0.290464</td>\n",
       "      <td>-0.241225</td>\n",
       "      <td>0.027976</td>\n",
       "      <td>-0.052458</td>\n",
       "      <td>0.088887</td>\n",
       "      <td>1.000000</td>\n",
       "      <td>0.255344</td>\n",
       "      <td>0.216397</td>\n",
       "      <td>0.100240</td>\n",
       "    </tr>\n",
       "    <tr>\n",
       "      <th>Stage1OccurH</th>\n",
       "      <td>0.682676</td>\n",
       "      <td>0.204049</td>\n",
       "      <td>0.588039</td>\n",
       "      <td>0.132018</td>\n",
       "      <td>-0.274229</td>\n",
       "      <td>-0.040064</td>\n",
       "      <td>-0.093636</td>\n",
       "      <td>0.370212</td>\n",
       "      <td>0.255344</td>\n",
       "      <td>1.000000</td>\n",
       "      <td>0.207792</td>\n",
       "      <td>0.242606</td>\n",
       "    </tr>\n",
       "    <tr>\n",
       "      <th>Stage2OccurH</th>\n",
       "      <td>0.377002</td>\n",
       "      <td>0.459645</td>\n",
       "      <td>0.219365</td>\n",
       "      <td>0.305015</td>\n",
       "      <td>-0.124073</td>\n",
       "      <td>0.112561</td>\n",
       "      <td>0.023341</td>\n",
       "      <td>0.184638</td>\n",
       "      <td>0.216397</td>\n",
       "      <td>0.207792</td>\n",
       "      <td>1.000000</td>\n",
       "      <td>0.220693</td>\n",
       "    </tr>\n",
       "    <tr>\n",
       "      <th>Stage3OccurH</th>\n",
       "      <td>0.334912</td>\n",
       "      <td>0.368877</td>\n",
       "      <td>0.281808</td>\n",
       "      <td>0.402689</td>\n",
       "      <td>-0.171272</td>\n",
       "      <td>0.059158</td>\n",
       "      <td>0.016374</td>\n",
       "      <td>0.143829</td>\n",
       "      <td>0.100240</td>\n",
       "      <td>0.242606</td>\n",
       "      <td>0.220693</td>\n",
       "      <td>1.000000</td>\n",
       "    </tr>\n",
       "  </tbody>\n",
       "</table>\n",
       "</div>"
      ],
      "text/plain": [
       "                   RRBreach  SpO2Breach  RRHighRegions  SpO2LowRegions  \\\n",
       "RRBreach           1.000000    0.246275       0.739183        0.197097   \n",
       "SpO2Breach         0.246275    1.000000       0.176912        0.587659   \n",
       "RRHighRegions      0.739183    0.176912       1.000000        0.110094   \n",
       "SpO2LowRegions     0.197097    0.587659       0.110094        1.000000   \n",
       "Stage1OccurL      -0.303580   -0.174370      -0.324040       -0.197587   \n",
       "Stage2OccurL      -0.070675    0.143145      -0.132607        0.034151   \n",
       "Stage3OccurL      -0.070825   -0.021362      -0.118245       -0.041974   \n",
       "RRUnsafeRegions    0.372319    0.167065       0.012596        0.137198   \n",
       "SpO2UnsafeRegions  0.154951    0.492806       0.131423        0.290464   \n",
       "Stage1OccurH       0.682676    0.204049       0.588039        0.132018   \n",
       "Stage2OccurH       0.377002    0.459645       0.219365        0.305015   \n",
       "Stage3OccurH       0.334912    0.368877       0.281808        0.402689   \n",
       "\n",
       "                   Stage1OccurL  Stage2OccurL  Stage3OccurL  RRUnsafeRegions  \\\n",
       "RRBreach              -0.303580     -0.070675     -0.070825         0.372319   \n",
       "SpO2Breach            -0.174370      0.143145     -0.021362         0.167065   \n",
       "RRHighRegions         -0.324040     -0.132607     -0.118245         0.012596   \n",
       "SpO2LowRegions        -0.197587      0.034151     -0.041974         0.137198   \n",
       "Stage1OccurL           1.000000      0.048722      0.150371        -0.304940   \n",
       "Stage2OccurL           0.048722      1.000000      0.043365        -0.064037   \n",
       "Stage3OccurL           0.150371      0.043365      1.000000        -0.067263   \n",
       "RRUnsafeRegions       -0.304940     -0.064037     -0.067263         1.000000   \n",
       "SpO2UnsafeRegions     -0.241225      0.027976     -0.052458         0.088887   \n",
       "Stage1OccurH          -0.274229     -0.040064     -0.093636         0.370212   \n",
       "Stage2OccurH          -0.124073      0.112561      0.023341         0.184638   \n",
       "Stage3OccurH          -0.171272      0.059158      0.016374         0.143829   \n",
       "\n",
       "                   SpO2UnsafeRegions  Stage1OccurH  Stage2OccurH  Stage3OccurH  \n",
       "RRBreach                    0.154951      0.682676      0.377002      0.334912  \n",
       "SpO2Breach                  0.492806      0.204049      0.459645      0.368877  \n",
       "RRHighRegions               0.131423      0.588039      0.219365      0.281808  \n",
       "SpO2LowRegions              0.290464      0.132018      0.305015      0.402689  \n",
       "Stage1OccurL               -0.241225     -0.274229     -0.124073     -0.171272  \n",
       "Stage2OccurL                0.027976     -0.040064      0.112561      0.059158  \n",
       "Stage3OccurL               -0.052458     -0.093636      0.023341      0.016374  \n",
       "RRUnsafeRegions             0.088887      0.370212      0.184638      0.143829  \n",
       "SpO2UnsafeRegions           1.000000      0.255344      0.216397      0.100240  \n",
       "Stage1OccurH                0.255344      1.000000      0.207792      0.242606  \n",
       "Stage2OccurH                0.216397      0.207792      1.000000      0.220693  \n",
       "Stage3OccurH                0.100240      0.242606      0.220693      1.000000  "
      ]
     },
     "metadata": {},
     "output_type": "display_data"
    }
   ],
   "source": [
    "corr=X.corr()\n",
    "display(corr)"
   ]
  },
  {
   "cell_type": "markdown",
   "metadata": {},
   "source": [
    "# Analyzing correlation among features\n"
   ]
  },
  {
   "cell_type": "code",
   "execution_count": 6,
   "metadata": {},
   "outputs": [],
   "source": [
    "# function to display heatmap\n",
    "\n",
    "# the bigger the size of boxes, the more the correlation\n",
    "def heatmap(x, y, size):\n",
    "    fig, ax = plt.subplots()\n",
    "    \n",
    "    # Mapping from column names to integer coordinates\n",
    "    x_labels = [v for v in sorted(x.unique())]\n",
    "    y_labels = [v for v in sorted(y.unique())]\n",
    "    x_to_num = {p[1]:p[0] for p in enumerate(x_labels)} \n",
    "    y_to_num = {p[1]:p[0] for p in enumerate(y_labels)} \n",
    "    \n",
    "    size_scale = 500\n",
    "    ax.scatter(\n",
    "        x=x.map(x_to_num), # Use mapping for x\n",
    "        y=y.map(y_to_num), # Use mapping for y\n",
    "        s=size * size_scale, # Vector of square sizes, proportional to size parameter\n",
    "        marker='s' # Use square as scatterplot marker\n",
    "    )\n",
    "    \n",
    "    # Show column labels on the axes\n",
    "    ax.set_xticks([x_to_num[v] for v in x_labels])\n",
    "    ax.set_xticklabels(x_labels, rotation=45, horizontalalignment='right')\n",
    "    ax.set_yticks([y_to_num[v] for v in y_labels])\n",
    "    ax.set_yticklabels(y_labels)"
   ]
  },
  {
   "cell_type": "code",
   "execution_count": 7,
   "metadata": {},
   "outputs": [
    {
     "data": {
      "image/png": "[encoded data removed]",
      "text/plain": [
       "<Figure size 432x288 with 1 Axes>"
      ]
     },
     "metadata": {
      "needs_background": "light"
     },
     "output_type": "display_data"
    }
   ],
   "source": [
    "import seaborn as sns\n",
    "corr = pd.melt(corr.reset_index(), id_vars='index') # Unpivot the dataframe, so we can get pair of arrays for x and y\n",
    "corr.columns = ['x', 'y', 'value']\n",
    "\n",
    "heatmap(\n",
    "    x=corr['x'],\n",
    "    y=corr['y'],\n",
    "    size=corr['value'].abs()\n",
    ")"
   ]
  },
  {
   "cell_type": "markdown",
   "metadata": {},
   "source": [
    "# Splitting the Training and Test Set in 3:1 ratio\n"
   ]
  },
  {
   "cell_type": "code",
   "execution_count": 8,
   "metadata": {},
   "outputs": [
    {
     "data": {
      "text/plain": [
       "0    51.851852\n",
       "1    48.148148\n",
       "Name: Type1Pattern, dtype: float64"
      ]
     },
     "metadata": {},
     "output_type": "display_data"
    },
    {
     "data": {
      "text/plain": [
       "1    50.353357\n",
       "0    49.646643\n",
       "Name: Type1Pattern, dtype: float64"
      ]
     },
     "metadata": {},
     "output_type": "display_data"
    },
    {
     "name": "stdout",
     "output_type": "stream",
     "text": [
      "(1132,)\n",
      "(378,)\n"
     ]
    }
   ],
   "source": [
    "# Splitting the dataset into the Training set and Test set\n",
    "from sklearn.model_selection import train_test_split\n",
    "X_train, X_test, y_train, y_test = train_test_split(X, Y, test_size = 1/4,random_state = 10)\n",
    "display(y_test['Type1Pattern'].value_counts(normalize=True) * 100)\n",
    "display(y_train['Type1Pattern'].value_counts(normalize=True) * 100)\n",
    "y_train = y_train.values.ravel()\n",
    "y_test = y_test.values.ravel()\n",
    "print(np.shape(y_train))\n",
    "print(np.shape(y_test))"
   ]
  },
  {
   "cell_type": "markdown",
   "metadata": {},
   "source": [
    "# Logistic Regression with Default Params"
   ]
  },
  {
   "cell_type": "code",
   "execution_count": 9,
   "metadata": {},
   "outputs": [
    {
     "name": "stdout",
     "output_type": "stream",
     "text": [
      "[[180  16]\n",
      " [ 11 171]]\n",
      "              precision    recall  f1-score   support\n",
      "\n",
      "           0       0.94      0.92      0.93       196\n",
      "           1       0.91      0.94      0.93       182\n",
      "\n",
      "    accuracy                           0.93       378\n",
      "   macro avg       0.93      0.93      0.93       378\n",
      "weighted avg       0.93      0.93      0.93       378\n",
      "\n"
     ]
    },
    {
     "data": {
      "image/png": "[encoded data removed]",
      "text/plain": [
       "<Figure size 432x288 with 1 Axes>"
      ]
     },
     "metadata": {
      "needs_background": "light"
     },
     "output_type": "display_data"
    },
    {
     "data": {
      "text/plain": [
       "0.5206046936976465"
      ]
     },
     "metadata": {},
     "output_type": "display_data"
    },
    {
     "name": "stdout",
     "output_type": "stream",
     "text": [
      "Model Classification stats with Optimal Threshold\n",
      "              precision    recall  f1-score   support\n",
      "\n",
      "           0       0.94      0.93      0.93       196\n",
      "           1       0.92      0.93      0.93       182\n",
      "\n",
      "    accuracy                           0.93       378\n",
      "   macro avg       0.93      0.93      0.93       378\n",
      "weighted avg       0.93      0.93      0.93       378\n",
      "\n"
     ]
    },
    {
     "data": {
      "text/html": [
       "<div>\n",
       "<style scoped>\n",
       "    .dataframe tbody tr th:only-of-type {\n",
       "        vertical-align: middle;\n",
       "    }\n",
       "\n",
       "    .dataframe tbody tr th {\n",
       "        vertical-align: top;\n",
       "    }\n",
       "\n",
       "    .dataframe thead th {\n",
       "        text-align: right;\n",
       "    }\n",
       "</style>\n",
       "<table border=\"1\" class=\"dataframe\">\n",
       "  <thead>\n",
       "    <tr style=\"text-align: right;\">\n",
       "      <th></th>\n",
       "      <th>Value</th>\n",
       "    </tr>\n",
       "  </thead>\n",
       "  <tbody>\n",
       "    <tr>\n",
       "      <th>accuracy</th>\n",
       "      <td>0.931217</td>\n",
       "    </tr>\n",
       "    <tr>\n",
       "      <th>recall</th>\n",
       "      <td>0.934066</td>\n",
       "    </tr>\n",
       "    <tr>\n",
       "      <th>precision</th>\n",
       "      <td>0.923913</td>\n",
       "    </tr>\n",
       "    <tr>\n",
       "      <th>f1-score</th>\n",
       "      <td>0.928962</td>\n",
       "    </tr>\n",
       "    <tr>\n",
       "      <th>roc_auc_score</th>\n",
       "      <td>0.969332</td>\n",
       "    </tr>\n",
       "  </tbody>\n",
       "</table>\n",
       "</div>"
      ],
      "text/plain": [
       "                  Value\n",
       "accuracy       0.931217\n",
       "recall         0.934066\n",
       "precision      0.923913\n",
       "f1-score       0.928962\n",
       "roc_auc_score  0.969332"
      ]
     },
     "metadata": {},
     "output_type": "display_data"
    }
   ],
   "source": [
    "from sklearn.linear_model import LogisticRegression\n",
    "clf = LogisticRegression(solver='lbfgs')\n",
    "model_logreg = clf.fit(X_train, y_train)\n",
    "\n",
    "metrics_analysis(X_test,y_test,model_logreg)\n",
    "\n",
    "optimal_threshold=plot_rocauc(X_test,y_test,model_logreg)\n",
    "\n",
    "print('Model Classification stats with Optimal Threshold')\n",
    "display_classification_metrics(X_test,y_test,model_logreg,optimal_threshold)"
   ]
  },
  {
   "cell_type": "markdown",
   "metadata": {},
   "source": [
    "# Finding the best model params using Grid Search CV\n"
   ]
  },
  {
   "cell_type": "code",
   "execution_count": 10,
   "metadata": {},
   "outputs": [
    {
     "name": "stdout",
     "output_type": "stream",
     "text": [
      "tuned hpyerparameters :(best parameters)  {'C': 1.0, 'penalty': 'l1'}\n",
      "accuracy : 0.8798586572438163\n"
     ]
    }
   ],
   "source": [
    "# Grid search cross validation\n",
    "from sklearn.model_selection import GridSearchCV\n",
    "from sklearn.linear_model import LogisticRegression\n",
    "\n",
    "grid={\"C\":np.logspace(-3,3,7), \"penalty\":[\"l1\",\"l2\"]}# l1 lasso l2 ridge\n",
    "logreg=LogisticRegression(random_state=10,solver=\"liblinear\")\n",
    "logreg_cv=GridSearchCV(logreg,grid, cv=5)\n",
    "logreg_cv.fit(X_train,y_train)\n",
    "\n",
    "print(\"tuned hpyerparameters :(best parameters) \",logreg_cv.best_params_)\n",
    "print(\"accuracy :\",logreg_cv.best_score_)"
   ]
  },
  {
   "cell_type": "markdown",
   "metadata": {},
   "source": [
    "# Fitting Logistic Regression with Best Params found using Grid Search\n"
   ]
  },
  {
   "cell_type": "code",
   "execution_count": 11,
   "metadata": {},
   "outputs": [
    {
     "data": {
      "text/plain": [
       "LogisticRegression(C=1.0, class_weight=None, dual=False, fit_intercept=True,\n",
       "                   intercept_scaling=1, l1_ratio=None, max_iter=100,\n",
       "                   multi_class='warn', n_jobs=None, penalty='l1',\n",
       "                   random_state=10, solver='liblinear', tol=0.0001, verbose=0,\n",
       "                   warm_start=False)"
      ]
     },
     "execution_count": 11,
     "metadata": {},
     "output_type": "execute_result"
    }
   ],
   "source": [
    "# Fitting Logistic Regression to the Training set\n",
    "from sklearn.linear_model import LogisticRegression\n",
    "#classifier = LogisticRegression(random_state = 0)\n",
    "logreg_bestparam = LogisticRegression(C=1.0, penalty='l1', solver='liblinear',random_state = 10)\n",
    "logreg_bestparam.fit(X_train, y_train)"
   ]
  },
  {
   "cell_type": "markdown",
   "metadata": {},
   "source": [
    "### Metric Analysis of the model with best params"
   ]
  },
  {
   "cell_type": "code",
   "execution_count": 12,
   "metadata": {},
   "outputs": [
    {
     "name": "stdout",
     "output_type": "stream",
     "text": [
      "[[180  16]\n",
      " [ 11 171]]\n",
      "              precision    recall  f1-score   support\n",
      "\n",
      "           0       0.94      0.92      0.93       196\n",
      "           1       0.91      0.94      0.93       182\n",
      "\n",
      "    accuracy                           0.93       378\n",
      "   macro avg       0.93      0.93      0.93       378\n",
      "weighted avg       0.93      0.93      0.93       378\n",
      "\n"
     ]
    },
    {
     "data": {
      "image/png": "[encoded data removed]",
      "text/plain": [
       "<Figure size 432x288 with 1 Axes>"
      ]
     },
     "metadata": {
      "needs_background": "light"
     },
     "output_type": "display_data"
    },
    {
     "data": {
      "text/plain": [
       "0.5264796783195619"
      ]
     },
     "metadata": {},
     "output_type": "display_data"
    },
    {
     "name": "stdout",
     "output_type": "stream",
     "text": [
      "Model Classification stats with Optimal Threshold\n",
      "              precision    recall  f1-score   support\n",
      "\n",
      "           0       0.93      0.93      0.93       196\n",
      "           1       0.92      0.93      0.93       182\n",
      "\n",
      "    accuracy                           0.93       378\n",
      "   macro avg       0.93      0.93      0.93       378\n",
      "weighted avg       0.93      0.93      0.93       378\n",
      "\n"
     ]
    },
    {
     "data": {
      "text/html": [
       "<div>\n",
       "<style scoped>\n",
       "    .dataframe tbody tr th:only-of-type {\n",
       "        vertical-align: middle;\n",
       "    }\n",
       "\n",
       "    .dataframe tbody tr th {\n",
       "        vertical-align: top;\n",
       "    }\n",
       "\n",
       "    .dataframe thead th {\n",
       "        text-align: right;\n",
       "    }\n",
       "</style>\n",
       "<table border=\"1\" class=\"dataframe\">\n",
       "  <thead>\n",
       "    <tr style=\"text-align: right;\">\n",
       "      <th></th>\n",
       "      <th>Value</th>\n",
       "    </tr>\n",
       "  </thead>\n",
       "  <tbody>\n",
       "    <tr>\n",
       "      <th>accuracy</th>\n",
       "      <td>0.928571</td>\n",
       "    </tr>\n",
       "    <tr>\n",
       "      <th>recall</th>\n",
       "      <td>0.928571</td>\n",
       "    </tr>\n",
       "    <tr>\n",
       "      <th>precision</th>\n",
       "      <td>0.923497</td>\n",
       "    </tr>\n",
       "    <tr>\n",
       "      <th>f1-score</th>\n",
       "      <td>0.926027</td>\n",
       "    </tr>\n",
       "    <tr>\n",
       "      <th>roc_auc_score</th>\n",
       "      <td>0.969192</td>\n",
       "    </tr>\n",
       "  </tbody>\n",
       "</table>\n",
       "</div>"
      ],
      "text/plain": [
       "                  Value\n",
       "accuracy       0.928571\n",
       "recall         0.928571\n",
       "precision      0.923497\n",
       "f1-score       0.926027\n",
       "roc_auc_score  0.969192"
      ]
     },
     "metadata": {},
     "output_type": "display_data"
    }
   ],
   "source": [
    "metrics_analysis(X_test,y_test,logreg_bestparam)\n",
    "\n",
    "optimal_threshold=plot_rocauc(X_test,y_test,logreg_bestparam)\n",
    "\n",
    "print('Model Classification stats with Optimal Threshold')\n",
    "display_classification_metrics(X_test,y_test,logreg_bestparam,optimal_threshold)"
   ]
  },
  {
   "cell_type": "markdown",
   "metadata": {},
   "source": [
    "#### Conclusion: Default parameters perform better. So default model will do."
   ]
  },
  {
   "cell_type": "markdown",
   "metadata": {},
   "source": [
    "### -------------------Final Model-----------------------------\n",
    "##### Splitting into training and testing\n",
    "##### Training : 0:500 = 500\n",
    "##### Training : 752:1252 = 500\n",
    "##### Test: 500:752  = 252\n",
    "##### Test: 1252:1510 = 258"
   ]
  },
  {
   "cell_type": "code",
   "execution_count": 13,
   "metadata": {},
   "outputs": [
    {
     "name": "stdout",
     "output_type": "stream",
     "text": [
      "(1000, 12)\n",
      "(1000,)\n",
      "(510, 12)\n",
      "(510,)\n"
     ]
    }
   ],
   "source": [
    "# importing the feature file\n",
    "datafile_path= './'\n",
    "datafile_name= 'SegmentFeatures2.csv'\n",
    "data= pd.read_csv(datafile_path+datafile_name, delimiter=',')\n",
    "X=data[['RRBreach', 'SpO2Breach',\n",
    "       'RRHighRegions', 'SpO2LowRegions', 'Stage1OccurL', 'Stage2OccurL',\n",
    "       'Stage3OccurL', 'RRUnsafeRegions', 'SpO2UnsafeRegions', 'Stage1OccurH',\n",
    "       'Stage2OccurH', 'Stage3OccurH']]\n",
    "Y=data[['Type1Pattern']]\n",
    "X_TRAIN = np.concatenate((X.values[0:500,:],X.values[752:1252,:]),axis=0)\n",
    "Y_TRAIN = np.concatenate((Y.values[0:500],Y.values[752:1252]),axis=0)\n",
    "Y_TRAIN = Y_TRAIN.ravel()\n",
    "\n",
    "X_TEST = np.concatenate((X.values[500:752,:],X.values[1252:1510,:]),axis=0)\n",
    "Y_TEST = np.concatenate((Y.values[500:752],Y.values[1252:1510]),axis=0)\n",
    "Y_TEST = Y_TEST.ravel()\n",
    "print(np.shape(X_TRAIN))\n",
    "print(np.shape(Y_TRAIN))\n",
    "print(np.shape(X_TEST))\n",
    "print(np.shape(Y_TEST))\n"
   ]
  },
  {
   "cell_type": "code",
   "execution_count": 14,
   "metadata": {},
   "outputs": [
    {
     "name": "stdout",
     "output_type": "stream",
     "text": [
      "[[228  30]\n",
      " [  9 243]]\n",
      "              precision    recall  f1-score   support\n",
      "\n",
      "           0       0.96      0.88      0.92       258\n",
      "           1       0.89      0.96      0.93       252\n",
      "\n",
      "    accuracy                           0.92       510\n",
      "   macro avg       0.93      0.92      0.92       510\n",
      "weighted avg       0.93      0.92      0.92       510\n",
      "\n"
     ]
    },
    {
     "data": {
      "image/png": "[encoded data removed]",
      "text/plain": [
       "<Figure size 432x288 with 1 Axes>"
      ]
     },
     "metadata": {
      "needs_background": "light"
     },
     "output_type": "display_data"
    },
    {
     "data": {
      "text/plain": [
       "0.5292586318877316"
      ]
     },
     "metadata": {},
     "output_type": "display_data"
    },
    {
     "name": "stdout",
     "output_type": "stream",
     "text": [
      "Model Classification stats with Optimal Threshold\n",
      "              precision    recall  f1-score   support\n",
      "\n",
      "           0       0.95      0.90      0.93       258\n",
      "           1       0.91      0.95      0.93       252\n",
      "\n",
      "    accuracy                           0.93       510\n",
      "   macro avg       0.93      0.93      0.93       510\n",
      "weighted avg       0.93      0.93      0.93       510\n",
      "\n"
     ]
    },
    {
     "data": {
      "text/html": [
       "<div>\n",
       "<style scoped>\n",
       "    .dataframe tbody tr th:only-of-type {\n",
       "        vertical-align: middle;\n",
       "    }\n",
       "\n",
       "    .dataframe tbody tr th {\n",
       "        vertical-align: top;\n",
       "    }\n",
       "\n",
       "    .dataframe thead th {\n",
       "        text-align: right;\n",
       "    }\n",
       "</style>\n",
       "<table border=\"1\" class=\"dataframe\">\n",
       "  <thead>\n",
       "    <tr style=\"text-align: right;\">\n",
       "      <th></th>\n",
       "      <th>Value</th>\n",
       "    </tr>\n",
       "  </thead>\n",
       "  <tbody>\n",
       "    <tr>\n",
       "      <th>accuracy</th>\n",
       "      <td>0.927451</td>\n",
       "    </tr>\n",
       "    <tr>\n",
       "      <th>recall</th>\n",
       "      <td>0.952381</td>\n",
       "    </tr>\n",
       "    <tr>\n",
       "      <th>precision</th>\n",
       "      <td>0.905660</td>\n",
       "    </tr>\n",
       "    <tr>\n",
       "      <th>f1-score</th>\n",
       "      <td>0.928433</td>\n",
       "    </tr>\n",
       "    <tr>\n",
       "      <th>roc_auc_score</th>\n",
       "      <td>0.982950</td>\n",
       "    </tr>\n",
       "  </tbody>\n",
       "</table>\n",
       "</div>"
      ],
      "text/plain": [
       "                  Value\n",
       "accuracy       0.927451\n",
       "recall         0.952381\n",
       "precision      0.905660\n",
       "f1-score       0.928433\n",
       "roc_auc_score  0.982950"
      ]
     },
     "metadata": {},
     "output_type": "display_data"
    }
   ],
   "source": [
    "clf = LogisticRegression(solver='lbfgs')\n",
    "final_logreg = clf.fit(X_TRAIN, Y_TRAIN)\n",
    "\n",
    "metrics_analysis(X_TEST,Y_TEST,final_logreg)\n",
    "\n",
    "final_optimal_threshold=plot_rocauc(X_TEST,Y_TEST,final_logreg)\n",
    "\n",
    "print('Model Classification stats with Optimal Threshold')\n",
    "display_classification_metrics(X_TEST,Y_TEST,final_logreg,final_optimal_threshold)"
   ]
  },
  {
   "cell_type": "code",
   "execution_count": 15,
   "metadata": {},
   "outputs": [],
   "source": [
    "import pickle\n",
    "#### save the model to disk\n",
    "model_path= './'\n",
    "model_name = 'logistic_model.sav'\n",
    "pickle.dump(final_logreg, open(model_path+model_name, 'wb'))"
   ]
  }
 ],
 "metadata": {
  "kernelspec": {
   "display_name": "Python 3",
   "language": "python",
   "name": "python3"
  },
  "language_info": {
   "codemirror_mode": {
    "name": "ipython",
    "version": 3
   },
   "file_extension": ".py",
   "mimetype": "text/x-python",
   "name": "python",
   "nbconvert_exporter": "python",
   "pygments_lexer": "ipython3",
   "version": "3.7.5"
  }
 },
 "nbformat": 4,
 "nbformat_minor": 2
}
