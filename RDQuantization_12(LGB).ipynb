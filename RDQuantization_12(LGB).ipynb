{
 "cells": [
  {
   "cell_type": "code",
   "execution_count": 1,
   "metadata": {},
   "outputs": [],
   "source": [
    "# Importing the libraries\n",
    "import numpy as np\n",
    "import matplotlib.pyplot as plt\n",
    "import pandas as pd\n",
    "import os\n",
    "from patsy import dmatrices\n",
    "import statsmodels.api as sm\n",
    "from utilities import *"
   ]
  },
  {
   "cell_type": "code",
   "execution_count": 2,
   "metadata": {},
   "outputs": [
    {
     "data": {
      "text/html": [
       "<div>\n",
       "<style scoped>\n",
       "    .dataframe tbody tr th:only-of-type {\n",
       "        vertical-align: middle;\n",
       "    }\n",
       "\n",
       "    .dataframe tbody tr th {\n",
       "        vertical-align: top;\n",
       "    }\n",
       "\n",
       "    .dataframe thead th {\n",
       "        text-align: right;\n",
       "    }\n",
       "</style>\n",
       "<table border=\"1\" class=\"dataframe\">\n",
       "  <thead>\n",
       "    <tr style=\"text-align: right;\">\n",
       "      <th></th>\n",
       "      <th>SegmentId</th>\n",
       "      <th>RecordNum</th>\n",
       "      <th>StartingTime</th>\n",
       "      <th>RRBreach</th>\n",
       "      <th>SpO2Breach</th>\n",
       "      <th>RRHighRegions</th>\n",
       "      <th>SpO2LowRegions</th>\n",
       "      <th>Stage1OccurL</th>\n",
       "      <th>Stage2OccurL</th>\n",
       "      <th>Stage3OccurL</th>\n",
       "      <th>RRUnsafeRegions</th>\n",
       "      <th>SpO2UnsafeRegions</th>\n",
       "      <th>Stage1OccurH</th>\n",
       "      <th>Stage2OccurH</th>\n",
       "      <th>Stage3OccurH</th>\n",
       "      <th>FeatureSum</th>\n",
       "      <th>Type1Pattern</th>\n",
       "    </tr>\n",
       "  </thead>\n",
       "  <tbody>\n",
       "    <tr>\n",
       "      <th>0</th>\n",
       "      <td>Seg0</td>\n",
       "      <td>3861446</td>\n",
       "      <td>30.0</td>\n",
       "      <td>0</td>\n",
       "      <td>0</td>\n",
       "      <td>0</td>\n",
       "      <td>0</td>\n",
       "      <td>2</td>\n",
       "      <td>0</td>\n",
       "      <td>1</td>\n",
       "      <td>12</td>\n",
       "      <td>7</td>\n",
       "      <td>1</td>\n",
       "      <td>0</td>\n",
       "      <td>0</td>\n",
       "      <td>23</td>\n",
       "      <td>1</td>\n",
       "    </tr>\n",
       "    <tr>\n",
       "      <th>1</th>\n",
       "      <td>Seg1</td>\n",
       "      <td>3861446</td>\n",
       "      <td>31.0</td>\n",
       "      <td>0</td>\n",
       "      <td>0</td>\n",
       "      <td>0</td>\n",
       "      <td>0</td>\n",
       "      <td>3</td>\n",
       "      <td>0</td>\n",
       "      <td>1</td>\n",
       "      <td>12</td>\n",
       "      <td>7</td>\n",
       "      <td>1</td>\n",
       "      <td>0</td>\n",
       "      <td>0</td>\n",
       "      <td>24</td>\n",
       "      <td>1</td>\n",
       "    </tr>\n",
       "    <tr>\n",
       "      <th>2</th>\n",
       "      <td>Seg2</td>\n",
       "      <td>3861446</td>\n",
       "      <td>32.0</td>\n",
       "      <td>0</td>\n",
       "      <td>0</td>\n",
       "      <td>0</td>\n",
       "      <td>0</td>\n",
       "      <td>2</td>\n",
       "      <td>0</td>\n",
       "      <td>1</td>\n",
       "      <td>12</td>\n",
       "      <td>6</td>\n",
       "      <td>1</td>\n",
       "      <td>0</td>\n",
       "      <td>0</td>\n",
       "      <td>22</td>\n",
       "      <td>1</td>\n",
       "    </tr>\n",
       "    <tr>\n",
       "      <th>3</th>\n",
       "      <td>Seg3</td>\n",
       "      <td>3861446</td>\n",
       "      <td>4.0</td>\n",
       "      <td>0</td>\n",
       "      <td>1</td>\n",
       "      <td>0</td>\n",
       "      <td>1</td>\n",
       "      <td>5</td>\n",
       "      <td>1</td>\n",
       "      <td>1</td>\n",
       "      <td>2</td>\n",
       "      <td>3</td>\n",
       "      <td>0</td>\n",
       "      <td>0</td>\n",
       "      <td>0</td>\n",
       "      <td>14</td>\n",
       "      <td>1</td>\n",
       "    </tr>\n",
       "    <tr>\n",
       "      <th>4</th>\n",
       "      <td>Seg4</td>\n",
       "      <td>3861446</td>\n",
       "      <td>8.0</td>\n",
       "      <td>0</td>\n",
       "      <td>1</td>\n",
       "      <td>0</td>\n",
       "      <td>1</td>\n",
       "      <td>4</td>\n",
       "      <td>1</td>\n",
       "      <td>1</td>\n",
       "      <td>4</td>\n",
       "      <td>4</td>\n",
       "      <td>1</td>\n",
       "      <td>0</td>\n",
       "      <td>0</td>\n",
       "      <td>17</td>\n",
       "      <td>1</td>\n",
       "    </tr>\n",
       "  </tbody>\n",
       "</table>\n",
       "</div>"
      ],
      "text/plain": [
       "  SegmentId  RecordNum  StartingTime  RRBreach  SpO2Breach  RRHighRegions  \\\n",
       "0      Seg0    3861446          30.0         0           0              0   \n",
       "1      Seg1    3861446          31.0         0           0              0   \n",
       "2      Seg2    3861446          32.0         0           0              0   \n",
       "3      Seg3    3861446           4.0         0           1              0   \n",
       "4      Seg4    3861446           8.0         0           1              0   \n",
       "\n",
       "   SpO2LowRegions  Stage1OccurL  Stage2OccurL  Stage3OccurL  RRUnsafeRegions  \\\n",
       "0               0             2             0             1               12   \n",
       "1               0             3             0             1               12   \n",
       "2               0             2             0             1               12   \n",
       "3               1             5             1             1                2   \n",
       "4               1             4             1             1                4   \n",
       "\n",
       "   SpO2UnsafeRegions  Stage1OccurH  Stage2OccurH  Stage3OccurH  FeatureSum  \\\n",
       "0                  7             1             0             0          23   \n",
       "1                  7             1             0             0          24   \n",
       "2                  6             1             0             0          22   \n",
       "3                  3             0             0             0          14   \n",
       "4                  4             1             0             0          17   \n",
       "\n",
       "   Type1Pattern  \n",
       "0             1  \n",
       "1             1  \n",
       "2             1  \n",
       "3             1  \n",
       "4             1  "
      ]
     },
     "metadata": {},
     "output_type": "display_data"
    }
   ],
   "source": [
    "# importing the feature file\n",
    "path= './'\n",
    "file= 'SegmentFeatures2.csv'\n",
    "data= pd.read_csv(path+file, delimiter=',')\n",
    "display(data.head())"
   ]
  },
  {
   "cell_type": "code",
   "execution_count": 3,
   "metadata": {},
   "outputs": [
    {
     "data": {
      "text/html": [
       "<div>\n",
       "<style scoped>\n",
       "    .dataframe tbody tr th:only-of-type {\n",
       "        vertical-align: middle;\n",
       "    }\n",
       "\n",
       "    .dataframe tbody tr th {\n",
       "        vertical-align: top;\n",
       "    }\n",
       "\n",
       "    .dataframe thead th {\n",
       "        text-align: right;\n",
       "    }\n",
       "</style>\n",
       "<table border=\"1\" class=\"dataframe\">\n",
       "  <thead>\n",
       "    <tr style=\"text-align: right;\">\n",
       "      <th></th>\n",
       "      <th>RRBreach</th>\n",
       "      <th>SpO2Breach</th>\n",
       "      <th>RRHighRegions</th>\n",
       "      <th>SpO2LowRegions</th>\n",
       "      <th>Stage1OccurL</th>\n",
       "      <th>Stage2OccurL</th>\n",
       "      <th>Stage3OccurL</th>\n",
       "      <th>RRUnsafeRegions</th>\n",
       "      <th>SpO2UnsafeRegions</th>\n",
       "      <th>Stage1OccurH</th>\n",
       "      <th>Stage2OccurH</th>\n",
       "      <th>Stage3OccurH</th>\n",
       "    </tr>\n",
       "  </thead>\n",
       "  <tbody>\n",
       "    <tr>\n",
       "      <th>0</th>\n",
       "      <td>0</td>\n",
       "      <td>0</td>\n",
       "      <td>0</td>\n",
       "      <td>0</td>\n",
       "      <td>2</td>\n",
       "      <td>0</td>\n",
       "      <td>1</td>\n",
       "      <td>12</td>\n",
       "      <td>7</td>\n",
       "      <td>1</td>\n",
       "      <td>0</td>\n",
       "      <td>0</td>\n",
       "    </tr>\n",
       "    <tr>\n",
       "      <th>1</th>\n",
       "      <td>0</td>\n",
       "      <td>0</td>\n",
       "      <td>0</td>\n",
       "      <td>0</td>\n",
       "      <td>3</td>\n",
       "      <td>0</td>\n",
       "      <td>1</td>\n",
       "      <td>12</td>\n",
       "      <td>7</td>\n",
       "      <td>1</td>\n",
       "      <td>0</td>\n",
       "      <td>0</td>\n",
       "    </tr>\n",
       "    <tr>\n",
       "      <th>2</th>\n",
       "      <td>0</td>\n",
       "      <td>0</td>\n",
       "      <td>0</td>\n",
       "      <td>0</td>\n",
       "      <td>2</td>\n",
       "      <td>0</td>\n",
       "      <td>1</td>\n",
       "      <td>12</td>\n",
       "      <td>6</td>\n",
       "      <td>1</td>\n",
       "      <td>0</td>\n",
       "      <td>0</td>\n",
       "    </tr>\n",
       "    <tr>\n",
       "      <th>3</th>\n",
       "      <td>0</td>\n",
       "      <td>1</td>\n",
       "      <td>0</td>\n",
       "      <td>1</td>\n",
       "      <td>5</td>\n",
       "      <td>1</td>\n",
       "      <td>1</td>\n",
       "      <td>2</td>\n",
       "      <td>3</td>\n",
       "      <td>0</td>\n",
       "      <td>0</td>\n",
       "      <td>0</td>\n",
       "    </tr>\n",
       "    <tr>\n",
       "      <th>4</th>\n",
       "      <td>0</td>\n",
       "      <td>1</td>\n",
       "      <td>0</td>\n",
       "      <td>1</td>\n",
       "      <td>4</td>\n",
       "      <td>1</td>\n",
       "      <td>1</td>\n",
       "      <td>4</td>\n",
       "      <td>4</td>\n",
       "      <td>1</td>\n",
       "      <td>0</td>\n",
       "      <td>0</td>\n",
       "    </tr>\n",
       "  </tbody>\n",
       "</table>\n",
       "</div>"
      ],
      "text/plain": [
       "   RRBreach  SpO2Breach  RRHighRegions  SpO2LowRegions  Stage1OccurL  \\\n",
       "0         0           0              0               0             2   \n",
       "1         0           0              0               0             3   \n",
       "2         0           0              0               0             2   \n",
       "3         0           1              0               1             5   \n",
       "4         0           1              0               1             4   \n",
       "\n",
       "   Stage2OccurL  Stage3OccurL  RRUnsafeRegions  SpO2UnsafeRegions  \\\n",
       "0             0             1               12                  7   \n",
       "1             0             1               12                  7   \n",
       "2             0             1               12                  6   \n",
       "3             1             1                2                  3   \n",
       "4             1             1                4                  4   \n",
       "\n",
       "   Stage1OccurH  Stage2OccurH  Stage3OccurH  \n",
       "0             1             0             0  \n",
       "1             1             0             0  \n",
       "2             1             0             0  \n",
       "3             0             0             0  \n",
       "4             1             0             0  "
      ]
     },
     "execution_count": 3,
     "metadata": {},
     "output_type": "execute_result"
    }
   ],
   "source": [
    "X=data[['RRBreach', 'SpO2Breach',\n",
    "       'RRHighRegions', 'SpO2LowRegions', 'Stage1OccurL', 'Stage2OccurL',\n",
    "       'Stage3OccurL', 'RRUnsafeRegions', 'SpO2UnsafeRegions', 'Stage1OccurH',\n",
    "       'Stage2OccurH', 'Stage3OccurH']]\n",
    "X.head()"
   ]
  },
  {
   "cell_type": "code",
   "execution_count": 4,
   "metadata": {},
   "outputs": [
    {
     "data": {
      "text/html": [
       "<div>\n",
       "<style scoped>\n",
       "    .dataframe tbody tr th:only-of-type {\n",
       "        vertical-align: middle;\n",
       "    }\n",
       "\n",
       "    .dataframe tbody tr th {\n",
       "        vertical-align: top;\n",
       "    }\n",
       "\n",
       "    .dataframe thead th {\n",
       "        text-align: right;\n",
       "    }\n",
       "</style>\n",
       "<table border=\"1\" class=\"dataframe\">\n",
       "  <thead>\n",
       "    <tr style=\"text-align: right;\">\n",
       "      <th></th>\n",
       "      <th>Type1Pattern</th>\n",
       "    </tr>\n",
       "  </thead>\n",
       "  <tbody>\n",
       "    <tr>\n",
       "      <th>0</th>\n",
       "      <td>1</td>\n",
       "    </tr>\n",
       "    <tr>\n",
       "      <th>1</th>\n",
       "      <td>1</td>\n",
       "    </tr>\n",
       "    <tr>\n",
       "      <th>2</th>\n",
       "      <td>1</td>\n",
       "    </tr>\n",
       "    <tr>\n",
       "      <th>3</th>\n",
       "      <td>1</td>\n",
       "    </tr>\n",
       "    <tr>\n",
       "      <th>4</th>\n",
       "      <td>1</td>\n",
       "    </tr>\n",
       "  </tbody>\n",
       "</table>\n",
       "</div>"
      ],
      "text/plain": [
       "   Type1Pattern\n",
       "0             1\n",
       "1             1\n",
       "2             1\n",
       "3             1\n",
       "4             1"
      ]
     },
     "execution_count": 4,
     "metadata": {},
     "output_type": "execute_result"
    }
   ],
   "source": [
    "Y=data[['Type1Pattern']]\n",
    "Y.head()"
   ]
  },
  {
   "cell_type": "code",
   "execution_count": 5,
   "metadata": {},
   "outputs": [
    {
     "data": {
      "text/plain": [
       "0    51.851852\n",
       "1    48.148148\n",
       "Name: Type1Pattern, dtype: float64"
      ]
     },
     "metadata": {},
     "output_type": "display_data"
    },
    {
     "data": {
      "text/plain": [
       "1    50.353357\n",
       "0    49.646643\n",
       "Name: Type1Pattern, dtype: float64"
      ]
     },
     "metadata": {},
     "output_type": "display_data"
    },
    {
     "name": "stdout",
     "output_type": "stream",
     "text": [
      "(1132,)\n",
      "(378,)\n"
     ]
    }
   ],
   "source": [
    "# Splitting the dataset into the Training set and Test set\n",
    "from sklearn.model_selection import train_test_split\n",
    "X_train, X_test, y_train, y_test = train_test_split(X, Y, test_size = 1/4,random_state = 10)\n",
    "display(y_test['Type1Pattern'].value_counts(normalize=True) * 100)\n",
    "display(y_train['Type1Pattern'].value_counts(normalize=True) * 100)\n",
    "y_train = y_train.values.ravel()\n",
    "y_test = y_test.values.ravel()\n",
    "print(np.shape(y_train))\n",
    "print(np.shape(y_test))"
   ]
  },
  {
   "cell_type": "code",
   "execution_count": 6,
   "metadata": {},
   "outputs": [
    {
     "data": {
      "text/plain": [
       "{'boosting_type': 'gbdt',\n",
       " 'class_weight': None,\n",
       " 'colsample_bytree': 1.0,\n",
       " 'importance_type': 'split',\n",
       " 'learning_rate': 0.1,\n",
       " 'max_depth': -1,\n",
       " 'min_child_samples': 20,\n",
       " 'min_child_weight': 0.001,\n",
       " 'min_split_gain': 0.0,\n",
       " 'n_estimators': 100,\n",
       " 'n_jobs': -1,\n",
       " 'num_leaves': 31,\n",
       " 'objective': None,\n",
       " 'random_state': None,\n",
       " 'reg_alpha': 0.0,\n",
       " 'reg_lambda': 0.0,\n",
       " 'silent': True,\n",
       " 'subsample': 1.0,\n",
       " 'subsample_for_bin': 200000,\n",
       " 'subsample_freq': 0}"
      ]
     },
     "metadata": {},
     "output_type": "display_data"
    }
   ],
   "source": [
    "import lightgbm as lgb\n",
    "# Get default hyperparameters\n",
    "model_lgb = lgb.LGBMClassifier()\n",
    "default_params = model_lgb.get_params()\n",
    "display(default_params)"
   ]
  },
  {
   "cell_type": "code",
   "execution_count": 7,
   "metadata": {},
   "outputs": [
    {
     "data": {
      "text/plain": [
       "LGBMClassifier(boosting_type='gbdt', class_weight=None, colsample_bytree=1.0,\n",
       "               importance_type='split', learning_rate=0.1, max_depth=-1,\n",
       "               min_child_samples=20, min_child_weight=0.001, min_split_gain=0.0,\n",
       "               n_estimators=100, n_jobs=-1, num_leaves=31, objective=None,\n",
       "               random_state=None, reg_alpha=0.0, reg_lambda=0.0, silent=True,\n",
       "               subsample=1.0, subsample_for_bin=200000, subsample_freq=0)"
      ]
     },
     "execution_count": 7,
     "metadata": {},
     "output_type": "execute_result"
    }
   ],
   "source": [
    "model_lgb.fit(X_train,y_train)"
   ]
  },
  {
   "cell_type": "code",
   "execution_count": 8,
   "metadata": {},
   "outputs": [
    {
     "name": "stdout",
     "output_type": "stream",
     "text": [
      "[[182  14]\n",
      " [ 14 168]]\n",
      "              precision    recall  f1-score   support\n",
      "\n",
      "           0       0.93      0.93      0.93       196\n",
      "           1       0.92      0.92      0.92       182\n",
      "\n",
      "    accuracy                           0.93       378\n",
      "   macro avg       0.93      0.93      0.93       378\n",
      "weighted avg       0.93      0.93      0.93       378\n",
      "\n"
     ]
    },
    {
     "data": {
      "image/png": "[encoded data removed]",
      "text/plain": [
       "<Figure size 432x288 with 1 Axes>"
      ]
     },
     "metadata": {
      "needs_background": "light"
     },
     "output_type": "display_data"
    },
    {
     "data": {
      "text/plain": [
       "0.7544250923059577"
      ]
     },
     "metadata": {},
     "output_type": "display_data"
    },
    {
     "name": "stdout",
     "output_type": "stream",
     "text": [
      "Model Classification stats with Optimal Threshold\n",
      "              precision    recall  f1-score   support\n",
      "\n",
      "           0       0.92      0.98      0.95       196\n",
      "           1       0.98      0.91      0.94       182\n",
      "\n",
      "    accuracy                           0.95       378\n",
      "   macro avg       0.95      0.95      0.95       378\n",
      "weighted avg       0.95      0.95      0.95       378\n",
      "\n"
     ]
    },
    {
     "data": {
      "text/html": [
       "<div>\n",
       "<style scoped>\n",
       "    .dataframe tbody tr th:only-of-type {\n",
       "        vertical-align: middle;\n",
       "    }\n",
       "\n",
       "    .dataframe tbody tr th {\n",
       "        vertical-align: top;\n",
       "    }\n",
       "\n",
       "    .dataframe thead th {\n",
       "        text-align: right;\n",
       "    }\n",
       "</style>\n",
       "<table border=\"1\" class=\"dataframe\">\n",
       "  <thead>\n",
       "    <tr style=\"text-align: right;\">\n",
       "      <th></th>\n",
       "      <th>Value</th>\n",
       "    </tr>\n",
       "  </thead>\n",
       "  <tbody>\n",
       "    <tr>\n",
       "      <th>accuracy</th>\n",
       "      <td>0.947090</td>\n",
       "    </tr>\n",
       "    <tr>\n",
       "      <th>recall</th>\n",
       "      <td>0.906593</td>\n",
       "    </tr>\n",
       "    <tr>\n",
       "      <th>precision</th>\n",
       "      <td>0.982143</td>\n",
       "    </tr>\n",
       "    <tr>\n",
       "      <th>f1-score</th>\n",
       "      <td>0.942857</td>\n",
       "    </tr>\n",
       "    <tr>\n",
       "      <th>roc_auc_score</th>\n",
       "      <td>0.980741</td>\n",
       "    </tr>\n",
       "  </tbody>\n",
       "</table>\n",
       "</div>"
      ],
      "text/plain": [
       "                  Value\n",
       "accuracy       0.947090\n",
       "recall         0.906593\n",
       "precision      0.982143\n",
       "f1-score       0.942857\n",
       "roc_auc_score  0.980741"
      ]
     },
     "metadata": {},
     "output_type": "display_data"
    }
   ],
   "source": [
    "metrics_analysis(X_test,y_test,model_lgb)\n",
    "optimal_threshold=plot_rocauc(X_test,y_test,model_lgb)\n",
    "print('Model Classification stats with Optimal Threshold')\n",
    "display_classification_metrics(X_test,y_test,model_lgb,optimal_threshold)"
   ]
  },
  {
   "cell_type": "code",
   "execution_count": 9,
   "metadata": {
    "scrolled": true
   },
   "outputs": [
    {
     "name": "stdout",
     "output_type": "stream",
     "text": [
      "Fitting 5 folds for each of 162000 candidates, totalling 810000 fits\n"
     ]
    },
    {
     "name": "stderr",
     "output_type": "stream",
     "text": [
      "[Parallel(n_jobs=-1)]: Using backend LokyBackend with 12 concurrent workers.\n",
      "[Parallel(n_jobs=-1)]: Done  26 tasks      | elapsed:    1.3s\n",
      "[Parallel(n_jobs=-1)]: Done 748 tasks      | elapsed:    2.7s\n",
      "[Parallel(n_jobs=-1)]: Done 2748 tasks      | elapsed:    6.7s\n",
      "[Parallel(n_jobs=-1)]: Done 5548 tasks      | elapsed:   11.9s\n",
      "[Parallel(n_jobs=-1)]: Done 9148 tasks      | elapsed:   18.4s\n",
      "[Parallel(n_jobs=-1)]: Done 13548 tasks      | elapsed:   26.7s\n",
      "[Parallel(n_jobs=-1)]: Done 18748 tasks      | elapsed:   36.4s\n",
      "[Parallel(n_jobs=-1)]: Done 24748 tasks      | elapsed:   47.3s\n",
      "[Parallel(n_jobs=-1)]: Done 31548 tasks      | elapsed:   59.9s\n",
      "[Parallel(n_jobs=-1)]: Done 39148 tasks      | elapsed:  1.2min\n",
      "[Parallel(n_jobs=-1)]: Done 47548 tasks      | elapsed:  1.7min\n",
      "[Parallel(n_jobs=-1)]: Done 56748 tasks      | elapsed:  2.5min\n",
      "[Parallel(n_jobs=-1)]: Done 66748 tasks      | elapsed:  3.5min\n",
      "[Parallel(n_jobs=-1)]: Done 77548 tasks      | elapsed:  4.4min\n",
      "[Parallel(n_jobs=-1)]: Done 89148 tasks      | elapsed:  5.3min\n",
      "[Parallel(n_jobs=-1)]: Done 101548 tasks      | elapsed:  6.2min\n",
      "[Parallel(n_jobs=-1)]: Done 114748 tasks      | elapsed:  7.2min\n",
      "[Parallel(n_jobs=-1)]: Done 128748 tasks      | elapsed:  8.2min\n",
      "[Parallel(n_jobs=-1)]: Done 143548 tasks      | elapsed:  9.2min\n",
      "[Parallel(n_jobs=-1)]: Done 159148 tasks      | elapsed: 10.3min\n",
      "[Parallel(n_jobs=-1)]: Done 175548 tasks      | elapsed: 11.6min\n",
      "[Parallel(n_jobs=-1)]: Done 192748 tasks      | elapsed: 12.8min\n",
      "[Parallel(n_jobs=-1)]: Done 210748 tasks      | elapsed: 14.1min\n",
      "[Parallel(n_jobs=-1)]: Done 229548 tasks      | elapsed: 15.4min\n",
      "[Parallel(n_jobs=-1)]: Done 249148 tasks      | elapsed: 16.9min\n",
      "[Parallel(n_jobs=-1)]: Done 269548 tasks      | elapsed: 18.3min\n",
      "[Parallel(n_jobs=-1)]: Done 290748 tasks      | elapsed: 19.9min\n",
      "[Parallel(n_jobs=-1)]: Done 312748 tasks      | elapsed: 21.5min\n",
      "[Parallel(n_jobs=-1)]: Done 335548 tasks      | elapsed: 23.2min\n",
      "[Parallel(n_jobs=-1)]: Done 359148 tasks      | elapsed: 24.9min\n",
      "[Parallel(n_jobs=-1)]: Done 383548 tasks      | elapsed: 26.7min\n",
      "[Parallel(n_jobs=-1)]: Done 408748 tasks      | elapsed: 28.4min\n",
      "[Parallel(n_jobs=-1)]: Done 434748 tasks      | elapsed: 30.3min\n",
      "[Parallel(n_jobs=-1)]: Done 461548 tasks      | elapsed: 32.1min\n",
      "[Parallel(n_jobs=-1)]: Done 489148 tasks      | elapsed: 33.9min\n",
      "[Parallel(n_jobs=-1)]: Done 517548 tasks      | elapsed: 35.9min\n",
      "[Parallel(n_jobs=-1)]: Done 546748 tasks      | elapsed: 37.8min\n",
      "[Parallel(n_jobs=-1)]: Done 576748 tasks      | elapsed: 39.9min\n",
      "[Parallel(n_jobs=-1)]: Done 607548 tasks      | elapsed: 42.1min\n",
      "[Parallel(n_jobs=-1)]: Done 639148 tasks      | elapsed: 44.4min\n",
      "[Parallel(n_jobs=-1)]: Done 671548 tasks      | elapsed: 46.6min\n",
      "[Parallel(n_jobs=-1)]: Done 704748 tasks      | elapsed: 49.0min\n",
      "[Parallel(n_jobs=-1)]: Done 738748 tasks      | elapsed: 50.4min\n",
      "[Parallel(n_jobs=-1)]: Done 773548 tasks      | elapsed: 51.6min\n",
      "[Parallel(n_jobs=-1)]: Done 809148 tasks      | elapsed: 52.7min\n",
      "[Parallel(n_jobs=-1)]: Done 809977 out of 810000 | elapsed: 52.7min remaining:    0.1s\n",
      "[Parallel(n_jobs=-1)]: Done 810000 out of 810000 | elapsed: 52.7min finished\n"
     ]
    }
   ],
   "source": [
    "from sklearn.model_selection import GridSearchCV\n",
    "param_grid = {\n",
    "    'boosting_type': ['gbdt', 'goss', 'dart'],\n",
    "    'num_leaves': list(range(20, 50)),\n",
    "    'learning_rate': list(np.logspace(np.log10(0.01), np.log10(0.5), base = 10, num = 100)),\n",
    "    'n_estimators': list(range(2,20))\n",
    "}\n",
    "\n",
    "#display(param_grid['learning_rate'])\n",
    "#display(len(param_grid['learning_rate']))\n",
    "\n",
    "# Grid search cross validation\n",
    "grid = GridSearchCV(lgb.LGBMClassifier(random_state=10),param_grid,n_jobs=-1, verbose=1, cv=5)\n",
    "model_lgb_grid = grid.fit(X_train,y_train)"
   ]
  },
  {
   "cell_type": "code",
   "execution_count": 10,
   "metadata": {},
   "outputs": [
    {
     "name": "stdout",
     "output_type": "stream",
     "text": [
      "{'boosting_type': 'gbdt', 'learning_rate': 0.36448486475346364, 'n_estimators': 19, 'num_leaves': 31}\n"
     ]
    }
   ],
   "source": [
    "print(model_lgb_grid.best_params_)"
   ]
  },
  {
   "cell_type": "code",
   "execution_count": 11,
   "metadata": {},
   "outputs": [
    {
     "name": "stdout",
     "output_type": "stream",
     "text": [
      "[[184  12]\n",
      " [ 14 168]]\n",
      "              precision    recall  f1-score   support\n",
      "\n",
      "           0       0.93      0.94      0.93       196\n",
      "           1       0.93      0.92      0.93       182\n",
      "\n",
      "    accuracy                           0.93       378\n",
      "   macro avg       0.93      0.93      0.93       378\n",
      "weighted avg       0.93      0.93      0.93       378\n",
      "\n"
     ]
    },
    {
     "data": {
      "image/png": "[encoded data removed]",
      "text/plain": [
       "<Figure size 432x288 with 1 Axes>"
      ]
     },
     "metadata": {
      "needs_background": "light"
     },
     "output_type": "display_data"
    },
    {
     "data": {
      "text/plain": [
       "0.47756389878985145"
      ]
     },
     "metadata": {},
     "output_type": "display_data"
    },
    {
     "name": "stdout",
     "output_type": "stream",
     "text": [
      "Model Classification stats with Optimal Threshold\n",
      "              precision    recall  f1-score   support\n",
      "\n",
      "           0       0.93      0.94      0.94       196\n",
      "           1       0.93      0.93      0.93       182\n",
      "\n",
      "    accuracy                           0.93       378\n",
      "   macro avg       0.93      0.93      0.93       378\n",
      "weighted avg       0.93      0.93      0.93       378\n",
      "\n"
     ]
    },
    {
     "data": {
      "text/html": [
       "<div>\n",
       "<style scoped>\n",
       "    .dataframe tbody tr th:only-of-type {\n",
       "        vertical-align: middle;\n",
       "    }\n",
       "\n",
       "    .dataframe tbody tr th {\n",
       "        vertical-align: top;\n",
       "    }\n",
       "\n",
       "    .dataframe thead th {\n",
       "        text-align: right;\n",
       "    }\n",
       "</style>\n",
       "<table border=\"1\" class=\"dataframe\">\n",
       "  <thead>\n",
       "    <tr style=\"text-align: right;\">\n",
       "      <th></th>\n",
       "      <th>Value</th>\n",
       "    </tr>\n",
       "  </thead>\n",
       "  <tbody>\n",
       "    <tr>\n",
       "      <th>accuracy</th>\n",
       "      <td>0.933862</td>\n",
       "    </tr>\n",
       "    <tr>\n",
       "      <th>recall</th>\n",
       "      <td>0.928571</td>\n",
       "    </tr>\n",
       "    <tr>\n",
       "      <th>precision</th>\n",
       "      <td>0.933702</td>\n",
       "    </tr>\n",
       "    <tr>\n",
       "      <th>f1-score</th>\n",
       "      <td>0.931129</td>\n",
       "    </tr>\n",
       "    <tr>\n",
       "      <th>roc_auc_score</th>\n",
       "      <td>0.980475</td>\n",
       "    </tr>\n",
       "  </tbody>\n",
       "</table>\n",
       "</div>"
      ],
      "text/plain": [
       "                  Value\n",
       "accuracy       0.933862\n",
       "recall         0.928571\n",
       "precision      0.933702\n",
       "f1-score       0.931129\n",
       "roc_auc_score  0.980475"
      ]
     },
     "metadata": {},
     "output_type": "display_data"
    }
   ],
   "source": [
    "model_lgb_best_param=lgb.LGBMClassifier(boosting_type ='gbdt',\n",
    " learning_rate= 0.36448486475346364,\n",
    " n_estimators= 19,\n",
    " num_leaves= 31)\n",
    "\n",
    "model_lgb_best_param.fit(X_train,y_train)\n",
    "metrics_analysis(X_test,y_test,model_lgb_best_param)\n",
    "optimal_threshold=plot_rocauc(X_test,y_test,model_lgb_best_param)\n",
    "print('Model Classification stats with Optimal Threshold')\n",
    "display_classification_metrics(X_test,y_test,model_lgb_best_param,optimal_threshold)"
   ]
  },
  {
   "cell_type": "markdown",
   "metadata": {},
   "source": [
    "### -------------------Final Model-----------------------------\n",
    "##### Splitting into training and testing\n",
    "##### Training : 0:500 = 500\n",
    "##### Training : 752:1252 = 500\n",
    "##### Test: 500:752  = 252\n",
    "##### Test: 1252:1510 = 258"
   ]
  },
  {
   "cell_type": "code",
   "execution_count": 12,
   "metadata": {},
   "outputs": [
    {
     "name": "stdout",
     "output_type": "stream",
     "text": [
      "(1000, 12)\n",
      "(1000,)\n",
      "(510, 12)\n",
      "(510,)\n"
     ]
    }
   ],
   "source": [
    "# importing the feature file\n",
    "datafile_path= './'\n",
    "datafile_name= 'SegmentFeatures2.csv'\n",
    "data= pd.read_csv(datafile_path+datafile_name, delimiter=',')\n",
    "X=data[['RRBreach', 'SpO2Breach',\n",
    "       'RRHighRegions', 'SpO2LowRegions', 'Stage1OccurL', 'Stage2OccurL',\n",
    "       'Stage3OccurL', 'RRUnsafeRegions', 'SpO2UnsafeRegions', 'Stage1OccurH',\n",
    "       'Stage2OccurH', 'Stage3OccurH']]\n",
    "Y=data[['Type1Pattern']]\n",
    "X_TRAIN = np.concatenate((X.values[0:500,:],X.values[752:1252,:]),axis=0)\n",
    "Y_TRAIN = np.concatenate((Y.values[0:500],Y.values[752:1252]),axis=0)\n",
    "Y_TRAIN = Y_TRAIN.ravel()\n",
    "\n",
    "X_TEST = np.concatenate((X.values[500:752,:],X.values[1252:1510,:]),axis=0)\n",
    "Y_TEST = np.concatenate((Y.values[500:752],Y.values[1252:1510]),axis=0)\n",
    "Y_TEST = Y_TEST.ravel()\n",
    "print(np.shape(X_TRAIN))\n",
    "print(np.shape(Y_TRAIN))\n",
    "print(np.shape(X_TEST))\n",
    "print(np.shape(Y_TEST))\n"
   ]
  },
  {
   "cell_type": "code",
   "execution_count": 13,
   "metadata": {},
   "outputs": [
    {
     "name": "stdout",
     "output_type": "stream",
     "text": [
      "[[230  28]\n",
      " [ 19 233]]\n",
      "              precision    recall  f1-score   support\n",
      "\n",
      "           0       0.92      0.89      0.91       258\n",
      "           1       0.89      0.92      0.91       252\n",
      "\n",
      "    accuracy                           0.91       510\n",
      "   macro avg       0.91      0.91      0.91       510\n",
      "weighted avg       0.91      0.91      0.91       510\n",
      "\n"
     ]
    },
    {
     "data": {
      "image/png": "[encoded data removed]",
      "text/plain": [
       "<Figure size 432x288 with 1 Axes>"
      ]
     },
     "metadata": {
      "needs_background": "light"
     },
     "output_type": "display_data"
    },
    {
     "data": {
      "text/plain": [
       "0.6870946133970928"
      ]
     },
     "metadata": {},
     "output_type": "display_data"
    },
    {
     "name": "stdout",
     "output_type": "stream",
     "text": [
      "Model Classification stats with Optimal Threshold\n",
      "              precision    recall  f1-score   support\n",
      "\n",
      "           0       0.92      0.92      0.92       258\n",
      "           1       0.92      0.91      0.92       252\n",
      "\n",
      "    accuracy                           0.92       510\n",
      "   macro avg       0.92      0.92      0.92       510\n",
      "weighted avg       0.92      0.92      0.92       510\n",
      "\n"
     ]
    },
    {
     "data": {
      "text/html": [
       "<div>\n",
       "<style scoped>\n",
       "    .dataframe tbody tr th:only-of-type {\n",
       "        vertical-align: middle;\n",
       "    }\n",
       "\n",
       "    .dataframe tbody tr th {\n",
       "        vertical-align: top;\n",
       "    }\n",
       "\n",
       "    .dataframe thead th {\n",
       "        text-align: right;\n",
       "    }\n",
       "</style>\n",
       "<table border=\"1\" class=\"dataframe\">\n",
       "  <thead>\n",
       "    <tr style=\"text-align: right;\">\n",
       "      <th></th>\n",
       "      <th>Value</th>\n",
       "    </tr>\n",
       "  </thead>\n",
       "  <tbody>\n",
       "    <tr>\n",
       "      <th>accuracy</th>\n",
       "      <td>0.917647</td>\n",
       "    </tr>\n",
       "    <tr>\n",
       "      <th>recall</th>\n",
       "      <td>0.912698</td>\n",
       "    </tr>\n",
       "    <tr>\n",
       "      <th>precision</th>\n",
       "      <td>0.920000</td>\n",
       "    </tr>\n",
       "    <tr>\n",
       "      <th>f1-score</th>\n",
       "      <td>0.916335</td>\n",
       "    </tr>\n",
       "    <tr>\n",
       "      <th>roc_auc_score</th>\n",
       "      <td>0.964962</td>\n",
       "    </tr>\n",
       "  </tbody>\n",
       "</table>\n",
       "</div>"
      ],
      "text/plain": [
       "                  Value\n",
       "accuracy       0.917647\n",
       "recall         0.912698\n",
       "precision      0.920000\n",
       "f1-score       0.916335\n",
       "roc_auc_score  0.964962"
      ]
     },
     "metadata": {},
     "output_type": "display_data"
    }
   ],
   "source": [
    "model_lgb_best_param=lgb.LGBMClassifier(boosting_type ='gbdt',\n",
    " learning_rate= 0.36448486475346364,\n",
    " n_estimators= 19,\n",
    " num_leaves= 31)\n",
    "\n",
    "model_lgb_best_param.fit(X_TRAIN, Y_TRAIN)\n",
    "metrics_analysis(X_TEST,Y_TEST, model_lgb_best_param)\n",
    "optimal_threshold=plot_rocauc(X_TEST,Y_TEST, model_lgb_best_param)\n",
    "print('Model Classification stats with Optimal Threshold')\n",
    "display_classification_metrics(X_TEST,Y_TEST, model_lgb_best_param, optimal_threshold)"
   ]
  },
  {
   "cell_type": "markdown",
   "metadata": {},
   "source": [
    "### Saving the model"
   ]
  },
  {
   "cell_type": "code",
   "execution_count": 14,
   "metadata": {},
   "outputs": [],
   "source": [
    "import pickle\n",
    "# save the model to disk\n",
    "model_path= './'\n",
    "model_name = 'lgb_model.sav'\n",
    "pickle.dump(model_lgb_best_param, open(model_path+model_name, 'wb'))"
   ]
  }
 ],
 "metadata": {
  "kernelspec": {
   "display_name": "Python 3",
   "language": "python",
   "name": "python3"
  },
  "language_info": {
   "codemirror_mode": {
    "name": "ipython",
    "version": 3
   },
   "file_extension": ".py",
   "mimetype": "text/x-python",
   "name": "python",
   "nbconvert_exporter": "python",
   "pygments_lexer": "ipython3",
   "version": "3.7.5"
  }
 },
 "nbformat": 4,
 "nbformat_minor": 2
}
