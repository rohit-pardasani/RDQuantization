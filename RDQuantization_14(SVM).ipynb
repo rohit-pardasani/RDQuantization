{
 "cells": [
  {
   "cell_type": "code",
   "execution_count": 1,
   "metadata": {},
   "outputs": [],
   "source": [
    "# Importing the libraries\n",
    "import numpy as np\n",
    "import matplotlib.pyplot as plt\n",
    "import pandas as pd\n",
    "import os\n",
    "from patsy import dmatrices\n",
    "import statsmodels.api as sm\n",
    "from utilities import *"
   ]
  },
  {
   "cell_type": "code",
   "execution_count": 2,
   "metadata": {},
   "outputs": [
    {
     "data": {
      "text/html": [
       "<div>\n",
       "<style scoped>\n",
       "    .dataframe tbody tr th:only-of-type {\n",
       "        vertical-align: middle;\n",
       "    }\n",
       "\n",
       "    .dataframe tbody tr th {\n",
       "        vertical-align: top;\n",
       "    }\n",
       "\n",
       "    .dataframe thead th {\n",
       "        text-align: right;\n",
       "    }\n",
       "</style>\n",
       "<table border=\"1\" class=\"dataframe\">\n",
       "  <thead>\n",
       "    <tr style=\"text-align: right;\">\n",
       "      <th></th>\n",
       "      <th>SegmentId</th>\n",
       "      <th>RecordNum</th>\n",
       "      <th>StartingTime</th>\n",
       "      <th>RRBreach</th>\n",
       "      <th>SpO2Breach</th>\n",
       "      <th>RRHighRegions</th>\n",
       "      <th>SpO2LowRegions</th>\n",
       "      <th>Stage1OccurL</th>\n",
       "      <th>Stage2OccurL</th>\n",
       "      <th>Stage3OccurL</th>\n",
       "      <th>RRUnsafeRegions</th>\n",
       "      <th>SpO2UnsafeRegions</th>\n",
       "      <th>Stage1OccurH</th>\n",
       "      <th>Stage2OccurH</th>\n",
       "      <th>Stage3OccurH</th>\n",
       "      <th>FeatureSum</th>\n",
       "      <th>Type1Pattern</th>\n",
       "    </tr>\n",
       "  </thead>\n",
       "  <tbody>\n",
       "    <tr>\n",
       "      <th>0</th>\n",
       "      <td>Seg0</td>\n",
       "      <td>3861446</td>\n",
       "      <td>30.0</td>\n",
       "      <td>0</td>\n",
       "      <td>0</td>\n",
       "      <td>0</td>\n",
       "      <td>0</td>\n",
       "      <td>2</td>\n",
       "      <td>0</td>\n",
       "      <td>1</td>\n",
       "      <td>12</td>\n",
       "      <td>7</td>\n",
       "      <td>1</td>\n",
       "      <td>0</td>\n",
       "      <td>0</td>\n",
       "      <td>23</td>\n",
       "      <td>1</td>\n",
       "    </tr>\n",
       "    <tr>\n",
       "      <th>1</th>\n",
       "      <td>Seg1</td>\n",
       "      <td>3861446</td>\n",
       "      <td>31.0</td>\n",
       "      <td>0</td>\n",
       "      <td>0</td>\n",
       "      <td>0</td>\n",
       "      <td>0</td>\n",
       "      <td>3</td>\n",
       "      <td>0</td>\n",
       "      <td>1</td>\n",
       "      <td>12</td>\n",
       "      <td>7</td>\n",
       "      <td>1</td>\n",
       "      <td>0</td>\n",
       "      <td>0</td>\n",
       "      <td>24</td>\n",
       "      <td>1</td>\n",
       "    </tr>\n",
       "    <tr>\n",
       "      <th>2</th>\n",
       "      <td>Seg2</td>\n",
       "      <td>3861446</td>\n",
       "      <td>32.0</td>\n",
       "      <td>0</td>\n",
       "      <td>0</td>\n",
       "      <td>0</td>\n",
       "      <td>0</td>\n",
       "      <td>2</td>\n",
       "      <td>0</td>\n",
       "      <td>1</td>\n",
       "      <td>12</td>\n",
       "      <td>6</td>\n",
       "      <td>1</td>\n",
       "      <td>0</td>\n",
       "      <td>0</td>\n",
       "      <td>22</td>\n",
       "      <td>1</td>\n",
       "    </tr>\n",
       "    <tr>\n",
       "      <th>3</th>\n",
       "      <td>Seg3</td>\n",
       "      <td>3861446</td>\n",
       "      <td>4.0</td>\n",
       "      <td>0</td>\n",
       "      <td>1</td>\n",
       "      <td>0</td>\n",
       "      <td>1</td>\n",
       "      <td>5</td>\n",
       "      <td>1</td>\n",
       "      <td>1</td>\n",
       "      <td>2</td>\n",
       "      <td>3</td>\n",
       "      <td>0</td>\n",
       "      <td>0</td>\n",
       "      <td>0</td>\n",
       "      <td>14</td>\n",
       "      <td>1</td>\n",
       "    </tr>\n",
       "    <tr>\n",
       "      <th>4</th>\n",
       "      <td>Seg4</td>\n",
       "      <td>3861446</td>\n",
       "      <td>8.0</td>\n",
       "      <td>0</td>\n",
       "      <td>1</td>\n",
       "      <td>0</td>\n",
       "      <td>1</td>\n",
       "      <td>4</td>\n",
       "      <td>1</td>\n",
       "      <td>1</td>\n",
       "      <td>4</td>\n",
       "      <td>4</td>\n",
       "      <td>1</td>\n",
       "      <td>0</td>\n",
       "      <td>0</td>\n",
       "      <td>17</td>\n",
       "      <td>1</td>\n",
       "    </tr>\n",
       "  </tbody>\n",
       "</table>\n",
       "</div>"
      ],
      "text/plain": [
       "  SegmentId  RecordNum  StartingTime  RRBreach  SpO2Breach  RRHighRegions  \\\n",
       "0      Seg0    3861446          30.0         0           0              0   \n",
       "1      Seg1    3861446          31.0         0           0              0   \n",
       "2      Seg2    3861446          32.0         0           0              0   \n",
       "3      Seg3    3861446           4.0         0           1              0   \n",
       "4      Seg4    3861446           8.0         0           1              0   \n",
       "\n",
       "   SpO2LowRegions  Stage1OccurL  Stage2OccurL  Stage3OccurL  RRUnsafeRegions  \\\n",
       "0               0             2             0             1               12   \n",
       "1               0             3             0             1               12   \n",
       "2               0             2             0             1               12   \n",
       "3               1             5             1             1                2   \n",
       "4               1             4             1             1                4   \n",
       "\n",
       "   SpO2UnsafeRegions  Stage1OccurH  Stage2OccurH  Stage3OccurH  FeatureSum  \\\n",
       "0                  7             1             0             0          23   \n",
       "1                  7             1             0             0          24   \n",
       "2                  6             1             0             0          22   \n",
       "3                  3             0             0             0          14   \n",
       "4                  4             1             0             0          17   \n",
       "\n",
       "   Type1Pattern  \n",
       "0             1  \n",
       "1             1  \n",
       "2             1  \n",
       "3             1  \n",
       "4             1  "
      ]
     },
     "metadata": {},
     "output_type": "display_data"
    }
   ],
   "source": [
    "# importing the feature file\n",
    "path= './'\n",
    "file= 'SegmentFeatures2.csv'\n",
    "data= pd.read_csv(path+file, delimiter=',')\n",
    "display(data.head())"
   ]
  },
  {
   "cell_type": "code",
   "execution_count": 3,
   "metadata": {},
   "outputs": [
    {
     "data": {
      "text/html": [
       "<div>\n",
       "<style scoped>\n",
       "    .dataframe tbody tr th:only-of-type {\n",
       "        vertical-align: middle;\n",
       "    }\n",
       "\n",
       "    .dataframe tbody tr th {\n",
       "        vertical-align: top;\n",
       "    }\n",
       "\n",
       "    .dataframe thead th {\n",
       "        text-align: right;\n",
       "    }\n",
       "</style>\n",
       "<table border=\"1\" class=\"dataframe\">\n",
       "  <thead>\n",
       "    <tr style=\"text-align: right;\">\n",
       "      <th></th>\n",
       "      <th>RRBreach</th>\n",
       "      <th>SpO2Breach</th>\n",
       "      <th>RRHighRegions</th>\n",
       "      <th>SpO2LowRegions</th>\n",
       "      <th>Stage1OccurL</th>\n",
       "      <th>Stage2OccurL</th>\n",
       "      <th>Stage3OccurL</th>\n",
       "      <th>RRUnsafeRegions</th>\n",
       "      <th>SpO2UnsafeRegions</th>\n",
       "      <th>Stage1OccurH</th>\n",
       "      <th>Stage2OccurH</th>\n",
       "      <th>Stage3OccurH</th>\n",
       "    </tr>\n",
       "  </thead>\n",
       "  <tbody>\n",
       "    <tr>\n",
       "      <th>0</th>\n",
       "      <td>0</td>\n",
       "      <td>0</td>\n",
       "      <td>0</td>\n",
       "      <td>0</td>\n",
       "      <td>2</td>\n",
       "      <td>0</td>\n",
       "      <td>1</td>\n",
       "      <td>12</td>\n",
       "      <td>7</td>\n",
       "      <td>1</td>\n",
       "      <td>0</td>\n",
       "      <td>0</td>\n",
       "    </tr>\n",
       "    <tr>\n",
       "      <th>1</th>\n",
       "      <td>0</td>\n",
       "      <td>0</td>\n",
       "      <td>0</td>\n",
       "      <td>0</td>\n",
       "      <td>3</td>\n",
       "      <td>0</td>\n",
       "      <td>1</td>\n",
       "      <td>12</td>\n",
       "      <td>7</td>\n",
       "      <td>1</td>\n",
       "      <td>0</td>\n",
       "      <td>0</td>\n",
       "    </tr>\n",
       "    <tr>\n",
       "      <th>2</th>\n",
       "      <td>0</td>\n",
       "      <td>0</td>\n",
       "      <td>0</td>\n",
       "      <td>0</td>\n",
       "      <td>2</td>\n",
       "      <td>0</td>\n",
       "      <td>1</td>\n",
       "      <td>12</td>\n",
       "      <td>6</td>\n",
       "      <td>1</td>\n",
       "      <td>0</td>\n",
       "      <td>0</td>\n",
       "    </tr>\n",
       "    <tr>\n",
       "      <th>3</th>\n",
       "      <td>0</td>\n",
       "      <td>1</td>\n",
       "      <td>0</td>\n",
       "      <td>1</td>\n",
       "      <td>5</td>\n",
       "      <td>1</td>\n",
       "      <td>1</td>\n",
       "      <td>2</td>\n",
       "      <td>3</td>\n",
       "      <td>0</td>\n",
       "      <td>0</td>\n",
       "      <td>0</td>\n",
       "    </tr>\n",
       "    <tr>\n",
       "      <th>4</th>\n",
       "      <td>0</td>\n",
       "      <td>1</td>\n",
       "      <td>0</td>\n",
       "      <td>1</td>\n",
       "      <td>4</td>\n",
       "      <td>1</td>\n",
       "      <td>1</td>\n",
       "      <td>4</td>\n",
       "      <td>4</td>\n",
       "      <td>1</td>\n",
       "      <td>0</td>\n",
       "      <td>0</td>\n",
       "    </tr>\n",
       "  </tbody>\n",
       "</table>\n",
       "</div>"
      ],
      "text/plain": [
       "   RRBreach  SpO2Breach  RRHighRegions  SpO2LowRegions  Stage1OccurL  \\\n",
       "0         0           0              0               0             2   \n",
       "1         0           0              0               0             3   \n",
       "2         0           0              0               0             2   \n",
       "3         0           1              0               1             5   \n",
       "4         0           1              0               1             4   \n",
       "\n",
       "   Stage2OccurL  Stage3OccurL  RRUnsafeRegions  SpO2UnsafeRegions  \\\n",
       "0             0             1               12                  7   \n",
       "1             0             1               12                  7   \n",
       "2             0             1               12                  6   \n",
       "3             1             1                2                  3   \n",
       "4             1             1                4                  4   \n",
       "\n",
       "   Stage1OccurH  Stage2OccurH  Stage3OccurH  \n",
       "0             1             0             0  \n",
       "1             1             0             0  \n",
       "2             1             0             0  \n",
       "3             0             0             0  \n",
       "4             1             0             0  "
      ]
     },
     "execution_count": 3,
     "metadata": {},
     "output_type": "execute_result"
    }
   ],
   "source": [
    "X=data[['RRBreach', 'SpO2Breach',\n",
    "       'RRHighRegions', 'SpO2LowRegions', 'Stage1OccurL', 'Stage2OccurL',\n",
    "       'Stage3OccurL', 'RRUnsafeRegions', 'SpO2UnsafeRegions', 'Stage1OccurH',\n",
    "       'Stage2OccurH', 'Stage3OccurH']]\n",
    "X.head()"
   ]
  },
  {
   "cell_type": "code",
   "execution_count": 4,
   "metadata": {},
   "outputs": [
    {
     "data": {
      "text/html": [
       "<div>\n",
       "<style scoped>\n",
       "    .dataframe tbody tr th:only-of-type {\n",
       "        vertical-align: middle;\n",
       "    }\n",
       "\n",
       "    .dataframe tbody tr th {\n",
       "        vertical-align: top;\n",
       "    }\n",
       "\n",
       "    .dataframe thead th {\n",
       "        text-align: right;\n",
       "    }\n",
       "</style>\n",
       "<table border=\"1\" class=\"dataframe\">\n",
       "  <thead>\n",
       "    <tr style=\"text-align: right;\">\n",
       "      <th></th>\n",
       "      <th>Type1Pattern</th>\n",
       "    </tr>\n",
       "  </thead>\n",
       "  <tbody>\n",
       "    <tr>\n",
       "      <th>0</th>\n",
       "      <td>1</td>\n",
       "    </tr>\n",
       "    <tr>\n",
       "      <th>1</th>\n",
       "      <td>1</td>\n",
       "    </tr>\n",
       "    <tr>\n",
       "      <th>2</th>\n",
       "      <td>1</td>\n",
       "    </tr>\n",
       "    <tr>\n",
       "      <th>3</th>\n",
       "      <td>1</td>\n",
       "    </tr>\n",
       "    <tr>\n",
       "      <th>4</th>\n",
       "      <td>1</td>\n",
       "    </tr>\n",
       "  </tbody>\n",
       "</table>\n",
       "</div>"
      ],
      "text/plain": [
       "   Type1Pattern\n",
       "0             1\n",
       "1             1\n",
       "2             1\n",
       "3             1\n",
       "4             1"
      ]
     },
     "execution_count": 4,
     "metadata": {},
     "output_type": "execute_result"
    }
   ],
   "source": [
    "Y=data[['Type1Pattern']]\n",
    "Y.head()"
   ]
  },
  {
   "cell_type": "code",
   "execution_count": 5,
   "metadata": {},
   "outputs": [
    {
     "data": {
      "text/plain": [
       "0    51.851852\n",
       "1    48.148148\n",
       "Name: Type1Pattern, dtype: float64"
      ]
     },
     "metadata": {},
     "output_type": "display_data"
    },
    {
     "data": {
      "text/plain": [
       "1    50.353357\n",
       "0    49.646643\n",
       "Name: Type1Pattern, dtype: float64"
      ]
     },
     "metadata": {},
     "output_type": "display_data"
    },
    {
     "name": "stdout",
     "output_type": "stream",
     "text": [
      "(1132,)\n",
      "(378,)\n"
     ]
    }
   ],
   "source": [
    "# Splitting the dataset into the Training set and Test set\n",
    "from sklearn.model_selection import train_test_split\n",
    "X_train, X_test, y_train, y_test = train_test_split(X, Y, test_size = 1/4,random_state = 10)\n",
    "display(y_test['Type1Pattern'].value_counts(normalize=True) * 100)\n",
    "display(y_train['Type1Pattern'].value_counts(normalize=True) * 100)\n",
    "y_train = y_train.values.ravel()\n",
    "y_test = y_test.values.ravel()\n",
    "print(np.shape(y_train))\n",
    "print(np.shape(y_test))"
   ]
  },
  {
   "cell_type": "code",
   "execution_count": 6,
   "metadata": {},
   "outputs": [
    {
     "name": "stderr",
     "output_type": "stream",
     "text": [
      "/home/ubuntu/anaconda3/lib/python3.7/site-packages/sklearn/svm/base.py:193: FutureWarning: The default value of gamma will change from 'auto' to 'scale' in version 0.22 to account better for unscaled features. Set gamma explicitly to 'auto' or 'scale' to avoid this warning.\n",
      "  \"avoid this warning.\", FutureWarning)\n"
     ]
    },
    {
     "data": {
      "text/plain": [
       "SVC(C=1.0, cache_size=200, class_weight=None, coef0=0.0,\n",
       "    decision_function_shape='ovr', degree=3, gamma='auto_deprecated',\n",
       "    kernel='rbf', max_iter=-1, probability=True, random_state=10,\n",
       "    shrinking=True, tol=0.001, verbose=False)"
      ]
     },
     "execution_count": 6,
     "metadata": {},
     "output_type": "execute_result"
    }
   ],
   "source": [
    "#SVM implementation\n",
    "from sklearn.svm import SVC\n",
    "clf_svc = SVC(random_state=10,probability=True)\n",
    "clf_svc.fit(X_train,y_train)"
   ]
  },
  {
   "cell_type": "code",
   "execution_count": 7,
   "metadata": {},
   "outputs": [
    {
     "name": "stdout",
     "output_type": "stream",
     "text": [
      "[[184  12]\n",
      " [  8 174]]\n",
      "              precision    recall  f1-score   support\n",
      "\n",
      "           0       0.96      0.94      0.95       196\n",
      "           1       0.94      0.96      0.95       182\n",
      "\n",
      "    accuracy                           0.95       378\n",
      "   macro avg       0.95      0.95      0.95       378\n",
      "weighted avg       0.95      0.95      0.95       378\n",
      "\n"
     ]
    },
    {
     "data": {
      "image/png": "[encoded data removed]",
      "text/plain": [
       "<Figure size 432x288 with 1 Axes>"
      ]
     },
     "metadata": {
      "needs_background": "light"
     },
     "output_type": "display_data"
    },
    {
     "data": {
      "text/plain": [
       "0.5489226079636985"
      ]
     },
     "metadata": {},
     "output_type": "display_data"
    },
    {
     "name": "stdout",
     "output_type": "stream",
     "text": [
      "Model Classification stats with Optimal Threshold\n",
      "              precision    recall  f1-score   support\n",
      "\n",
      "           0       0.95      0.94      0.95       196\n",
      "           1       0.94      0.95      0.94       182\n",
      "\n",
      "    accuracy                           0.94       378\n",
      "   macro avg       0.94      0.94      0.94       378\n",
      "weighted avg       0.94      0.94      0.94       378\n",
      "\n"
     ]
    },
    {
     "data": {
      "text/html": [
       "<div>\n",
       "<style scoped>\n",
       "    .dataframe tbody tr th:only-of-type {\n",
       "        vertical-align: middle;\n",
       "    }\n",
       "\n",
       "    .dataframe tbody tr th {\n",
       "        vertical-align: top;\n",
       "    }\n",
       "\n",
       "    .dataframe thead th {\n",
       "        text-align: right;\n",
       "    }\n",
       "</style>\n",
       "<table border=\"1\" class=\"dataframe\">\n",
       "  <thead>\n",
       "    <tr style=\"text-align: right;\">\n",
       "      <th></th>\n",
       "      <th>Value</th>\n",
       "    </tr>\n",
       "  </thead>\n",
       "  <tbody>\n",
       "    <tr>\n",
       "      <th>accuracy</th>\n",
       "      <td>0.944444</td>\n",
       "    </tr>\n",
       "    <tr>\n",
       "      <th>recall</th>\n",
       "      <td>0.950549</td>\n",
       "    </tr>\n",
       "    <tr>\n",
       "      <th>precision</th>\n",
       "      <td>0.935135</td>\n",
       "    </tr>\n",
       "    <tr>\n",
       "      <th>f1-score</th>\n",
       "      <td>0.942779</td>\n",
       "    </tr>\n",
       "    <tr>\n",
       "      <th>roc_auc_score</th>\n",
       "      <td>0.971546</td>\n",
       "    </tr>\n",
       "  </tbody>\n",
       "</table>\n",
       "</div>"
      ],
      "text/plain": [
       "                  Value\n",
       "accuracy       0.944444\n",
       "recall         0.950549\n",
       "precision      0.935135\n",
       "f1-score       0.942779\n",
       "roc_auc_score  0.971546"
      ]
     },
     "metadata": {},
     "output_type": "display_data"
    }
   ],
   "source": [
    "metrics_analysis(X_test,y_test,clf_svc)\n",
    "optimal_threshold=plot_rocauc(X_test,y_test,clf_svc)\n",
    "print('Model Classification stats with Optimal Threshold')\n",
    "display_classification_metrics(X_test,y_test,clf_svc,optimal_threshold)"
   ]
  },
  {
   "cell_type": "code",
   "execution_count": 8,
   "metadata": {},
   "outputs": [
    {
     "name": "stdout",
     "output_type": "stream",
     "text": [
      "Fitting 5 folds for each of 60 candidates, totalling 300 fits\n"
     ]
    },
    {
     "name": "stderr",
     "output_type": "stream",
     "text": [
      "[Parallel(n_jobs=-1)]: Using backend LokyBackend with 12 concurrent workers.\n",
      "[Parallel(n_jobs=-1)]: Done  26 tasks      | elapsed:    4.2s\n",
      "[Parallel(n_jobs=-1)]: Done 176 tasks      | elapsed:    7.0s\n"
     ]
    },
    {
     "name": "stdout",
     "output_type": "stream",
     "text": [
      "{'C': 5, 'gamma': 0.1, 'kernel': 'rbf'}\n"
     ]
    },
    {
     "name": "stderr",
     "output_type": "stream",
     "text": [
      "[Parallel(n_jobs=-1)]: Done 300 out of 300 | elapsed:  2.2min finished\n"
     ]
    }
   ],
   "source": [
    "#SVM implementation\n",
    "from sklearn.svm import SVC\n",
    "# Grid search cross validation\n",
    "from sklearn.model_selection import GridSearchCV\n",
    "c_vals = [0.00001, 0.0001, 0.01, 0.1, 1, 5, 10, 100, 1000]\n",
    "\n",
    "\n",
    "c_vals = [0.1, 1, 5, 10, 100, 1000]\n",
    "param_grid = [\n",
    "  {'C': c_vals, 'gamma': [0.1, 0.01, 0.001, 0.0001, 0.00001], 'kernel': ['rbf','linear']},\n",
    " ]\n",
    "grid= GridSearchCV(SVC(random_state=10),param_grid,n_jobs=-1, verbose=1, cv=5)\n",
    "model=grid.fit(X_train,y_train)\n",
    "\n",
    "#To get best params\n",
    "print(model.best_params_)\n"
   ]
  },
  {
   "cell_type": "code",
   "execution_count": 9,
   "metadata": {},
   "outputs": [
    {
     "data": {
      "text/plain": [
       "SVC(C=5, cache_size=200, class_weight=None, coef0=0.0,\n",
       "    decision_function_shape='ovr', degree=3, gamma=0.1, kernel='rbf',\n",
       "    max_iter=-1, probability=True, random_state=10, shrinking=True, tol=0.001,\n",
       "    verbose=False)"
      ]
     },
     "execution_count": 9,
     "metadata": {},
     "output_type": "execute_result"
    }
   ],
   "source": [
    "svc_bestparam = SVC(C=5,gamma=0.1,kernel='rbf',probability=True, random_state=10)\n",
    "svc_bestparam.fit(X_train,y_train)"
   ]
  },
  {
   "cell_type": "code",
   "execution_count": 10,
   "metadata": {},
   "outputs": [
    {
     "name": "stdout",
     "output_type": "stream",
     "text": [
      "[[182  14]\n",
      " [ 13 169]]\n",
      "              precision    recall  f1-score   support\n",
      "\n",
      "           0       0.93      0.93      0.93       196\n",
      "           1       0.92      0.93      0.93       182\n",
      "\n",
      "    accuracy                           0.93       378\n",
      "   macro avg       0.93      0.93      0.93       378\n",
      "weighted avg       0.93      0.93      0.93       378\n",
      "\n"
     ]
    },
    {
     "data": {
      "image/png": "[encoded data removed]",
      "text/plain": [
       "<Figure size 432x288 with 1 Axes>"
      ]
     },
     "metadata": {
      "needs_background": "light"
     },
     "output_type": "display_data"
    },
    {
     "data": {
      "text/plain": [
       "0.370932138906795"
      ]
     },
     "metadata": {},
     "output_type": "display_data"
    },
    {
     "name": "stdout",
     "output_type": "stream",
     "text": [
      "Model Classification stats with Optimal Threshold\n",
      "              precision    recall  f1-score   support\n",
      "\n",
      "           0       0.95      0.92      0.94       196\n",
      "           1       0.92      0.95      0.93       182\n",
      "\n",
      "    accuracy                           0.93       378\n",
      "   macro avg       0.93      0.93      0.93       378\n",
      "weighted avg       0.93      0.93      0.93       378\n",
      "\n"
     ]
    },
    {
     "data": {
      "text/html": [
       "<div>\n",
       "<style scoped>\n",
       "    .dataframe tbody tr th:only-of-type {\n",
       "        vertical-align: middle;\n",
       "    }\n",
       "\n",
       "    .dataframe tbody tr th {\n",
       "        vertical-align: top;\n",
       "    }\n",
       "\n",
       "    .dataframe thead th {\n",
       "        text-align: right;\n",
       "    }\n",
       "</style>\n",
       "<table border=\"1\" class=\"dataframe\">\n",
       "  <thead>\n",
       "    <tr style=\"text-align: right;\">\n",
       "      <th></th>\n",
       "      <th>Value</th>\n",
       "    </tr>\n",
       "  </thead>\n",
       "  <tbody>\n",
       "    <tr>\n",
       "      <th>accuracy</th>\n",
       "      <td>0.933862</td>\n",
       "    </tr>\n",
       "    <tr>\n",
       "      <th>recall</th>\n",
       "      <td>0.945055</td>\n",
       "    </tr>\n",
       "    <tr>\n",
       "      <th>precision</th>\n",
       "      <td>0.919786</td>\n",
       "    </tr>\n",
       "    <tr>\n",
       "      <th>f1-score</th>\n",
       "      <td>0.932249</td>\n",
       "    </tr>\n",
       "    <tr>\n",
       "      <th>roc_auc_score</th>\n",
       "      <td>0.978527</td>\n",
       "    </tr>\n",
       "  </tbody>\n",
       "</table>\n",
       "</div>"
      ],
      "text/plain": [
       "                  Value\n",
       "accuracy       0.933862\n",
       "recall         0.945055\n",
       "precision      0.919786\n",
       "f1-score       0.932249\n",
       "roc_auc_score  0.978527"
      ]
     },
     "metadata": {},
     "output_type": "display_data"
    }
   ],
   "source": [
    "metrics_analysis(X_test,y_test,svc_bestparam)\n",
    "optimal_threshold=plot_rocauc(X_test,y_test,svc_bestparam)\n",
    "print('Model Classification stats with Optimal Threshold')\n",
    "display_classification_metrics(X_test,y_test,svc_bestparam,optimal_threshold)"
   ]
  },
  {
   "cell_type": "markdown",
   "metadata": {},
   "source": [
    "### -------------------Final Model-----------------------------\n",
    "##### Splitting into training and testing\n",
    "##### Training : 0:500 = 500\n",
    "##### Training : 752:1252 = 500\n",
    "##### Test: 500:752  = 252\n",
    "##### Test: 1252:1510 = 258"
   ]
  },
  {
   "cell_type": "code",
   "execution_count": 11,
   "metadata": {},
   "outputs": [
    {
     "name": "stdout",
     "output_type": "stream",
     "text": [
      "(1000, 12)\n",
      "(1000,)\n",
      "(510, 12)\n",
      "(510,)\n"
     ]
    }
   ],
   "source": [
    "# importing the feature file\n",
    "datafile_path= './'\n",
    "datafile_name= 'SegmentFeatures2.csv'\n",
    "data= pd.read_csv(datafile_path+datafile_name, delimiter=',')\n",
    "X=data[['RRBreach', 'SpO2Breach',\n",
    "       'RRHighRegions', 'SpO2LowRegions', 'Stage1OccurL', 'Stage2OccurL',\n",
    "       'Stage3OccurL', 'RRUnsafeRegions', 'SpO2UnsafeRegions', 'Stage1OccurH',\n",
    "       'Stage2OccurH', 'Stage3OccurH']]\n",
    "Y=data[['Type1Pattern']]\n",
    "X_TRAIN = np.concatenate((X.values[0:500,:],X.values[752:1252,:]),axis=0)\n",
    "Y_TRAIN = np.concatenate((Y.values[0:500],Y.values[752:1252]),axis=0)\n",
    "Y_TRAIN = Y_TRAIN.ravel()\n",
    "\n",
    "X_TEST = np.concatenate((X.values[500:752,:],X.values[1252:1510,:]),axis=0)\n",
    "Y_TEST = np.concatenate((Y.values[500:752],Y.values[1252:1510]),axis=0)\n",
    "Y_TEST = Y_TEST.ravel()\n",
    "print(np.shape(X_TRAIN))\n",
    "print(np.shape(Y_TRAIN))\n",
    "print(np.shape(X_TEST))\n",
    "print(np.shape(Y_TEST))\n"
   ]
  },
  {
   "cell_type": "code",
   "execution_count": 12,
   "metadata": {},
   "outputs": [
    {
     "name": "stdout",
     "output_type": "stream",
     "text": [
      "[[219  39]\n",
      " [ 20 232]]\n",
      "              precision    recall  f1-score   support\n",
      "\n",
      "           0       0.92      0.85      0.88       258\n",
      "           1       0.86      0.92      0.89       252\n",
      "\n",
      "    accuracy                           0.88       510\n",
      "   macro avg       0.89      0.88      0.88       510\n",
      "weighted avg       0.89      0.88      0.88       510\n",
      "\n"
     ]
    },
    {
     "data": {
      "image/png": "[encoded data removed]",
      "text/plain": [
       "<Figure size 432x288 with 1 Axes>"
      ]
     },
     "metadata": {
      "needs_background": "light"
     },
     "output_type": "display_data"
    },
    {
     "data": {
      "text/plain": [
       "0.3906949249099198"
      ]
     },
     "metadata": {},
     "output_type": "display_data"
    },
    {
     "name": "stdout",
     "output_type": "stream",
     "text": [
      "Model Classification stats with Optimal Threshold\n",
      "              precision    recall  f1-score   support\n",
      "\n",
      "           0       0.95      0.83      0.89       258\n",
      "           1       0.85      0.95      0.90       252\n",
      "\n",
      "    accuracy                           0.89       510\n",
      "   macro avg       0.90      0.89      0.89       510\n",
      "weighted avg       0.90      0.89      0.89       510\n",
      "\n"
     ]
    },
    {
     "data": {
      "text/html": [
       "<div>\n",
       "<style scoped>\n",
       "    .dataframe tbody tr th:only-of-type {\n",
       "        vertical-align: middle;\n",
       "    }\n",
       "\n",
       "    .dataframe tbody tr th {\n",
       "        vertical-align: top;\n",
       "    }\n",
       "\n",
       "    .dataframe thead th {\n",
       "        text-align: right;\n",
       "    }\n",
       "</style>\n",
       "<table border=\"1\" class=\"dataframe\">\n",
       "  <thead>\n",
       "    <tr style=\"text-align: right;\">\n",
       "      <th></th>\n",
       "      <th>Value</th>\n",
       "    </tr>\n",
       "  </thead>\n",
       "  <tbody>\n",
       "    <tr>\n",
       "      <th>accuracy</th>\n",
       "      <td>0.892157</td>\n",
       "    </tr>\n",
       "    <tr>\n",
       "      <th>recall</th>\n",
       "      <td>0.952381</td>\n",
       "    </tr>\n",
       "    <tr>\n",
       "      <th>precision</th>\n",
       "      <td>0.848057</td>\n",
       "    </tr>\n",
       "    <tr>\n",
       "      <th>f1-score</th>\n",
       "      <td>0.897196</td>\n",
       "    </tr>\n",
       "    <tr>\n",
       "      <th>roc_auc_score</th>\n",
       "      <td>0.922781</td>\n",
       "    </tr>\n",
       "  </tbody>\n",
       "</table>\n",
       "</div>"
      ],
      "text/plain": [
       "                  Value\n",
       "accuracy       0.892157\n",
       "recall         0.952381\n",
       "precision      0.848057\n",
       "f1-score       0.897196\n",
       "roc_auc_score  0.922781"
      ]
     },
     "metadata": {},
     "output_type": "display_data"
    }
   ],
   "source": [
    "svc_bestparam = SVC(C=5,gamma=0.1,kernel='rbf',probability=True, random_state=10)\n",
    "svc_bestparam.fit(X_TRAIN, Y_TRAIN)\n",
    "\n",
    "metrics_analysis(X_TEST,Y_TEST,svc_bestparam)\n",
    "optimal_threshold=plot_rocauc(X_TEST,Y_TEST,svc_bestparam)\n",
    "print('Model Classification stats with Optimal Threshold')\n",
    "display_classification_metrics(X_TEST,Y_TEST,svc_bestparam,optimal_threshold)"
   ]
  },
  {
   "cell_type": "code",
   "execution_count": 13,
   "metadata": {},
   "outputs": [],
   "source": [
    "import pickle\n",
    "\n",
    "# save the model to disk\n",
    "model_path= './'\n",
    "model_name = 'svm_model.sav'\n",
    "pickle.dump(svc_bestparam, open(model_path+model_name, 'wb'))"
   ]
  }
 ],
 "metadata": {
  "kernelspec": {
   "display_name": "Python 3",
   "language": "python",
   "name": "python3"
  },
  "language_info": {
   "codemirror_mode": {
    "name": "ipython",
    "version": 3
   },
   "file_extension": ".py",
   "mimetype": "text/x-python",
   "name": "python",
   "nbconvert_exporter": "python",
   "pygments_lexer": "ipython3",
   "version": "3.7.5"
  }
 },
 "nbformat": 4,
 "nbformat_minor": 2
}
