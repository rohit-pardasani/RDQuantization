{
 "cells": [
  {
   "cell_type": "code",
   "execution_count": null,
   "metadata": {},
   "outputs": [],
   "source": [
    "# Importing the libraries\n",
    "import numpy as np\n",
    "import matplotlib.pyplot as plt\n",
    "import pandas as pd\n",
    "import os\n",
    "from patsy import dmatrices\n",
    "import statsmodels.api as sm\n",
    "from utilities import *"
   ]
  },
  {
   "cell_type": "code",
   "execution_count": null,
   "metadata": {},
   "outputs": [],
   "source": [
    "# importing the feature file\n",
    "path= './'\n",
    "file= 'SegmentFeatures2.csv'\n",
    "data= pd.read_csv(path+file, delimiter=',')\n",
    "display(data.head())"
   ]
  },
  {
   "cell_type": "code",
   "execution_count": null,
   "metadata": {},
   "outputs": [],
   "source": [
    "X=data[['RRBreach', 'SpO2Breach',\n",
    "       'RRHighRegions', 'SpO2LowRegions', 'Stage1OccurL', 'Stage2OccurL',\n",
    "       'Stage3OccurL', 'RRUnsafeRegions', 'SpO2UnsafeRegions', 'Stage1OccurH',\n",
    "       'Stage2OccurH', 'Stage3OccurH']]\n",
    "X.head()"
   ]
  },
  {
   "cell_type": "code",
   "execution_count": null,
   "metadata": {},
   "outputs": [],
   "source": [
    "Y=data[['Type1Pattern']]\n",
    "Y.head()"
   ]
  },
  {
   "cell_type": "code",
   "execution_count": null,
   "metadata": {},
   "outputs": [],
   "source": [
    "# Splitting the dataset into the Training set and Test set\n",
    "from sklearn.model_selection import train_test_split\n",
    "X_train, X_test, y_train, y_test = train_test_split(X, Y, test_size = 1/4,random_state = 10)\n",
    "display(y_test['Type1Pattern'].value_counts(normalize=True) * 100)\n",
    "display(y_train['Type1Pattern'].value_counts(normalize=True) * 100)\n",
    "y_train = y_train.values.ravel()\n",
    "y_test = y_test.values.ravel()\n",
    "print(np.shape(y_train))\n",
    "print(np.shape(y_test))"
   ]
  },
  {
   "cell_type": "code",
   "execution_count": null,
   "metadata": {},
   "outputs": [],
   "source": [
    "#SVM implementation\n",
    "from sklearn.svm import SVC\n",
    "clf_svc = SVC(random_state=10,probability=True)\n",
    "clf_svc.fit(X_train,y_train)"
   ]
  },
  {
   "cell_type": "code",
   "execution_count": null,
   "metadata": {},
   "outputs": [],
   "source": [
    "metrics_analysis(X_test,y_test,clf_svc)\n",
    "optimal_threshold=plot_rocauc(X_test,y_test,clf_svc)\n",
    "print('Model Classification stats with Optimal Threshold')\n",
    "display_classification_metrics(X_test,y_test,clf_svc,optimal_threshold)"
   ]
  },
  {
   "cell_type": "code",
   "execution_count": null,
   "metadata": {},
   "outputs": [],
   "source": [
    "#SVM implementation\n",
    "from sklearn.svm import SVC\n",
    "# Grid search cross validation\n",
    "from sklearn.model_selection import GridSearchCV\n",
    "c_vals = [0.00001, 0.0001, 0.01, 0.1, 1, 5, 10, 100, 1000]\n",
    "\n",
    "\n",
    "c_vals = [0.1, 1, 5, 10, 100, 1000]\n",
    "param_grid = [\n",
    "  {'C': c_vals, 'gamma': [0.1, 0.01, 0.001, 0.0001, 0.00001], 'kernel': ['rbf','linear']},\n",
    " ]\n",
    "grid= GridSearchCV(SVC(random_state=10),param_grid,n_jobs=-1, verbose=1, cv=5)\n",
    "model=grid.fit(X_train,y_train)\n",
    "\n",
    "#To get best params\n",
    "print(model.best_params_)\n"
   ]
  },
  {
   "cell_type": "code",
   "execution_count": null,
   "metadata": {},
   "outputs": [],
   "source": [
    "svc_bestparam = SVC(C=5,gamma=0.1,kernel='rbf',probability=True, random_state=10)\n",
    "svc_bestparam.fit(X_train,y_train)"
   ]
  },
  {
   "cell_type": "code",
   "execution_count": null,
   "metadata": {},
   "outputs": [],
   "source": [
    "metrics_analysis(X_test,y_test,svc_bestparam)\n",
    "optimal_threshold=plot_rocauc(X_test,y_test,svc_bestparam)\n",
    "print('Model Classification stats with Optimal Threshold')\n",
    "display_classification_metrics(X_test,y_test,svc_bestparam,optimal_threshold)"
   ]
  },
  {
   "cell_type": "markdown",
   "metadata": {},
   "source": [
    "### -------------------Final Model-----------------------------\n",
    "##### Splitting into training and testing\n",
    "##### Training : 0:500 = 500\n",
    "##### Training : 752:1252 = 500\n",
    "##### Test: 500:752  = 252\n",
    "##### Test: 1252:1510 = 258"
   ]
  },
  {
   "cell_type": "code",
   "execution_count": null,
   "metadata": {},
   "outputs": [],
   "source": [
    "# importing the feature file\n",
    "datafile_path= './'\n",
    "datafile_name= 'SegmentFeatures2.csv'\n",
    "data= pd.read_csv(datafile_path+datafile_name, delimiter=',')\n",
    "X=data[['RRBreach', 'SpO2Breach',\n",
    "       'RRHighRegions', 'SpO2LowRegions', 'Stage1OccurL', 'Stage2OccurL',\n",
    "       'Stage3OccurL', 'RRUnsafeRegions', 'SpO2UnsafeRegions', 'Stage1OccurH',\n",
    "       'Stage2OccurH', 'Stage3OccurH']]\n",
    "Y=data[['Type1Pattern']]\n",
    "X_TRAIN = np.concatenate((X.values[0:500,:],X.values[752:1252,:]),axis=0)\n",
    "Y_TRAIN = np.concatenate((Y.values[0:500],Y.values[752:1252]),axis=0)\n",
    "Y_TRAIN = Y_TRAIN.ravel()\n",
    "\n",
    "X_TEST = np.concatenate((X.values[500:752,:],X.values[1252:1510,:]),axis=0)\n",
    "Y_TEST = np.concatenate((Y.values[500:752],Y.values[1252:1510]),axis=0)\n",
    "Y_TEST = Y_TEST.ravel()\n",
    "print(np.shape(X_TRAIN))\n",
    "print(np.shape(Y_TRAIN))\n",
    "print(np.shape(X_TEST))\n",
    "print(np.shape(Y_TEST))\n"
   ]
  },
  {
   "cell_type": "code",
   "execution_count": null,
   "metadata": {},
   "outputs": [],
   "source": [
    "svc_bestparam = SVC(C=5,gamma=0.1,kernel='rbf',probability=True, random_state=10)\n",
    "svc_bestparam.fit(X_TRAIN, Y_TRAIN)\n",
    "\n",
    "metrics_analysis(X_TEST,Y_TEST,svc_bestparam)\n",
    "optimal_threshold=plot_rocauc(X_TEST,Y_TEST,svc_bestparam)\n",
    "print('Model Classification stats with Optimal Threshold')\n",
    "display_classification_metrics(X_TEST,Y_TEST,svc_bestparam,optimal_threshold)"
   ]
  },
  {
   "cell_type": "code",
   "execution_count": null,
   "metadata": {},
   "outputs": [],
   "source": [
    "import pickle\n",
    "\n",
    "# save the model to disk\n",
    "model_path= './'\n",
    "model_name = 'svm_model.sav'\n",
    "pickle.dump(svc_bestparam, open(model_path+model_name, 'wb'))"
   ]
  }
 ],
 "metadata": {
  "kernelspec": {
   "display_name": "Python 3",
   "language": "python",
   "name": "python3"
  },
  "language_info": {
   "codemirror_mode": {
    "name": "ipython",
    "version": 3
   },
   "file_extension": ".py",
   "mimetype": "text/x-python",
   "name": "python",
   "nbconvert_exporter": "python",
   "pygments_lexer": "ipython3",
   "version": "3.7.5"
  }
 },
 "nbformat": 4,
 "nbformat_minor": 2
}
