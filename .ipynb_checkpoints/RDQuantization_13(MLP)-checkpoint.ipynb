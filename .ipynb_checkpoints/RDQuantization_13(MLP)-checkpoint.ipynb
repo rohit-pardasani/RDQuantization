{
 "cells": [
  {
   "cell_type": "code",
   "execution_count": null,
   "metadata": {},
   "outputs": [],
   "source": [
    "# Importing the libraries\n",
    "import numpy as np\n",
    "import matplotlib.pyplot as plt\n",
    "import pandas as pd\n",
    "import os\n",
    "from patsy import dmatrices\n",
    "import statsmodels.api as sm\n",
    "from utilities import *"
   ]
  },
  {
   "cell_type": "code",
   "execution_count": null,
   "metadata": {},
   "outputs": [],
   "source": [
    "# importing the feature file\n",
    "path= './'\n",
    "file= 'SegmentFeatures2.csv'\n",
    "data= pd.read_csv(path+file, delimiter=',')\n",
    "display(data.head())"
   ]
  },
  {
   "cell_type": "code",
   "execution_count": null,
   "metadata": {},
   "outputs": [],
   "source": [
    "X=data[['RRBreach', 'SpO2Breach',\n",
    "       'RRHighRegions', 'SpO2LowRegions', 'Stage1OccurL', 'Stage2OccurL',\n",
    "       'Stage3OccurL', 'RRUnsafeRegions', 'SpO2UnsafeRegions', 'Stage1OccurH',\n",
    "       'Stage2OccurH', 'Stage3OccurH']]\n",
    "X.head()"
   ]
  },
  {
   "cell_type": "code",
   "execution_count": null,
   "metadata": {},
   "outputs": [],
   "source": [
    "Y=data[['Type1Pattern']]\n",
    "Y.head()"
   ]
  },
  {
   "cell_type": "code",
   "execution_count": null,
   "metadata": {},
   "outputs": [],
   "source": [
    "# Splitting the dataset into the Training set and Test set\n",
    "from sklearn.model_selection import train_test_split\n",
    "X_train, X_test, y_train, y_test = train_test_split(X, Y, test_size = 1/4,random_state = 10)\n",
    "display(y_test['Type1Pattern'].value_counts(normalize=True) * 100)\n",
    "display(y_train['Type1Pattern'].value_counts(normalize=True) * 100)\n",
    "y_train = y_train.values.ravel()\n",
    "y_test = y_test.values.ravel()\n",
    "print(np.shape(y_train))\n",
    "print(np.shape(y_test))"
   ]
  },
  {
   "cell_type": "code",
   "execution_count": null,
   "metadata": {},
   "outputs": [],
   "source": [
    "#MLP implementation\n",
    "from sklearn.neural_network import MLPClassifier\n",
    "clf_mlp = MLPClassifier(random_state=10)\n",
    "clf_mlp.fit(X_train,y_train)"
   ]
  },
  {
   "cell_type": "code",
   "execution_count": null,
   "metadata": {},
   "outputs": [],
   "source": [
    "metrics_analysis(X_test,y_test,clf_mlp)\n",
    "optimal_threshold=plot_rocauc(X_test,y_test,clf_mlp)\n",
    "print('Model Classification stats with Optimal Threshold')\n",
    "display_classification_metrics(X_test,y_test,clf_mlp,optimal_threshold)"
   ]
  },
  {
   "cell_type": "code",
   "execution_count": null,
   "metadata": {},
   "outputs": [],
   "source": [
    "param_grid = {\n",
    "    'hidden_layer_sizes': [(50,50,50), (50,100,50), (100,)],\n",
    "    'activation': ['tanh', 'relu'],\n",
    "    'solver': ['sgd', 'adam'],\n",
    "    'alpha': [0.0001,0.1,0.01,0.05,0.001],\n",
    "    'learning_rate': ['constant','adaptive'],\n",
    "    'batch_size': [50,100,200,500,1000],\n",
    "    'max_iter' : [100,200,500]\n",
    "}"
   ]
  },
  {
   "cell_type": "code",
   "execution_count": null,
   "metadata": {},
   "outputs": [],
   "source": [
    "# Grid search cross validation\n",
    "from sklearn.model_selection import GridSearchCV\n",
    "grid= GridSearchCV(MLPClassifier(random_state=10),param_grid,n_jobs=-1, verbose=1, cv=5)\n",
    "model=grid.fit(X_train,y_train)\n",
    "\n",
    "#To get best params\n",
    "print(model.best_params_)"
   ]
  },
  {
   "cell_type": "code",
   "execution_count": null,
   "metadata": {},
   "outputs": [],
   "source": [
    "mlp_bestparam = MLPClassifier(max_iter=100,batch_size=200,activation='relu',alpha=0.01,hidden_layer_sizes=(50, 100, 50),learning_rate='constant', solver='adam',random_state=10)\n",
    "mlp_bestparam.fit(X_train,y_train)"
   ]
  },
  {
   "cell_type": "code",
   "execution_count": null,
   "metadata": {},
   "outputs": [],
   "source": [
    "metrics_analysis(X_test,y_test,mlp_bestparam)\n",
    "optimal_threshold=plot_rocauc(X_test,y_test,mlp_bestparam)\n",
    "print('Model Classification stats with Optimal Threshold')\n",
    "display_classification_metrics(X_test,y_test,mlp_bestparam,optimal_threshold)"
   ]
  },
  {
   "cell_type": "markdown",
   "metadata": {},
   "source": [
    "### -------------------Final Model-----------------------------\n",
    "##### Splitting into training and testing\n",
    "##### Training : 0:500 = 500\n",
    "##### Training : 752:1252 = 500\n",
    "##### Test: 500:752  = 252\n",
    "##### Test: 1252:1510 = 258"
   ]
  },
  {
   "cell_type": "code",
   "execution_count": null,
   "metadata": {},
   "outputs": [],
   "source": [
    "# importing the feature file\n",
    "datafile_path= './'\n",
    "datafile_name= 'SegmentFeatures2.csv'\n",
    "data= pd.read_csv(datafile_path+datafile_name, delimiter=',')\n",
    "X=data[['RRBreach', 'SpO2Breach',\n",
    "       'RRHighRegions', 'SpO2LowRegions', 'Stage1OccurL', 'Stage2OccurL',\n",
    "       'Stage3OccurL', 'RRUnsafeRegions', 'SpO2UnsafeRegions', 'Stage1OccurH',\n",
    "       'Stage2OccurH', 'Stage3OccurH']]\n",
    "Y=data[['Type1Pattern']]\n",
    "X_TRAIN = np.concatenate((X.values[0:500,:],X.values[752:1252,:]),axis=0)\n",
    "Y_TRAIN = np.concatenate((Y.values[0:500],Y.values[752:1252]),axis=0)\n",
    "Y_TRAIN = Y_TRAIN.ravel()\n",
    "\n",
    "X_TEST = np.concatenate((X.values[500:752,:],X.values[1252:1510,:]),axis=0)\n",
    "Y_TEST = np.concatenate((Y.values[500:752],Y.values[1252:1510]),axis=0)\n",
    "Y_TEST = Y_TEST.ravel()\n",
    "print(np.shape(X_TRAIN))\n",
    "print(np.shape(Y_TRAIN))\n",
    "print(np.shape(X_TEST))\n",
    "print(np.shape(Y_TEST))\n"
   ]
  },
  {
   "cell_type": "code",
   "execution_count": null,
   "metadata": {},
   "outputs": [],
   "source": [
    "mlp_bestparam = MLPClassifier(max_iter=100,batch_size=200,activation='relu',alpha=0.01,hidden_layer_sizes=(50, 100, 50),learning_rate='constant', solver='adam',random_state=10)\n",
    "mlp_bestparam.fit(X_TRAIN, Y_TRAIN)\n",
    "\n",
    "metrics_analysis(X_TEST,Y_TEST,mlp_bestparam)\n",
    "optimal_threshold=plot_rocauc(X_TEST,Y_TEST,mlp_bestparam)\n",
    "print('Model Classification stats with Optimal Threshold')\n",
    "display_classification_metrics(X_TEST,Y_TEST,mlp_bestparam,optimal_threshold)"
   ]
  },
  {
   "cell_type": "code",
   "execution_count": null,
   "metadata": {},
   "outputs": [],
   "source": [
    "import pickle\n",
    "\n",
    "# save the model to disk\n",
    "model_path= './'\n",
    "model_name = 'mlp_model.sav'\n",
    "pickle.dump(mlp_bestparam, open(model_path+model_name, 'wb'))"
   ]
  }
 ],
 "metadata": {
  "kernelspec": {
   "display_name": "Python 3",
   "language": "python",
   "name": "python3"
  },
  "language_info": {
   "codemirror_mode": {
    "name": "ipython",
    "version": 3
   },
   "file_extension": ".py",
   "mimetype": "text/x-python",
   "name": "python",
   "nbconvert_exporter": "python",
   "pygments_lexer": "ipython3",
   "version": "3.7.5"
  }
 },
 "nbformat": 4,
 "nbformat_minor": 2
}
