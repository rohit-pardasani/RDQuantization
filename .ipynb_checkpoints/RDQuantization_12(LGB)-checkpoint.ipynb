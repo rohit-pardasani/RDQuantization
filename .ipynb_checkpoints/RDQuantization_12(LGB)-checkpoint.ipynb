{
 "cells": [
  {
   "cell_type": "code",
   "execution_count": null,
   "metadata": {},
   "outputs": [],
   "source": [
    "# Importing the libraries\n",
    "import numpy as np\n",
    "import matplotlib.pyplot as plt\n",
    "import pandas as pd\n",
    "import os\n",
    "from patsy import dmatrices\n",
    "import statsmodels.api as sm\n",
    "from utilities import *"
   ]
  },
  {
   "cell_type": "code",
   "execution_count": null,
   "metadata": {},
   "outputs": [],
   "source": [
    "# importing the feature file\n",
    "path= './'\n",
    "file= 'SegmentFeatures2.csv'\n",
    "data= pd.read_csv(path+file, delimiter=',')\n",
    "display(data.head())"
   ]
  },
  {
   "cell_type": "code",
   "execution_count": null,
   "metadata": {},
   "outputs": [],
   "source": [
    "X=data[['RRBreach', 'SpO2Breach',\n",
    "       'RRHighRegions', 'SpO2LowRegions', 'Stage1OccurL', 'Stage2OccurL',\n",
    "       'Stage3OccurL', 'RRUnsafeRegions', 'SpO2UnsafeRegions', 'Stage1OccurH',\n",
    "       'Stage2OccurH', 'Stage3OccurH']]\n",
    "X.head()"
   ]
  },
  {
   "cell_type": "code",
   "execution_count": null,
   "metadata": {},
   "outputs": [],
   "source": [
    "Y=data[['Type1Pattern']]\n",
    "Y.head()"
   ]
  },
  {
   "cell_type": "code",
   "execution_count": null,
   "metadata": {},
   "outputs": [],
   "source": [
    "# Splitting the dataset into the Training set and Test set\n",
    "from sklearn.model_selection import train_test_split\n",
    "X_train, X_test, y_train, y_test = train_test_split(X, Y, test_size = 1/4,random_state = 10)\n",
    "display(y_test['Type1Pattern'].value_counts(normalize=True) * 100)\n",
    "display(y_train['Type1Pattern'].value_counts(normalize=True) * 100)\n",
    "y_train = y_train.values.ravel()\n",
    "y_test = y_test.values.ravel()\n",
    "print(np.shape(y_train))\n",
    "print(np.shape(y_test))"
   ]
  },
  {
   "cell_type": "code",
   "execution_count": null,
   "metadata": {},
   "outputs": [],
   "source": [
    "import lightgbm as lgb\n",
    "# Get default hyperparameters\n",
    "model_lgb = lgb.LGBMClassifier()\n",
    "default_params = model_lgb.get_params()\n",
    "display(default_params)"
   ]
  },
  {
   "cell_type": "code",
   "execution_count": null,
   "metadata": {},
   "outputs": [],
   "source": [
    "model_lgb.fit(X_train,y_train)"
   ]
  },
  {
   "cell_type": "code",
   "execution_count": null,
   "metadata": {},
   "outputs": [],
   "source": [
    "metrics_analysis(X_test,y_test,model_lgb)\n",
    "optimal_threshold=plot_rocauc(X_test,y_test,model_lgb)\n",
    "display_classification_metrics(X_test,y_test,model_lgb,optimal_threshold)"
   ]
  },
  {
   "cell_type": "code",
   "execution_count": null,
   "metadata": {
    "scrolled": true
   },
   "outputs": [],
   "source": [
    "from sklearn.model_selection import GridSearchCV\n",
    "param_grid = {\n",
    "    'boosting_type': ['gbdt', 'goss', 'dart'],\n",
    "    'num_leaves': list(range(20, 50)),\n",
    "    'learning_rate': list(np.logspace(np.log10(0.01), np.log10(0.5), base = 10, num = 100)),\n",
    "    'n_estimators': list(range(2,20))\n",
    "}\n",
    "\n",
    "#display(param_grid['learning_rate'])\n",
    "#display(len(param_grid['learning_rate']))\n",
    "\n",
    "# Grid search cross validation\n",
    "grid = GridSearchCV(lgb.LGBMClassifier(random_state=10),param_grid,n_jobs=-1, verbose=1, cv=5)\n",
    "model_lgb_grid = grid.fit(X_train,y_train)"
   ]
  },
  {
   "cell_type": "code",
   "execution_count": null,
   "metadata": {},
   "outputs": [],
   "source": [
    "print(model_lgb_grid.best_params_)"
   ]
  },
  {
   "cell_type": "code",
   "execution_count": null,
   "metadata": {},
   "outputs": [],
   "source": [
    "model_lgb_best_param=lgb.LGBMClassifier(boosting_type ='gbdt',\n",
    " learning_rate= 0.36448486475346364,\n",
    " n_estimators= 19,\n",
    " num_leaves= 31)\n",
    "\n",
    "model_lgb_best_param.fit(X_train,y_train)\n",
    "metrics_analysis(X_test,y_test,model_lgb_best_param)\n",
    "optimal_threshold=plot_rocauc(X_test,y_test,model_lgb_best_param)\n",
    "display_classification_metrics(X_test,y_test,model_lgb_best_param,optimal_threshold)"
   ]
  },
  {
   "cell_type": "markdown",
   "metadata": {},
   "source": [
    "### -------------------Final Model-----------------------------\n",
    "##### Splitting into training and testing\n",
    "##### Training : 0:500 = 500\n",
    "##### Training : 752:1252 = 500\n",
    "##### Test: 500:752  = 252\n",
    "##### Test: 1252:1510 = 258"
   ]
  },
  {
   "cell_type": "code",
   "execution_count": null,
   "metadata": {},
   "outputs": [],
   "source": [
    "# importing the feature file\n",
    "datafile_path= './'\n",
    "datafile_name= 'SegmentFeatures2.csv'\n",
    "data= pd.read_csv(datafile_path+datafile_name, delimiter=',')\n",
    "X=data[['RRBreach', 'SpO2Breach',\n",
    "       'RRHighRegions', 'SpO2LowRegions', 'Stage1OccurL', 'Stage2OccurL',\n",
    "       'Stage3OccurL', 'RRUnsafeRegions', 'SpO2UnsafeRegions', 'Stage1OccurH',\n",
    "       'Stage2OccurH', 'Stage3OccurH']]\n",
    "Y=data[['Type1Pattern']]\n",
    "X_TRAIN = np.concatenate((X.values[0:500,:],X.values[752:1252,:]),axis=0)\n",
    "Y_TRAIN = np.concatenate((Y.values[0:500],Y.values[752:1252]),axis=0)\n",
    "Y_TRAIN = Y_TRAIN.ravel()\n",
    "\n",
    "X_TEST = np.concatenate((X.values[500:752,:],X.values[1252:1510,:]),axis=0)\n",
    "Y_TEST = np.concatenate((Y.values[500:752],Y.values[1252:1510]),axis=0)\n",
    "Y_TEST = Y_TEST.ravel()\n",
    "print(np.shape(X_TRAIN))\n",
    "print(np.shape(Y_TRAIN))\n",
    "print(np.shape(X_TEST))\n",
    "print(np.shape(Y_TEST))\n"
   ]
  },
  {
   "cell_type": "code",
   "execution_count": null,
   "metadata": {},
   "outputs": [],
   "source": [
    "model_lgb_best_param=lgb.LGBMClassifier(boosting_type ='gbdt',\n",
    " learning_rate= 0.36448486475346364,\n",
    " n_estimators= 19,\n",
    " num_leaves= 31)\n",
    "\n",
    "model_lgb_best_param.fit(X_TRAIN, Y_TRAIN)\n",
    "metrics_analysis(X_TEST,Y_TEST, model_lgb_best_param)\n",
    "optimal_threshold=plot_rocauc(X_TEST,Y_TEST, model_lgb_best_param)\n",
    "print('Model Classification stats with Optimal Threshold')\n",
    "display_classification_metrics(X_TEST,Y_TEST, model_lgb_best_param, optimal_threshold)"
   ]
  },
  {
   "cell_type": "markdown",
   "metadata": {},
   "source": [
    "### Saving the model"
   ]
  },
  {
   "cell_type": "code",
   "execution_count": null,
   "metadata": {},
   "outputs": [],
   "source": [
    "import pickle\n",
    "# save the model to disk\n",
    "model_path= './'\n",
    "model_name = 'lgb_model.sav'\n",
    "pickle.dump(model_lgb_best_param, open(model_path+model_name, 'wb'))"
   ]
  }
 ],
 "metadata": {
  "kernelspec": {
   "display_name": "Python 3",
   "language": "python",
   "name": "python3"
  },
  "language_info": {
   "codemirror_mode": {
    "name": "ipython",
    "version": 3
   },
   "file_extension": ".py",
   "mimetype": "text/x-python",
   "name": "python",
   "nbconvert_exporter": "python",
   "pygments_lexer": "ipython3",
   "version": "3.7.5"
  }
 },
 "nbformat": 4,
 "nbformat_minor": 2
}
