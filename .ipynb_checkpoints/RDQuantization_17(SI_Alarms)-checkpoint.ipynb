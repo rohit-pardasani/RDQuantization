{
 "cells": [
  {
   "cell_type": "code",
   "execution_count": 8,
   "metadata": {},
   "outputs": [],
   "source": [
    "import csv\n",
    "from RDFunctions import *\n",
    "# Go to each of 912 records\n",
    "# Get SI series for each record using each method\n",
    "# Then select a threshold and see sensitivity, specificity and lead time and penalized lead time for each\n",
    "a = [[1,2,3],[2,3,5,7]]\n",
    "with open(\"out.csv\", \"w\", newline=\"\") as f:\n",
    "    writer = csv.writer(f)\n",
    "    writer.writerows(a)"
   ]
  },
  {
   "cell_type": "code",
   "execution_count": 6,
   "metadata": {},
   "outputs": [
    {
     "name": "stdout",
     "output_type": "stream",
     "text": [
      "[[1, 2, 3], [1, 2, 5, 7]]\n"
     ]
    }
   ],
   "source": [
    "x = [[1,2,3]]\n",
    "y = [1,2,5,7]\n",
    "x.append(y)\n",
    "print(x)"
   ]
  },
  {
   "cell_type": "code",
   "execution_count": 7,
   "metadata": {},
   "outputs": [
    {
     "name": "stdout",
     "output_type": "stream",
     "text": [
      "[1, 2, 3]\n",
      "[[1, 2, 3]]\n"
     ]
    }
   ],
   "source": [
    "w = [1,2,3]\n",
    "print(w)\n",
    "u = [w]\n",
    "print(u)"
   ]
  },
  {
   "cell_type": "code",
   "execution_count": 17,
   "metadata": {},
   "outputs": [],
   "source": [
    "def getSIseries(serial_id,dfOuranno,method,model):\n",
    "    OUTLIERSD = 2.5\n",
    "    LOWESSWINDOW = 3.0\n",
    "    record_name = dfOuranno.loc[serial_id,'RecordNum'] \n",
    "    patient_id = dfOuranno.loc[serial_id,'PatientId']\n",
    "    flname = './FinalRecords/'+str(record_name)+'n.hea'\n",
    "    recname = './FinalRecords/'+str(record_name)+'n'       \n",
    "    \n",
    "    [samples,R,S,H,firstline] = getIndexOfRRSpO2HR(flname)\n",
    "    rec =  wfdb.io.rdrecord(str(recname))\n",
    "    xrr = rec.p_signal[:,R]\n",
    "    xspo2 = rec.p_signal[:,S]\n",
    "    xhr = rec.p_signal[:,H]\n",
    "    TOTAL_LEN = len(xrr)\n",
    "    t = np.arange(0,TOTAL_LEN,1)\n",
    "    \n",
    "    [xrrnew,trrnew] = outlierRejector(xrr,t,OUTLIERSD,default=15.0)\n",
    "    [xspo2new,tspo2new] = outlierRejector(xspo2,t,OUTLIERSD, default=98.0)\n",
    "    [xhrnew,thrnew] = outlierRejector(xhr,t,OUTLIERSD)\n",
    "    \n",
    "    zrrnew = applyLowess(xrrnew,trrnew,LOWESSWINDOW*60)\n",
    "    zspo2new = applyLowess(xspo2new,tspo2new,LOWESSWINDOW*60)\n",
    "    zhrnew = applyLowess(xhrnew,thrnew,LOWESSWINDOW*60)\n",
    "    \n",
    "    tnew = zrrnew[:,0]/60.0\n",
    "    \n",
    "    rr_loess = zrrnew[:,1]\n",
    "    spo2_loess = zspo2new[:,1]\n",
    "        \n",
    "    bar_h = []\n",
    "    \n",
    "    if(method=='LR' or method=='LGB' or method=='MLP' or method=='SVM'):\n",
    "        for ii in range(24*60,TOTAL_LEN,60):\n",
    "            feature_array = getLongFeatures(rr_loess[(ii-24*60):ii],spo2_loess[(ii-24*60):ii])\n",
    "            feature_array = np.array(feature_array[0:12],dtype=np.float32)\n",
    "            predict = model.predict_proba(feature_array.reshape(1,-1))[0][1]\n",
    "            bar_h.append(predict)\n",
    "            \n",
    "    if(method=='CNN' or method=='LSTM'):\n",
    "        seg = np.zeros((1,1440,2),dtype=np.float64)\n",
    "        for ii in range(24*60,TOTAL_LEN,60):\n",
    "            seg[0,:,0] = (rr_loess[(ii-24*60):ii] - 25)/10\n",
    "            seg[0,:,1] = (spo2_loess[(ii-24*60):ii] - 93)/10\n",
    "            predict = model.predict(seg)[0,0]\n",
    "            bar_h.append(predict)\n",
    "        \n",
    "    return bar_h"
   ]
  },
  {
   "cell_type": "code",
   "execution_count": 18,
   "metadata": {},
   "outputs": [],
   "source": [
    "import pickle\n",
    "annofile = r'RecordsAnno4.csv'\n",
    "dfOuranno = pd.read_csv(annofile, encoding='iso-8859-1')  "
   ]
  },
  {
   "cell_type": "code",
   "execution_count": 20,
   "metadata": {
    "scrolled": true
   },
   "outputs": [
    {
     "name": "stdout",
     "output_type": "stream",
     "text": [
      "0 1 2 3 4 5 6 7 8 9 10 11 12 13 14 15 16 17 18 19 20 21 22 23 24 25 26 27 28 29 30 31 32 33 34 35 36 37 38 39 40 41 42 43 44 45 46 47 48 49 50 51 52 53 54 55 56 57 58 59 60 61 62 63 64 65 66 67 68 69 70 71 72 73 74 75 76 77 78 79 80 81 82 83 84 85 86 87 88 89 90 91 92 93 94 95 96 97 98 99 100 101 102 103 104 105 106 107 108 109 110 111 112 113 114 115 116 117 118 119 120 121 122 123 124 125 126 127 128 129 130 131 132 133 134 135 136 137 138 139 140 141 142 143 144 145 146 147 148 149 150 151 152 153 154 155 156 157 158 159 160 161 162 163 164 165 166 167 168 169 170 171 172 173 174 175 176 177 178 179 180 181 182 183 184 185 186 187 188 189 190 191 192 193 194 195 196 197 198 199 200 201 202 203 204 205 206 207 208 209 210 211 212 213 214 215 216 217 218 219 220 221 222 223 224 225 226 227 228 229 230 231 232 233 234 235 236 237 238 239 240 241 242 243 244 245 246 247 248 249 250 251 252 253 254 255 256 257 258 259 260 261 262 263 264 265 266 267 268 269 270 271 272 273 274 275 276 277 278 279 280 281 282 283 284 285 286 287 288 289 290 291 292 293 294 295 296 297 298 299 300 301 302 303 304 305 306 307 308 309 310 311 312 313 314 315 316 317 318 319 320 321 322 323 324 325 326 327 328 329 330 331 332 333 334 335 336 337 338 339 340 341 342 343 344 345 346 347 348 349 350 351 352 353 354 355 356 357 358 359 360 361 362 363 364 365 366 367 368 369 370 371 372 373 374 375 376 377 378 379 380 381 382 383 384 385 386 387 388 389 390 391 392 393 394 395 396 397 398 399 400 401 402 403 404 405 406 407 408 409 410 411 412 413 414 415 416 417 418 419 420 421 422 423 424 425 426 427 428 429 430 431 432 433 434 435 436 437 438 439 440 441 442 443 444 445 446 447 448 449 450 451 452 453 454 455 456 457 458 459 460 461 462 463 464 465 466 467 468 469 470 471 472 473 474 475 476 477 478 479 480 481 482 483 484 485 486 487 488 489 490 491 492 493 494 495 496 497 498 499 500 501 502 503 504 505 506 507 508 509 510 511 512 513 514 515 516 517 518 519 520 521 522 523 524 525 526 527 528 529 530 531 532 533 534 535 536 537 538 539 540 541 542 543 544 545 546 547 548 549 550 551 552 553 554 555 556 557 558 559 560 561 562 563 564 565 566 567 568 569 570 571 572 573 574 575 576 577 578 579 580 581 582 583 584 585 586 587 588 589 590 591 592 593 594 595 596 597 598 599 600 601 602 603 604 605 606 607 608 609 610 611 612 613 614 615 616 617 618 619 620 621 622 623 624 625 626 627 628 629 630 631 632 633 634 635 636 637 638 639 640 641 642 643 644 645 646 647 648 649 650 651 652 653 654 655 656 657 658 659 660 661 662 663 664 665 666 667 668 669 670 671 672 673 674 675 676 677 678 679 680 681 682 683 684 685 686 687 688 689 690 691 692 693 694 695 696 697 698 699 700 701 702 703 704 705 706 707 708 709 710 711 712 713 714 715 716 717 718 719 720 721 722 723 724 725 726 727 728 729 730 731 732 733 734 735 736 737 738 739 740 741 742 743 744 745 746 747 748 749 750 751 752 753 754 755 756 757 758 759 760 761 762 763 764 765 766 767 768 769 770 771 772 773 774 775 776 777 778 779 780 781 782 783 784 785 786 787 788 789 790 791 792 793 794 795 796 797 798 799 800 801 802 803 804 805 806 807 808 809 810 811 812 813 814 815 816 817 818 819 820 821 822 823 824 825 826 827 828 829 830 831 832 833 834 835 836 837 838 839 840 841 842 843 844 845 846 847 848 849 850 851 852 853 854 855 856 857 858 859 860 861 862 863 864 865 866 867 868 869 870 871 872 873 874 875 876 877 878 879 880 881 882 883 884 885 886 887 888 889 890 891 892 893 894 895 896 897 898 899 900 901 902 903 904 905 906 907 908 909 910 911 "
     ]
    }
   ],
   "source": [
    "# load logistic regression model from disk\n",
    "LR_model = pickle.load(open('logistic_model.sav', 'rb'))\n",
    "\n",
    "SIsequences = []\n",
    "for i in range(len(dfOuranno)):\n",
    "    print(i,end=\" \")\n",
    "    SIsequences.append(getSIseries(i,dfOuranno,\"LR\",LR_model))\n",
    "    \n",
    "with open(\"LR_seqs.csv\", \"w\", newline=\"\") as f:\n",
    "    writer = csv.writer(f)\n",
    "    writer.writerows(SIsequences)"
   ]
  },
  {
   "cell_type": "code",
   "execution_count": 21,
   "metadata": {},
   "outputs": [
    {
     "name": "stdout",
     "output_type": "stream",
     "text": [
      "(912, 16)\n"
     ]
    },
    {
     "data": {
      "text/html": [
       "<div>\n",
       "<style scoped>\n",
       "    .dataframe tbody tr th:only-of-type {\n",
       "        vertical-align: middle;\n",
       "    }\n",
       "\n",
       "    .dataframe tbody tr th {\n",
       "        vertical-align: top;\n",
       "    }\n",
       "\n",
       "    .dataframe thead th {\n",
       "        text-align: right;\n",
       "    }\n",
       "</style>\n",
       "<table border=\"1\" class=\"dataframe\">\n",
       "  <thead>\n",
       "    <tr style=\"text-align: right;\">\n",
       "      <th></th>\n",
       "      <th>RecordNum</th>\n",
       "      <th>PatientId</th>\n",
       "      <th>ICUStayId</th>\n",
       "      <th>Duration</th>\n",
       "      <th>Category</th>\n",
       "      <th>nRRraw</th>\n",
       "      <th>nRRfilt</th>\n",
       "      <th>nSpO2raw</th>\n",
       "      <th>nSpO2filt</th>\n",
       "      <th>nRD</th>\n",
       "      <th>fRR_b24</th>\n",
       "      <th>fRR_a24</th>\n",
       "      <th>fSP_b24</th>\n",
       "      <th>fSP_a24</th>\n",
       "      <th>fRD</th>\n",
       "      <th>Lead</th>\n",
       "    </tr>\n",
       "  </thead>\n",
       "  <tbody>\n",
       "    <tr>\n",
       "      <th>0</th>\n",
       "      <td>3887555</td>\n",
       "      <td>79</td>\n",
       "      <td>290076</td>\n",
       "      <td>38.200000</td>\n",
       "      <td>D</td>\n",
       "      <td>12</td>\n",
       "      <td>0</td>\n",
       "      <td>23</td>\n",
       "      <td>1</td>\n",
       "      <td>0</td>\n",
       "      <td>NaN</td>\n",
       "      <td>NaN</td>\n",
       "      <td>11.433333</td>\n",
       "      <td>NaN</td>\n",
       "      <td>NaN</td>\n",
       "      <td>NaN</td>\n",
       "    </tr>\n",
       "    <tr>\n",
       "      <th>1</th>\n",
       "      <td>3647298</td>\n",
       "      <td>85</td>\n",
       "      <td>291697</td>\n",
       "      <td>45.316667</td>\n",
       "      <td>B</td>\n",
       "      <td>191</td>\n",
       "      <td>1</td>\n",
       "      <td>8</td>\n",
       "      <td>0</td>\n",
       "      <td>0</td>\n",
       "      <td>1.0</td>\n",
       "      <td>NaN</td>\n",
       "      <td>NaN</td>\n",
       "      <td>NaN</td>\n",
       "      <td>NaN</td>\n",
       "      <td>NaN</td>\n",
       "    </tr>\n",
       "    <tr>\n",
       "      <th>2</th>\n",
       "      <td>3485814</td>\n",
       "      <td>123</td>\n",
       "      <td>227264</td>\n",
       "      <td>34.000000</td>\n",
       "      <td>C</td>\n",
       "      <td>0</td>\n",
       "      <td>0</td>\n",
       "      <td>0</td>\n",
       "      <td>0</td>\n",
       "      <td>0</td>\n",
       "      <td>NaN</td>\n",
       "      <td>NaN</td>\n",
       "      <td>NaN</td>\n",
       "      <td>NaN</td>\n",
       "      <td>NaN</td>\n",
       "      <td>NaN</td>\n",
       "    </tr>\n",
       "    <tr>\n",
       "      <th>3</th>\n",
       "      <td>3991520</td>\n",
       "      <td>124</td>\n",
       "      <td>255660</td>\n",
       "      <td>53.016667</td>\n",
       "      <td>F</td>\n",
       "      <td>0</td>\n",
       "      <td>0</td>\n",
       "      <td>1</td>\n",
       "      <td>0</td>\n",
       "      <td>0</td>\n",
       "      <td>NaN</td>\n",
       "      <td>NaN</td>\n",
       "      <td>NaN</td>\n",
       "      <td>NaN</td>\n",
       "      <td>NaN</td>\n",
       "      <td>NaN</td>\n",
       "    </tr>\n",
       "    <tr>\n",
       "      <th>4</th>\n",
       "      <td>3807277</td>\n",
       "      <td>124</td>\n",
       "      <td>255660</td>\n",
       "      <td>32.316667</td>\n",
       "      <td>F</td>\n",
       "      <td>0</td>\n",
       "      <td>0</td>\n",
       "      <td>0</td>\n",
       "      <td>0</td>\n",
       "      <td>0</td>\n",
       "      <td>NaN</td>\n",
       "      <td>NaN</td>\n",
       "      <td>NaN</td>\n",
       "      <td>NaN</td>\n",
       "      <td>NaN</td>\n",
       "      <td>NaN</td>\n",
       "    </tr>\n",
       "  </tbody>\n",
       "</table>\n",
       "</div>"
      ],
      "text/plain": [
       "   RecordNum  PatientId  ICUStayId   Duration Category  nRRraw  nRRfilt  \\\n",
       "0    3887555         79     290076  38.200000        D      12        0   \n",
       "1    3647298         85     291697  45.316667        B     191        1   \n",
       "2    3485814        123     227264  34.000000        C       0        0   \n",
       "3    3991520        124     255660  53.016667        F       0        0   \n",
       "4    3807277        124     255660  32.316667        F       0        0   \n",
       "\n",
       "   nSpO2raw  nSpO2filt  nRD  fRR_b24  fRR_a24    fSP_b24  fSP_a24  fRD  Lead  \n",
       "0        23          1    0      NaN      NaN  11.433333      NaN  NaN   NaN  \n",
       "1         8          0    0      1.0      NaN        NaN      NaN  NaN   NaN  \n",
       "2         0          0    0      NaN      NaN        NaN      NaN  NaN   NaN  \n",
       "3         1          0    0      NaN      NaN        NaN      NaN  NaN   NaN  \n",
       "4         0          0    0      NaN      NaN        NaN      NaN  NaN   NaN  "
      ]
     },
     "execution_count": 21,
     "metadata": {},
     "output_type": "execute_result"
    }
   ],
   "source": [
    "dfx = pd.read_csv('AlarmsInfo.csv',sep=',')\n",
    "print(np.shape(dfx))\n",
    "dfx.head()"
   ]
  },
  {
   "cell_type": "code",
   "execution_count": null,
   "metadata": {},
   "outputs": [],
   "source": [
    "for i in range(len(dfx)):\n",
    "    "
   ]
  },
  {
   "cell_type": "code",
   "execution_count": 35,
   "metadata": {},
   "outputs": [
    {
     "name": "stdout",
     "output_type": "stream",
     "text": [
      "0.5681193668688119,0.6272164956386903,0.6827428315092036,0.7335124768413398,0.778789974043816,0.8182804303336166,0.852060238527217,0.8804779147125106,0.9468374440014661,0.9579479269011252,0.9668177963309226,0.9718906378221028,0.9718906378221028,0.9718906378221028,0.9718906378221028\n",
      "[0.5681193668688119, 0.6272164956386903, 0.6827428315092036, 0.7335124768413398, 0.778789974043816, 0.8182804303336166, 0.852060238527217, 0.8804779147125106, 0.9468374440014661, 0.9579479269011252, 0.9668177963309226, 0.9718906378221028, 0.9718906378221028, 0.9718906378221028, 0.9718906378221028]\n",
      "15\n"
     ]
    }
   ],
   "source": [
    "f = open(\"LR_seqs.csv\", \"r\")\n",
    "x = f.readline().strip()\n",
    "print(x)\n",
    "z = [float(y) for y in x.split(\",\")]\n",
    "print(z)\n",
    "print(len(z))\n",
    "#for x in f:\n",
    "#    print(x.split(\",\"))"
   ]
  },
  {
   "cell_type": "code",
   "execution_count": 36,
   "metadata": {},
   "outputs": [
    {
     "name": "stdout",
     "output_type": "stream",
     "text": [
      "1 2 3 4 5 6 7 8 9 10 11 12 13 14 15 16 17 18 19 20 21 22 23 24 25 26 27 28 29 30 31 32 33 34 35 36 37 38 39 40 41 42 43 44 45 46 47 48 49 50 51 52 53 54 55 56 57 58 59 60 61 62 63 64 65 66 67 68 69 70 71 72 73 74 75 76 77 78 79 80 81 82 83 84 85 86 87 88 89 90 91 92 93 94 95 96 97 98 99 100 101 102 103 104 105 106 107 108 109 110 111 112 113 114 115 116 117 118 119 120 121 122 123 124 125 126 127 128 129 130 131 132 133 134 135 136 137 138 139 140 141 142 143 144 145 146 147 148 149 150 151 152 153 154 155 156 157 158 159 160 161 162 163 164 165 166 167 168 169 170 171 172 173 174 175 176 177 178 179 180 181 182 183 184 185 186 187 188 189 190 191 192 193 194 195 196 197 198 199 200 201 202 203 204 205 206 207 208 209 210 211 212 213 214 215 216 217 218 219 220 221 222 223 224 225 226 227 228 229 230 231 232 233 234 235 236 237 238 239 240 241 242 243 244 245 246 247 248 249 250 251 252 253 254 255 256 257 258 259 260 261 262 263 264 265 266 267 268 269 270 271 272 273 274 275 276 277 278 279 280 281 282 283 284 285 286 287 288 289 290 291 292 293 294 295 296 297 298 299 300 301 302 303 304 305 306 307 308 309 310 311 312 313 314 315 316 317 318 319 320 321 322 323 324 325 326 327 328 329 330 331 332 333 334 335 336 337 338 339 340 341 342 343 344 345 346 347 348 349 350 351 352 353 354 355 356 357 358 359 360 361 362 363 364 365 366 367 368 369 370 371 372 373 374 375 376 377 378 379 380 381 382 383 384 385 386 387 388 389 390 391 392 393 394 395 396 397 398 399 400 401 402 403 404 405 406 407 408 409 410 411 412 413 414 415 416 417 418 419 420 421 422 423 424 425 426 427 428 429 430 431 432 433 434 435 436 437 438 439 440 441 442 443 444 445 446 447 448 449 450 451 452 453 454 455 456 457 458 459 460 461 462 463 464 465 466 467 468 469 470 471 472 473 474 475 476 477 478 479 480 481 482 483 484 485 486 487 488 489 490 491 492 493 494 495 496 497 498 499 500 501 502 503 504 505 506 507 508 509 510 511 512 513 514 515 516 517 518 519 520 521 522 523 524 525 526 527 528 529 530 531 532 533 534 535 536 537 538 539 540 541 542 543 544 545 546 547 548 549 550 551 552 553 554 555 556 557 558 559 560 561 562 563 564 565 566 567 568 569 570 571 572 573 574 575 576 577 578 579 580 581 582 583 584 585 586 587 588 589 590 591 592 593 594 595 596 597 598 599 600 601 602 603 604 605 606 607 608 609 610 611 612 613 614 615 616 617 618 619 620 621 622 623 624 625 626 627 628 629 630 631 632 633 634 635 636 637 638 639 640 641 642 643 644 645 646 647 648 649 650 651 652 653 654 655 656 657 658 659 660 661 662 663 664 665 666 667 668 669 670 671 672 673 674 675 676 677 678 679 680 681 682 683 684 685 686 687 688 689 690 691 692 693 694 695 696 697 698 699 700 701 702 703 704 705 706 707 708 709 710 711 712 713 714 715 716 717 718 719 720 721 722 723 724 725 726 727 728 729 730 731 732 733 734 735 736 737 738 739 740 741 742 743 744 745 746 747 748 749 750 751 752 753 754 755 756 757 758 759 760 761 762 763 764 765 766 767 768 769 770 771 772 773 774 775 776 777 778 779 780 781 782 783 784 785 786 787 788 789 790 791 792 793 794 795 796 797 798 799 800 801 802 803 804 805 806 807 808 809 810 811 812 813 814 815 816 817 818 819 820 821 822 823 824 825 826 827 828 829 830 831 832 833 834 835 836 837 838 839 840 841 842 843 844 845 846 847 848 849 850 851 852 853 854 855 856 857 858 859 860 861 862 863 864 865 866 867 868 869 870 871 872 873 874 875 876 877 878 879 880 881 882 883 884 885 886 887 888 889 890 891 892 893 894 895 896 897 898 899 900 901 902 903 904 905 906 907 908 909 910 911 912 "
     ]
    }
   ],
   "source": [
    "f = open(\"LR_seqs.csv\", \"r\")\n",
    "l = f.readline().strip()\n",
    "i = 0\n",
    "thresh = 0.5\n",
    "TP = TN = P = N = 0\n",
    "while(l):\n",
    "    z = [float(y) for y in l.split(\",\")]\n",
    "    nAlarms = int(dfx.loc[i,'nRRfilt']) + int(dfx.loc[i,'nSpO2filt'])\n",
    "    RDAlarms = [float(ind)+24.0 for ind in range(len(z)) if z[ind]>=thresh]\n",
    "    nRDAlarms = len(RDAlarms)\n",
    "    if(len(RDAlarms)>0):\n",
    "        fRDAlarm = min(RDAlarms)\n",
    "    if(nAlarms > 0 and \n",
    "    print(i,end=\" \")\n",
    "    i+=1\n",
    "    l = f.readline().strip()"
   ]
  },
  {
   "cell_type": "code",
   "execution_count": null,
   "metadata": {},
   "outputs": [],
   "source": []
  }
 ],
 "metadata": {
  "kernelspec": {
   "display_name": "Python 3",
   "language": "python",
   "name": "python3"
  },
  "language_info": {
   "codemirror_mode": {
    "name": "ipython",
    "version": 3
   },
   "file_extension": ".py",
   "mimetype": "text/x-python",
   "name": "python",
   "nbconvert_exporter": "python",
   "pygments_lexer": "ipython3",
   "version": "3.7.5"
  }
 },
 "nbformat": 4,
 "nbformat_minor": 2
}
