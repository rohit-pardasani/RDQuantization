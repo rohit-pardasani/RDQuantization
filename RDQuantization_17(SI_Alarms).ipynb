{
 "cells": [
  {
   "cell_type": "code",
   "execution_count": 2,
   "metadata": {},
   "outputs": [],
   "source": [
    "import csv\n",
    "from RDFunctions import *\n",
    "# Go to each of 912 records\n",
    "# Get SI series for each record using each method\n",
    "# Then select a threshold and see sensitivity, specificity and lead time and penalized lead time for each"
   ]
  },
  {
   "cell_type": "code",
   "execution_count": 3,
   "metadata": {},
   "outputs": [],
   "source": [
    "def getSIseries(serial_id,dfOuranno,method,model):\n",
    "    OUTLIERSD = 2.5\n",
    "    LOWESSWINDOW = 3.0\n",
    "    record_name = dfOuranno.loc[serial_id,'RecordNum'] \n",
    "    patient_id = dfOuranno.loc[serial_id,'PatientId']\n",
    "    flname = './FinalRecords/'+str(record_name)+'n.hea'\n",
    "    recname = './FinalRecords/'+str(record_name)+'n'       \n",
    "    \n",
    "    [samples,R,S,H,firstline] = getIndexOfRRSpO2HR(flname)\n",
    "    rec =  wfdb.io.rdrecord(str(recname))\n",
    "    xrr = rec.p_signal[:,R]\n",
    "    xspo2 = rec.p_signal[:,S]\n",
    "    xhr = rec.p_signal[:,H]\n",
    "    TOTAL_LEN = len(xrr)\n",
    "    t = np.arange(0,TOTAL_LEN,1)\n",
    "    \n",
    "    [xrrnew,trrnew] = outlierRejector(xrr,t,OUTLIERSD,default=15.0)\n",
    "    [xspo2new,tspo2new] = outlierRejector(xspo2,t,OUTLIERSD, default=98.0)\n",
    "    [xhrnew,thrnew] = outlierRejector(xhr,t,OUTLIERSD)\n",
    "    \n",
    "    zrrnew = applyLowess(xrrnew,trrnew,LOWESSWINDOW*60)\n",
    "    zspo2new = applyLowess(xspo2new,tspo2new,LOWESSWINDOW*60)\n",
    "    zhrnew = applyLowess(xhrnew,thrnew,LOWESSWINDOW*60)\n",
    "    \n",
    "    tnew = zrrnew[:,0]/60.0\n",
    "    \n",
    "    rr_loess = zrrnew[:,1]\n",
    "    spo2_loess = zspo2new[:,1]\n",
    "        \n",
    "    bar_h = []\n",
    "    \n",
    "    if(method=='LR' or method=='LGB' or method=='MLP' or method=='SVM'):\n",
    "        for ii in range(24*60,TOTAL_LEN,60):\n",
    "            feature_array = getLongFeatures(rr_loess[(ii-24*60):ii],spo2_loess[(ii-24*60):ii])\n",
    "            feature_array = np.array(feature_array[0:12],dtype=np.float32)\n",
    "            predict = model.predict_proba(feature_array.reshape(1,-1))[0][1]\n",
    "            bar_h.append(predict)\n",
    "            \n",
    "    if(method=='CNN' or method=='LSTM'):\n",
    "        seg = np.zeros((1,1440,2),dtype=np.float64)\n",
    "        for ii in range(24*60,TOTAL_LEN,60):\n",
    "            seg[0,:,0] = (rr_loess[(ii-24*60):ii] - 25)/10\n",
    "            seg[0,:,1] = (spo2_loess[(ii-24*60):ii] - 93)/10\n",
    "            predict = model.predict(seg)[0,0]\n",
    "            bar_h.append(predict)\n",
    "        \n",
    "    return bar_h"
   ]
  },
  {
   "cell_type": "code",
   "execution_count": 4,
   "metadata": {},
   "outputs": [],
   "source": [
    "import pickle\n",
    "annofile = r'RecordsAnno4.csv'\n",
    "dfOuranno = pd.read_csv(annofile, encoding='iso-8859-1')  "
   ]
  },
  {
   "cell_type": "code",
   "execution_count": null,
   "metadata": {
    "scrolled": true
   },
   "outputs": [],
   "source": [
    "# load logistic regression model from disk\n",
    "LR_model = pickle.load(open('logistic_model.sav', 'rb'))\n",
    "\n",
    "SIsequences = []\n",
    "for i in range(len(dfOuranno)):\n",
    "    print(i,end=\" \")\n",
    "    SIsequences.append(getSIseries(i,dfOuranno,\"LR\",LR_model))\n",
    "    \n",
    "with open(\"LR_seqs.csv\", \"w\", newline=\"\") as f:\n",
    "    writer = csv.writer(f)\n",
    "    writer.writerows(SIsequences)"
   ]
  },
  {
   "cell_type": "code",
   "execution_count": 4,
   "metadata": {},
   "outputs": [
    {
     "name": "stdout",
     "output_type": "stream",
     "text": [
      "(912, 16)\n"
     ]
    },
    {
     "data": {
      "text/html": [
       "<div>\n",
       "<style scoped>\n",
       "    .dataframe tbody tr th:only-of-type {\n",
       "        vertical-align: middle;\n",
       "    }\n",
       "\n",
       "    .dataframe tbody tr th {\n",
       "        vertical-align: top;\n",
       "    }\n",
       "\n",
       "    .dataframe thead th {\n",
       "        text-align: right;\n",
       "    }\n",
       "</style>\n",
       "<table border=\"1\" class=\"dataframe\">\n",
       "  <thead>\n",
       "    <tr style=\"text-align: right;\">\n",
       "      <th></th>\n",
       "      <th>RecordNum</th>\n",
       "      <th>PatientId</th>\n",
       "      <th>ICUStayId</th>\n",
       "      <th>Duration</th>\n",
       "      <th>Category</th>\n",
       "      <th>nRRraw</th>\n",
       "      <th>nRRfilt</th>\n",
       "      <th>nSpO2raw</th>\n",
       "      <th>nSpO2filt</th>\n",
       "      <th>nRD</th>\n",
       "      <th>fRR_b24</th>\n",
       "      <th>fRR_a24</th>\n",
       "      <th>fSP_b24</th>\n",
       "      <th>fSP_a24</th>\n",
       "      <th>fRD</th>\n",
       "      <th>Lead</th>\n",
       "    </tr>\n",
       "  </thead>\n",
       "  <tbody>\n",
       "    <tr>\n",
       "      <th>0</th>\n",
       "      <td>3887555</td>\n",
       "      <td>79</td>\n",
       "      <td>290076</td>\n",
       "      <td>38.200000</td>\n",
       "      <td>D</td>\n",
       "      <td>12</td>\n",
       "      <td>0</td>\n",
       "      <td>23</td>\n",
       "      <td>1</td>\n",
       "      <td>0</td>\n",
       "      <td>NaN</td>\n",
       "      <td>NaN</td>\n",
       "      <td>11.433333</td>\n",
       "      <td>NaN</td>\n",
       "      <td>NaN</td>\n",
       "      <td>NaN</td>\n",
       "    </tr>\n",
       "    <tr>\n",
       "      <th>1</th>\n",
       "      <td>3647298</td>\n",
       "      <td>85</td>\n",
       "      <td>291697</td>\n",
       "      <td>45.316667</td>\n",
       "      <td>B</td>\n",
       "      <td>191</td>\n",
       "      <td>1</td>\n",
       "      <td>8</td>\n",
       "      <td>0</td>\n",
       "      <td>0</td>\n",
       "      <td>1.0</td>\n",
       "      <td>NaN</td>\n",
       "      <td>NaN</td>\n",
       "      <td>NaN</td>\n",
       "      <td>NaN</td>\n",
       "      <td>NaN</td>\n",
       "    </tr>\n",
       "    <tr>\n",
       "      <th>2</th>\n",
       "      <td>3485814</td>\n",
       "      <td>123</td>\n",
       "      <td>227264</td>\n",
       "      <td>34.000000</td>\n",
       "      <td>C</td>\n",
       "      <td>0</td>\n",
       "      <td>0</td>\n",
       "      <td>0</td>\n",
       "      <td>0</td>\n",
       "      <td>0</td>\n",
       "      <td>NaN</td>\n",
       "      <td>NaN</td>\n",
       "      <td>NaN</td>\n",
       "      <td>NaN</td>\n",
       "      <td>NaN</td>\n",
       "      <td>NaN</td>\n",
       "    </tr>\n",
       "    <tr>\n",
       "      <th>3</th>\n",
       "      <td>3991520</td>\n",
       "      <td>124</td>\n",
       "      <td>255660</td>\n",
       "      <td>53.016667</td>\n",
       "      <td>F</td>\n",
       "      <td>0</td>\n",
       "      <td>0</td>\n",
       "      <td>1</td>\n",
       "      <td>0</td>\n",
       "      <td>0</td>\n",
       "      <td>NaN</td>\n",
       "      <td>NaN</td>\n",
       "      <td>NaN</td>\n",
       "      <td>NaN</td>\n",
       "      <td>NaN</td>\n",
       "      <td>NaN</td>\n",
       "    </tr>\n",
       "    <tr>\n",
       "      <th>4</th>\n",
       "      <td>3807277</td>\n",
       "      <td>124</td>\n",
       "      <td>255660</td>\n",
       "      <td>32.316667</td>\n",
       "      <td>F</td>\n",
       "      <td>0</td>\n",
       "      <td>0</td>\n",
       "      <td>0</td>\n",
       "      <td>0</td>\n",
       "      <td>0</td>\n",
       "      <td>NaN</td>\n",
       "      <td>NaN</td>\n",
       "      <td>NaN</td>\n",
       "      <td>NaN</td>\n",
       "      <td>NaN</td>\n",
       "      <td>NaN</td>\n",
       "    </tr>\n",
       "  </tbody>\n",
       "</table>\n",
       "</div>"
      ],
      "text/plain": [
       "   RecordNum  PatientId  ICUStayId   Duration Category  nRRraw  nRRfilt  \\\n",
       "0    3887555         79     290076  38.200000        D      12        0   \n",
       "1    3647298         85     291697  45.316667        B     191        1   \n",
       "2    3485814        123     227264  34.000000        C       0        0   \n",
       "3    3991520        124     255660  53.016667        F       0        0   \n",
       "4    3807277        124     255660  32.316667        F       0        0   \n",
       "\n",
       "   nSpO2raw  nSpO2filt  nRD  fRR_b24  fRR_a24    fSP_b24  fSP_a24  fRD  Lead  \n",
       "0        23          1    0      NaN      NaN  11.433333      NaN  NaN   NaN  \n",
       "1         8          0    0      1.0      NaN        NaN      NaN  NaN   NaN  \n",
       "2         0          0    0      NaN      NaN        NaN      NaN  NaN   NaN  \n",
       "3         1          0    0      NaN      NaN        NaN      NaN  NaN   NaN  \n",
       "4         0          0    0      NaN      NaN        NaN      NaN  NaN   NaN  "
      ]
     },
     "execution_count": 4,
     "metadata": {},
     "output_type": "execute_result"
    }
   ],
   "source": [
    "dfx = pd.read_csv('AlarmsInfo.csv',sep=',')\n",
    "print(np.shape(dfx))\n",
    "dfx.head()"
   ]
  },
  {
   "cell_type": "code",
   "execution_count": 5,
   "metadata": {
    "scrolled": true
   },
   "outputs": [],
   "source": [
    "def analyseRDAlarmThresh(RDSeqfile):\n",
    "    f = open(RDSeqfile, \"r\")\n",
    "    dfx = pd.read_csv('AlarmsInfo.csv',sep=',')\n",
    "    for thresh in np.arange(0.1,1.0,0.1):\n",
    "        print(\"------thres=%f----------\"%thresh)\n",
    "        l = f.readline().strip()\n",
    "        i = 0\n",
    "        TP = TN = P = N = 0\n",
    "        while(l):\n",
    "            z = [float(y) for y in l.split(\",\")]\n",
    "            nAlarms = int(dfx.loc[i,'nRRfilt']) + int(dfx.loc[i,'nSpO2filt'])\n",
    "            if(nAlarms>0):\n",
    "                P+=1\n",
    "            if(nAlarms==0):\n",
    "                N+=1\n",
    "\n",
    "            RDAlarms = [float(ind)+24.0 for ind in range(len(z)) if z[ind]>=thresh]\n",
    "            nRDAlarms = len(RDAlarms)\n",
    "\n",
    "            if(nAlarms>0 and nRDAlarms>0):\n",
    "                TP+=1\n",
    "            if(nAlarms==0 and nRDAlarms==0):\n",
    "                TN+=1\n",
    "            i+=1\n",
    "            l = f.readline().strip()\n",
    "\n",
    "        print('Positive : ' + str(P))\n",
    "        print('True Positive : ' + str(TP))\n",
    "        print('Negative : ' + str(N))\n",
    "        print('True Negative : ' + str(TN))\n",
    "        sens = float(TP)/P\n",
    "        spec = float(TN)/N\n",
    "        print('Sensitivity :'+str(sens))\n",
    "        print('Specificity :'+str(spec))\n",
    "        print(\"Check threshold effectiveness : \" + str(sens-(1-spec)))\n",
    "        f.seek(0)\n"
   ]
  },
  {
   "cell_type": "code",
   "execution_count": 6,
   "metadata": {},
   "outputs": [],
   "source": [
    "# Create variable ffA (first filtered Alarm if it occurs after 24 hours)\n",
    "# Put the earliest of RR or SpO2 filtered after 24 alarm\n",
    "# If no alarm after 24.0 put NaN\n",
    "# If RDAlarm there then put the earliest one if not put NaN in fRD\n",
    "# Now calculate the lead time and penalized lead time\n",
    "import matplotlib.pyplot as plt\n",
    "import matplotlib\n",
    "\n",
    "def leadTimeAnalysis(RDSeqfile,thresh):\n",
    "    f = open(RDSeqfile, \"r\")\n",
    "    dfx = pd.read_csv('AlarmsInfo.csv',sep=',')\n",
    "    l = f.readline().strip()\n",
    "    i = 0\n",
    "    penLeadArr = []\n",
    "    leadArr = []\n",
    "    while(l):\n",
    "        ffA = np.nanmin([dfx.loc[i,\"fRR_a24\"], dfx.loc[i,\"fSP_a24\"]])\n",
    "        fRD = np.NaN\n",
    "\n",
    "        z = [float(y) for y in l.split(\",\")]\n",
    "        RDAlarms = [float(ind)+24.0 for ind in range(len(z)) if z[ind]>=thresh]\n",
    "        nRDAlarms = len(RDAlarms)\n",
    "        if(nRDAlarms>0):\n",
    "            fRD = min(RDAlarms)\n",
    "\n",
    "        if((not np.isnan(ffA)) and (not np.isnan(fRD))):\n",
    "            #print(str(ffA) + \"  \" + str(fRD))\n",
    "            lead = ffA - fRD\n",
    "            #print(lead)\n",
    "            penLeadArr.append(lead)\n",
    "            if(lead>0):\n",
    "                leadArr.append(lead)\n",
    "        i+=1\n",
    "        l = f.readline().strip()\n",
    "\n",
    "    print(len(leadArr))\n",
    "    print(len(penLeadArr))\n",
    "    print(sum(leadArr)/len(leadArr))\n",
    "    print(sum(penLeadArr)/len(penLeadArr))\n",
    "    # An \"interface\" to matplotlib.axes.Axes.hist() method\n",
    "    n, bins, patches = plt.hist(x=penLeadArr, bins=[-40,-5,0,1,6,12,24,96], color='#0504aa', alpha=0.7, rwidth=0.85)\n",
    "    plt.grid(axis='y', alpha=0.75)\n",
    "    font = {'size': 9, 'weight':'bold'}\n",
    "    matplotlib.rc('font', **font)\n",
    "    plt.xlabel('Lead(Hours)',fontdict={'fontsize': 13})\n",
    "    plt.ylabel('Frequency',fontdict={'fontsize': 13})\n",
    "    plt.title('Histogram of Penalized Lead Time',fontdict={'fontsize': 13})\n",
    "    #plt.text(23, 225, r'$\\mu=3.56$ hours')\n",
    "    maxfreq = n.max()\n",
    "    # Set a clean upper y-axis limit.\n",
    "    plt.ylim(ymax=100)"
   ]
  },
  {
   "cell_type": "code",
   "execution_count": 8,
   "metadata": {
    "scrolled": true
   },
   "outputs": [
    {
     "name": "stdout",
     "output_type": "stream",
     "text": [
      "------thres=0.100000----------\n",
      "Positive : 452\n",
      "True Positive : 451\n",
      "Negative : 460\n",
      "True Negative : 102\n",
      "Sensitivity :0.9977876106194691\n",
      "Specificity :0.2217391304347826\n",
      "Check threshold effectiveness : 0.21952674105425174\n",
      "------thres=0.200000----------\n",
      "Positive : 452\n",
      "True Positive : 447\n",
      "Negative : 460\n",
      "True Negative : 179\n",
      "Sensitivity :0.9889380530973452\n",
      "Specificity :0.38913043478260867\n",
      "Check threshold effectiveness : 0.37806848787995384\n",
      "------thres=0.300000----------\n",
      "Positive : 452\n",
      "True Positive : 441\n",
      "Negative : 460\n",
      "True Negative : 227\n",
      "Sensitivity :0.9756637168141593\n",
      "Specificity :0.4934782608695652\n",
      "Check threshold effectiveness : 0.46914197768372445\n",
      "------thres=0.400000----------\n",
      "Positive : 452\n",
      "True Positive : 437\n",
      "Negative : 460\n",
      "True Negative : 253\n",
      "Sensitivity :0.9668141592920354\n",
      "Specificity :0.55\n",
      "Check threshold effectiveness : 0.5168141592920354\n",
      "------thres=0.500000----------\n",
      "Positive : 452\n",
      "True Positive : 430\n",
      "Negative : 460\n",
      "True Negative : 283\n",
      "Sensitivity :0.9513274336283186\n",
      "Specificity :0.6152173913043478\n",
      "Check threshold effectiveness : 0.5665448249326664\n",
      "------thres=0.600000----------\n",
      "Positive : 452\n",
      "True Positive : 416\n",
      "Negative : 460\n",
      "True Negative : 317\n",
      "Sensitivity :0.9203539823008849\n",
      "Specificity :0.6891304347826087\n",
      "Check threshold effectiveness : 0.6094844170834937\n",
      "------thres=0.700000----------\n",
      "Positive : 452\n",
      "True Positive : 398\n",
      "Negative : 460\n",
      "True Negative : 353\n",
      "Sensitivity :0.8805309734513275\n",
      "Specificity :0.7673913043478261\n",
      "Check threshold effectiveness : 0.6479222777991536\n",
      "------thres=0.800000----------\n",
      "Positive : 452\n",
      "True Positive : 377\n",
      "Negative : 460\n",
      "True Negative : 384\n",
      "Sensitivity :0.834070796460177\n",
      "Specificity :0.8347826086956521\n",
      "Check threshold effectiveness : 0.6688534051558291\n",
      "------thres=0.900000----------\n",
      "Positive : 452\n",
      "True Positive : 334\n",
      "Negative : 460\n",
      "True Negative : 423\n",
      "Sensitivity :0.7389380530973452\n",
      "Specificity :0.9195652173913044\n",
      "Check threshold effectiveness : 0.6585032704886495\n"
     ]
    }
   ],
   "source": [
    "analyseRDAlarmThresh(\"LR_seqs.csv\")"
   ]
  },
  {
   "cell_type": "code",
   "execution_count": 9,
   "metadata": {},
   "outputs": [
    {
     "name": "stderr",
     "output_type": "stream",
     "text": [
      "/home/ubuntu/anaconda3/lib/python3.7/site-packages/ipykernel_launcher.py:17: RuntimeWarning: All-NaN axis encountered\n"
     ]
    },
    {
     "name": "stdout",
     "output_type": "stream",
     "text": [
      "185\n",
      "243\n",
      "9.790270270270264\n",
      "5.3676268861454\n"
     ]
    },
    {
     "data": {
      "image/png": "[encoded data removed]",
      "text/plain": [
       "<Figure size 432x288 with 1 Axes>"
      ]
     },
     "metadata": {
      "needs_background": "light"
     },
     "output_type": "display_data"
    }
   ],
   "source": [
    "leadTimeAnalysis(\"LR_seqs.csv\",thresh=0.8)"
   ]
  },
  {
   "cell_type": "code",
   "execution_count": 11,
   "metadata": {},
   "outputs": [
    {
     "data": {
      "application/vnd.jupyter.widget-view+json": {
       "model_id": "ae2ca9f63a9345888f981202f4434615",
       "version_major": 2,
       "version_minor": 0
      },
      "text/plain": [
       "HBox(children=(IntProgress(value=0, max=912), HTML(value='')))"
      ]
     },
     "metadata": {},
     "output_type": "display_data"
    },
    {
     "name": "stdout",
     "output_type": "stream",
     "text": [
      "\n"
     ]
    }
   ],
   "source": [
    "from tqdm.notebook import tqdm\n",
    "# load lgb model from disk\n",
    "LGB_model = pickle.load(open('lgb_model.sav', 'rb'))\n",
    "\n",
    "SIsequences = []\n",
    "for i in tqdm(range(len(dfOuranno))):\n",
    "    #print(i,end=\" \")\n",
    "    SIsequences.append(getSIseries(i,dfOuranno,\"LGB\",LGB_model))\n",
    "    \n",
    "with open(\"LGB_seqs.csv\", \"w\", newline=\"\") as f:\n",
    "    writer = csv.writer(f)\n",
    "    writer.writerows(SIsequences)"
   ]
  },
  {
   "cell_type": "code",
   "execution_count": 12,
   "metadata": {
    "scrolled": true
   },
   "outputs": [
    {
     "name": "stdout",
     "output_type": "stream",
     "text": [
      "------thres=0.100000----------\n",
      "Positive : 452\n",
      "True Positive : 447\n",
      "Negative : 460\n",
      "True Negative : 181\n",
      "Sensitivity :0.9889380530973452\n",
      "Specificity :0.3934782608695652\n",
      "Check threshold effectiveness : 0.38241631396691045\n",
      "------thres=0.200000----------\n",
      "Positive : 452\n",
      "True Positive : 447\n",
      "Negative : 460\n",
      "True Negative : 227\n",
      "Sensitivity :0.9889380530973452\n",
      "Specificity :0.4934782608695652\n",
      "Check threshold effectiveness : 0.4824163139669103\n",
      "------thres=0.300000----------\n",
      "Positive : 452\n",
      "True Positive : 441\n",
      "Negative : 460\n",
      "True Negative : 252\n",
      "Sensitivity :0.9756637168141593\n",
      "Specificity :0.5478260869565217\n",
      "Check threshold effectiveness : 0.523489803770681\n",
      "------thres=0.400000----------\n",
      "Positive : 452\n",
      "True Positive : 435\n",
      "Negative : 460\n",
      "True Negative : 275\n",
      "Sensitivity :0.9623893805309734\n",
      "Specificity :0.5978260869565217\n",
      "Check threshold effectiveness : 0.5602154674874952\n",
      "------thres=0.500000----------\n",
      "Positive : 452\n",
      "True Positive : 434\n",
      "Negative : 460\n",
      "True Negative : 286\n",
      "Sensitivity :0.9601769911504425\n",
      "Specificity :0.6217391304347826\n",
      "Check threshold effectiveness : 0.5819161215852251\n",
      "------thres=0.600000----------\n",
      "Positive : 452\n",
      "True Positive : 429\n",
      "Negative : 460\n",
      "True Negative : 314\n",
      "Sensitivity :0.9491150442477876\n",
      "Specificity :0.6826086956521739\n",
      "Check threshold effectiveness : 0.6317237398999614\n",
      "------thres=0.700000----------\n",
      "Positive : 452\n",
      "True Positive : 422\n",
      "Negative : 460\n",
      "True Negative : 329\n",
      "Sensitivity :0.9336283185840708\n",
      "Specificity :0.7152173913043478\n",
      "Check threshold effectiveness : 0.6488457098884186\n",
      "------thres=0.800000----------\n",
      "Positive : 452\n",
      "True Positive : 413\n",
      "Negative : 460\n",
      "True Negative : 351\n",
      "Sensitivity :0.9137168141592921\n",
      "Specificity :0.7630434782608696\n",
      "Check threshold effectiveness : 0.6767602924201617\n",
      "------thres=0.900000----------\n",
      "Positive : 452\n",
      "True Positive : 387\n",
      "Negative : 460\n",
      "True Negative : 379\n",
      "Sensitivity :0.8561946902654868\n",
      "Specificity :0.8239130434782609\n",
      "Check threshold effectiveness : 0.6801077337437477\n"
     ]
    }
   ],
   "source": [
    "analyseRDAlarmThresh(\"LGB_seqs.csv\")"
   ]
  },
  {
   "cell_type": "code",
   "execution_count": 13,
   "metadata": {},
   "outputs": [
    {
     "name": "stderr",
     "output_type": "stream",
     "text": [
      "/home/ubuntu/anaconda3/lib/python3.7/site-packages/ipykernel_launcher.py:17: RuntimeWarning: All-NaN axis encountered\n"
     ]
    },
    {
     "name": "stdout",
     "output_type": "stream",
     "text": [
      "186\n",
      "251\n",
      "9.862724014336912\n",
      "5.552456839309425\n"
     ]
    },
    {
     "data": {
      "image/png": "[encoded data removed]",
      "text/plain": [
       "<Figure size 432x288 with 1 Axes>"
      ]
     },
     "metadata": {
      "needs_background": "light"
     },
     "output_type": "display_data"
    }
   ],
   "source": [
    "leadTimeAnalysis(\"LGB_seqs.csv\",thresh=0.9)"
   ]
  },
  {
   "cell_type": "code",
   "execution_count": 14,
   "metadata": {},
   "outputs": [
    {
     "data": {
      "application/vnd.jupyter.widget-view+json": {
       "model_id": "4ddd35c676fa4540be539bf5d8170ca4",
       "version_major": 2,
       "version_minor": 0
      },
      "text/plain": [
       "HBox(children=(IntProgress(value=0, max=912), HTML(value='')))"
      ]
     },
     "metadata": {},
     "output_type": "display_data"
    },
    {
     "name": "stdout",
     "output_type": "stream",
     "text": [
      "\n"
     ]
    }
   ],
   "source": [
    "from tqdm.notebook import tqdm\n",
    "# load mlp model from disk\n",
    "MLP_model = pickle.load(open('mlp_model.sav', 'rb'))\n",
    "\n",
    "SIsequences = []\n",
    "for i in tqdm(range(len(dfOuranno))):\n",
    "    #print(i,end=\" \")\n",
    "    SIsequences.append(getSIseries(i,dfOuranno,\"MLP\",MLP_model))\n",
    "    \n",
    "with open(\"MLP_seqs.csv\", \"w\", newline=\"\") as f:\n",
    "    writer = csv.writer(f)\n",
    "    writer.writerows(SIsequences)"
   ]
  },
  {
   "cell_type": "code",
   "execution_count": 15,
   "metadata": {
    "scrolled": true
   },
   "outputs": [
    {
     "name": "stdout",
     "output_type": "stream",
     "text": [
      "------thres=0.100000----------\n",
      "Positive : 452\n",
      "True Positive : 437\n",
      "Negative : 460\n",
      "True Negative : 224\n",
      "Sensitivity :0.9668141592920354\n",
      "Specificity :0.48695652173913045\n",
      "Check threshold effectiveness : 0.4537706810311659\n",
      "------thres=0.200000----------\n",
      "Positive : 452\n",
      "True Positive : 435\n",
      "Negative : 460\n",
      "True Negative : 254\n",
      "Sensitivity :0.9623893805309734\n",
      "Specificity :0.5521739130434783\n",
      "Check threshold effectiveness : 0.5145632935744517\n",
      "------thres=0.300000----------\n",
      "Positive : 452\n",
      "True Positive : 431\n",
      "Negative : 460\n",
      "True Negative : 281\n",
      "Sensitivity :0.9535398230088495\n",
      "Specificity :0.6108695652173913\n",
      "Check threshold effectiveness : 0.5644093882262409\n",
      "------thres=0.400000----------\n",
      "Positive : 452\n",
      "True Positive : 426\n",
      "Negative : 460\n",
      "True Negative : 301\n",
      "Sensitivity :0.9424778761061947\n",
      "Specificity :0.6543478260869565\n",
      "Check threshold effectiveness : 0.5968257021931512\n",
      "------thres=0.500000----------\n",
      "Positive : 452\n",
      "True Positive : 423\n",
      "Negative : 460\n",
      "True Negative : 311\n",
      "Sensitivity :0.9358407079646017\n",
      "Specificity :0.6760869565217391\n",
      "Check threshold effectiveness : 0.6119276644863408\n",
      "------thres=0.600000----------\n",
      "Positive : 452\n",
      "True Positive : 417\n",
      "Negative : 460\n",
      "True Negative : 334\n",
      "Sensitivity :0.922566371681416\n",
      "Specificity :0.7260869565217392\n",
      "Check threshold effectiveness : 0.6486533282031551\n",
      "------thres=0.700000----------\n",
      "Positive : 452\n",
      "True Positive : 413\n",
      "Negative : 460\n",
      "True Negative : 352\n",
      "Sensitivity :0.9137168141592921\n",
      "Specificity :0.7652173913043478\n",
      "Check threshold effectiveness : 0.6789342054636399\n",
      "------thres=0.800000----------\n",
      "Positive : 452\n",
      "True Positive : 399\n",
      "Negative : 460\n",
      "True Negative : 364\n",
      "Sensitivity :0.8827433628318584\n",
      "Specificity :0.7913043478260869\n",
      "Check threshold effectiveness : 0.6740477106579453\n",
      "------thres=0.900000----------\n",
      "Positive : 452\n",
      "True Positive : 369\n",
      "Negative : 460\n",
      "True Negative : 389\n",
      "Sensitivity :0.8163716814159292\n",
      "Specificity :0.8456521739130435\n",
      "Check threshold effectiveness : 0.6620238553289727\n"
     ]
    }
   ],
   "source": [
    "analyseRDAlarmThresh(\"MLP_seqs.csv\")"
   ]
  },
  {
   "cell_type": "code",
   "execution_count": 16,
   "metadata": {},
   "outputs": [
    {
     "name": "stderr",
     "output_type": "stream",
     "text": [
      "/home/ubuntu/anaconda3/lib/python3.7/site-packages/ipykernel_launcher.py:17: RuntimeWarning: All-NaN axis encountered\n"
     ]
    },
    {
     "name": "stdout",
     "output_type": "stream",
     "text": [
      "215\n",
      "259\n",
      "9.91201550387597\n",
      "7.098906048906046\n"
     ]
    },
    {
     "data": {
      "image/png": "[encoded data removed]",
      "text/plain": [
       "<Figure size 432x288 with 1 Axes>"
      ]
     },
     "metadata": {
      "needs_background": "light"
     },
     "output_type": "display_data"
    }
   ],
   "source": [
    "leadTimeAnalysis(\"MLP_seqs.csv\",thresh=0.7)"
   ]
  },
  {
   "cell_type": "code",
   "execution_count": 17,
   "metadata": {},
   "outputs": [
    {
     "data": {
      "application/vnd.jupyter.widget-view+json": {
       "model_id": "cf52a86d19c444c58c281026aa0c33f1",
       "version_major": 2,
       "version_minor": 0
      },
      "text/plain": [
       "HBox(children=(IntProgress(value=0, max=912), HTML(value='')))"
      ]
     },
     "metadata": {},
     "output_type": "display_data"
    },
    {
     "name": "stdout",
     "output_type": "stream",
     "text": [
      "\n"
     ]
    }
   ],
   "source": [
    "from tqdm.notebook import tqdm\n",
    "# load svm model from disk\n",
    "SVM_model = pickle.load(open('svm_model.sav', 'rb'))\n",
    "\n",
    "SIsequences = []\n",
    "for i in tqdm(range(len(dfOuranno))):\n",
    "    #print(i,end=\" \")\n",
    "    SIsequences.append(getSIseries(i,dfOuranno,\"SVM\",SVM_model))\n",
    "    \n",
    "with open(\"SVM_seqs.csv\", \"w\", newline=\"\") as f:\n",
    "    writer = csv.writer(f)\n",
    "    writer.writerows(SIsequences)\n"
   ]
  },
  {
   "cell_type": "code",
   "execution_count": 7,
   "metadata": {
    "scrolled": true
   },
   "outputs": [
    {
     "name": "stdout",
     "output_type": "stream",
     "text": [
      "------thres=0.100000----------\n",
      "Positive : 452\n",
      "True Positive : 446\n",
      "Negative : 460\n",
      "True Negative : 187\n",
      "Sensitivity :0.9867256637168141\n",
      "Specificity :0.40652173913043477\n",
      "Check threshold effectiveness : 0.3932474028472489\n",
      "------thres=0.200000----------\n",
      "Positive : 452\n",
      "True Positive : 442\n",
      "Negative : 460\n",
      "True Negative : 229\n",
      "Sensitivity :0.9778761061946902\n",
      "Specificity :0.49782608695652175\n",
      "Check threshold effectiveness : 0.475702193151212\n",
      "------thres=0.300000----------\n",
      "Positive : 452\n",
      "True Positive : 437\n",
      "Negative : 460\n",
      "True Negative : 253\n",
      "Sensitivity :0.9668141592920354\n",
      "Specificity :0.55\n",
      "Check threshold effectiveness : 0.5168141592920354\n",
      "------thres=0.400000----------\n",
      "Positive : 452\n",
      "True Positive : 434\n",
      "Negative : 460\n",
      "True Negative : 265\n",
      "Sensitivity :0.9601769911504425\n",
      "Specificity :0.5760869565217391\n",
      "Check threshold effectiveness : 0.5362639476721817\n",
      "------thres=0.500000----------\n",
      "Positive : 452\n",
      "True Positive : 434\n",
      "Negative : 460\n",
      "True Negative : 283\n",
      "Sensitivity :0.9601769911504425\n",
      "Specificity :0.6152173913043478\n",
      "Check threshold effectiveness : 0.5753943824547904\n",
      "------thres=0.600000----------\n",
      "Positive : 452\n",
      "True Positive : 428\n",
      "Negative : 460\n",
      "True Negative : 297\n",
      "Sensitivity :0.9469026548672567\n",
      "Specificity :0.6456521739130435\n",
      "Check threshold effectiveness : 0.5925548287803002\n",
      "------thres=0.700000----------\n",
      "Positive : 452\n",
      "True Positive : 420\n",
      "Negative : 460\n",
      "True Negative : 313\n",
      "Sensitivity :0.9292035398230089\n",
      "Specificity :0.6804347826086956\n",
      "Check threshold effectiveness : 0.6096383224317045\n",
      "------thres=0.800000----------\n",
      "Positive : 452\n",
      "True Positive : 410\n",
      "Negative : 460\n",
      "True Negative : 325\n",
      "Sensitivity :0.9070796460176991\n",
      "Specificity :0.7065217391304348\n",
      "Check threshold effectiveness : 0.6136013851481339\n",
      "------thres=0.900000----------\n",
      "Positive : 452\n",
      "True Positive : 356\n",
      "Negative : 460\n",
      "True Negative : 351\n",
      "Sensitivity :0.7876106194690266\n",
      "Specificity :0.7630434782608696\n",
      "Check threshold effectiveness : 0.5506540977298962\n"
     ]
    }
   ],
   "source": [
    "analyseRDAlarmThresh(\"SVM_seqs.csv\")"
   ]
  },
  {
   "cell_type": "code",
   "execution_count": 8,
   "metadata": {},
   "outputs": [
    {
     "name": "stderr",
     "output_type": "stream",
     "text": [
      "/home/ubuntu/anaconda3/lib/python3.7/site-packages/ipykernel_launcher.py:17: RuntimeWarning: All-NaN axis encountered\n"
     ]
    },
    {
     "name": "stdout",
     "output_type": "stream",
     "text": [
      "219\n",
      "265\n",
      "10.751445966514462\n",
      "8.032201257861633\n"
     ]
    },
    {
     "data": {
      "image/png": "[encoded data removed]",
      "text/plain": [
       "<Figure size 432x288 with 1 Axes>"
      ]
     },
     "metadata": {
      "needs_background": "light"
     },
     "output_type": "display_data"
    }
   ],
   "source": [
    "leadTimeAnalysis(\"SVM_seqs.csv\",thresh=0.8)"
   ]
  },
  {
   "cell_type": "code",
   "execution_count": 9,
   "metadata": {},
   "outputs": [
    {
     "data": {
      "application/vnd.jupyter.widget-view+json": {
       "model_id": "088a65875a3346a99e93122dedf35d31",
       "version_major": 2,
       "version_minor": 0
      },
      "text/plain": [
       "HBox(children=(IntProgress(value=0, max=912), HTML(value='')))"
      ]
     },
     "metadata": {},
     "output_type": "display_data"
    },
    {
     "name": "stdout",
     "output_type": "stream",
     "text": [
      "\n"
     ]
    }
   ],
   "source": [
    "from tqdm.notebook import tqdm\n",
    "import tensorflow.keras as ks\n",
    "\n",
    "# load CNN model from disk\n",
    "CNN_model = ks.models.load_model('QuantCNN.h5')\n",
    "\n",
    "SIsequences = []\n",
    "for i in tqdm(range(len(dfOuranno))):\n",
    "    #print(i,end=\" \")\n",
    "    SIsequences.append(getSIseries(i,dfOuranno,\"CNN\",CNN_model))\n",
    "    \n",
    "with open(\"CNN_seqs.csv\", \"w\", newline=\"\") as f:\n",
    "    writer = csv.writer(f)\n",
    "    writer.writerows(SIsequences)\n"
   ]
  },
  {
   "cell_type": "code",
   "execution_count": 10,
   "metadata": {
    "scrolled": true
   },
   "outputs": [
    {
     "name": "stdout",
     "output_type": "stream",
     "text": [
      "------thres=0.100000----------\n",
      "Positive : 452\n",
      "True Positive : 451\n",
      "Negative : 460\n",
      "True Negative : 55\n",
      "Sensitivity :0.9977876106194691\n",
      "Specificity :0.11956521739130435\n",
      "Check threshold effectiveness : 0.1173528280107734\n",
      "------thres=0.200000----------\n",
      "Positive : 452\n",
      "True Positive : 446\n",
      "Negative : 460\n",
      "True Negative : 153\n",
      "Sensitivity :0.9867256637168141\n",
      "Specificity :0.33260869565217394\n",
      "Check threshold effectiveness : 0.319334359368988\n",
      "------thres=0.300000----------\n",
      "Positive : 452\n",
      "True Positive : 440\n",
      "Negative : 460\n",
      "True Negative : 231\n",
      "Sensitivity :0.9734513274336283\n",
      "Specificity :0.5021739130434782\n",
      "Check threshold effectiveness : 0.4756252404771065\n",
      "------thres=0.400000----------\n",
      "Positive : 452\n",
      "True Positive : 431\n",
      "Negative : 460\n",
      "True Negative : 264\n",
      "Sensitivity :0.9535398230088495\n",
      "Specificity :0.5739130434782609\n",
      "Check threshold effectiveness : 0.5274528664871104\n",
      "------thres=0.500000----------\n",
      "Positive : 452\n",
      "True Positive : 413\n",
      "Negative : 460\n",
      "True Negative : 316\n",
      "Sensitivity :0.9137168141592921\n",
      "Specificity :0.6869565217391305\n",
      "Check threshold effectiveness : 0.6006733358984225\n",
      "------thres=0.600000----------\n",
      "Positive : 452\n",
      "True Positive : 407\n",
      "Negative : 460\n",
      "True Negative : 355\n",
      "Sensitivity :0.9004424778761062\n",
      "Specificity :0.7717391304347826\n",
      "Check threshold effectiveness : 0.6721816083108888\n",
      "------thres=0.700000----------\n",
      "Positive : 452\n",
      "True Positive : 391\n",
      "Negative : 460\n",
      "True Negative : 390\n",
      "Sensitivity :0.8650442477876106\n",
      "Specificity :0.8478260869565217\n",
      "Check threshold effectiveness : 0.7128703347441323\n",
      "------thres=0.800000----------\n",
      "Positive : 452\n",
      "True Positive : 365\n",
      "Negative : 460\n",
      "True Negative : 415\n",
      "Sensitivity :0.8075221238938053\n",
      "Specificity :0.9021739130434783\n",
      "Check threshold effectiveness : 0.7096960369372836\n",
      "------thres=0.900000----------\n",
      "Positive : 452\n",
      "True Positive : 297\n",
      "Negative : 460\n",
      "True Negative : 434\n",
      "Sensitivity :0.6570796460176991\n",
      "Specificity :0.9434782608695652\n",
      "Check threshold effectiveness : 0.6005579068872643\n"
     ]
    }
   ],
   "source": [
    "analyseRDAlarmThresh(\"CNN_seqs.csv\")"
   ]
  },
  {
   "cell_type": "code",
   "execution_count": 11,
   "metadata": {},
   "outputs": [
    {
     "name": "stderr",
     "output_type": "stream",
     "text": [
      "/home/ubuntu/anaconda3/lib/python3.7/site-packages/ipykernel_launcher.py:17: RuntimeWarning: All-NaN axis encountered\n"
     ]
    },
    {
     "name": "stdout",
     "output_type": "stream",
     "text": [
      "180\n",
      "252\n",
      "9.900185185185183\n",
      "5.534854497354494\n"
     ]
    },
    {
     "data": {
      "image/png": "[encoded data removed]",
      "text/plain": [
       "<Figure size 432x288 with 1 Axes>"
      ]
     },
     "metadata": {
      "needs_background": "light"
     },
     "output_type": "display_data"
    }
   ],
   "source": [
    "leadTimeAnalysis(\"CNN_seqs.csv\",thresh=0.7)"
   ]
  },
  {
   "cell_type": "code",
   "execution_count": 12,
   "metadata": {},
   "outputs": [
    {
     "data": {
      "application/vnd.jupyter.widget-view+json": {
       "model_id": "b5d4835959c64a559830995cba437aff",
       "version_major": 2,
       "version_minor": 0
      },
      "text/plain": [
       "HBox(children=(IntProgress(value=0, max=912), HTML(value='')))"
      ]
     },
     "metadata": {},
     "output_type": "display_data"
    },
    {
     "name": "stdout",
     "output_type": "stream",
     "text": [
      "\n"
     ]
    }
   ],
   "source": [
    "from tqdm.notebook import tqdm\n",
    "import tensorflow.keras as ks\n",
    "\n",
    "# load CNN model from disk\n",
    "LSTM_model = ks.models.load_model('QuantLSTM.h5')\n",
    "\n",
    "SIsequences = []\n",
    "for i in tqdm(range(len(dfOuranno))):\n",
    "    #print(i,end=\" \")\n",
    "    SIsequences.append(getSIseries(i,dfOuranno,\"LSTM\",LSTM_model))\n",
    "    \n",
    "with open(\"LSTM_seqs.csv\", \"w\", newline=\"\") as f:\n",
    "    writer = csv.writer(f)\n",
    "    writer.writerows(SIsequences)\n"
   ]
  },
  {
   "cell_type": "code",
   "execution_count": 13,
   "metadata": {
    "scrolled": true
   },
   "outputs": [
    {
     "name": "stdout",
     "output_type": "stream",
     "text": [
      "------thres=0.100000----------\n",
      "Positive : 452\n",
      "True Positive : 452\n",
      "Negative : 460\n",
      "True Negative : 37\n",
      "Sensitivity :1.0\n",
      "Specificity :0.08043478260869565\n",
      "Check threshold effectiveness : 0.08043478260869563\n",
      "------thres=0.200000----------\n",
      "Positive : 452\n",
      "True Positive : 448\n",
      "Negative : 460\n",
      "True Negative : 228\n",
      "Sensitivity :0.9911504424778761\n",
      "Specificity :0.4956521739130435\n",
      "Check threshold effectiveness : 0.4868026163909196\n",
      "------thres=0.300000----------\n",
      "Positive : 452\n",
      "True Positive : 444\n",
      "Negative : 460\n",
      "True Negative : 355\n",
      "Sensitivity :0.9823008849557522\n",
      "Specificity :0.7717391304347826\n",
      "Check threshold effectiveness : 0.7540400153905348\n",
      "------thres=0.400000----------\n",
      "Positive : 452\n",
      "True Positive : 438\n",
      "Negative : 460\n",
      "True Negative : 394\n",
      "Sensitivity :0.9690265486725663\n",
      "Specificity :0.8565217391304348\n",
      "Check threshold effectiveness : 0.8255482878030012\n",
      "------thres=0.500000----------\n",
      "Positive : 452\n",
      "True Positive : 437\n",
      "Negative : 460\n",
      "True Negative : 405\n",
      "Sensitivity :0.9668141592920354\n",
      "Specificity :0.8804347826086957\n",
      "Check threshold effectiveness : 0.8472489419007311\n",
      "------thres=0.600000----------\n",
      "Positive : 452\n",
      "True Positive : 436\n",
      "Negative : 460\n",
      "True Negative : 407\n",
      "Sensitivity :0.9646017699115044\n",
      "Specificity :0.8847826086956522\n",
      "Check threshold effectiveness : 0.8493843786071565\n",
      "------thres=0.700000----------\n",
      "Positive : 452\n",
      "True Positive : 436\n",
      "Negative : 460\n",
      "True Negative : 408\n",
      "Sensitivity :0.9646017699115044\n",
      "Specificity :0.8869565217391304\n",
      "Check threshold effectiveness : 0.8515582916506348\n",
      "------thres=0.800000----------\n",
      "Positive : 452\n",
      "True Positive : 412\n",
      "Negative : 460\n",
      "True Negative : 418\n",
      "Sensitivity :0.911504424778761\n",
      "Specificity :0.908695652173913\n",
      "Check threshold effectiveness : 0.820200076952674\n",
      "------thres=0.900000----------\n",
      "Positive : 452\n",
      "True Positive : 200\n",
      "Negative : 460\n",
      "True Negative : 459\n",
      "Sensitivity :0.4424778761061947\n",
      "Specificity :0.9978260869565218\n",
      "Check threshold effectiveness : 0.44030396306271646\n"
     ]
    }
   ],
   "source": [
    "analyseRDAlarmThresh(\"LSTM_seqs.csv\")"
   ]
  },
  {
   "cell_type": "code",
   "execution_count": 14,
   "metadata": {},
   "outputs": [
    {
     "name": "stderr",
     "output_type": "stream",
     "text": [
      "/home/ubuntu/anaconda3/lib/python3.7/site-packages/ipykernel_launcher.py:17: RuntimeWarning: All-NaN axis encountered\n"
     ]
    },
    {
     "name": "stdout",
     "output_type": "stream",
     "text": [
      "203\n",
      "268\n",
      "9.85164203612479\n",
      "7.103233830845769\n"
     ]
    },
    {
     "data": {
      "image/png": "[encoded data removed]",
      "text/plain": [
       "<Figure size 432x288 with 1 Axes>"
      ]
     },
     "metadata": {
      "needs_background": "light"
     },
     "output_type": "display_data"
    }
   ],
   "source": [
    "leadTimeAnalysis(\"LSTM_seqs.csv\",thresh=0.7)"
   ]
  },
  {
   "cell_type": "code",
   "execution_count": null,
   "metadata": {},
   "outputs": [],
   "source": []
  }
 ],
 "metadata": {
  "kernelspec": {
   "display_name": "Python 3",
   "language": "python",
   "name": "python3"
  },
  "language_info": {
   "codemirror_mode": {
    "name": "ipython",
    "version": 3
   },
   "file_extension": ".py",
   "mimetype": "text/x-python",
   "name": "python",
   "nbconvert_exporter": "python",
   "pygments_lexer": "ipython3",
   "version": "3.7.5"
  }
 },
 "nbformat": 4,
 "nbformat_minor": 2
}
